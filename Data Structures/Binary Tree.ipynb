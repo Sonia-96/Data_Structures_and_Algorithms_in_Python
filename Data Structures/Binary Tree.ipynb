{
 "cells": [
  {
   "cell_type": "markdown",
   "metadata": {},
   "source": [
    "# 二叉树和二叉搜索树"
   ]
  },
  {
   "cell_type": "markdown",
   "metadata": {},
   "source": [
    "## 1 - 二叉树的表示"
   ]
  },
  {
   "cell_type": "markdown",
   "metadata": {},
   "source": [
    "### 1.1 - 链式储存法"
   ]
  },
  {
   "cell_type": "code",
   "execution_count": 1,
   "metadata": {},
   "outputs": [],
   "source": [
    "class TreeNode:\n",
    "    def __init__(self, val):\n",
    "        self.val = val\n",
    "        self.left = None\n",
    "        self.right = None\n",
    "        self.parent = None # optional"
   ]
  },
  {
   "cell_type": "raw",
   "metadata": {},
   "source": [
    "二叉树样例\n",
    "        1\n",
    "       / \\\n",
    "      2   3\n",
    "     /   / \\\n",
    "    4   5   6\n",
    "     \\     /\n",
    "      7    8"
   ]
  },
  {
   "cell_type": "code",
   "execution_count": 2,
   "metadata": {},
   "outputs": [],
   "source": [
    "# 创建二叉树\n",
    "n1 = TreeNode(1)\n",
    "n2 = TreeNode(2)\n",
    "n3 = TreeNode(3)\n",
    "n4 = TreeNode(4)\n",
    "n5 = TreeNode(5)\n",
    "n6 = TreeNode(6)\n",
    "n7 = TreeNode(7)\n",
    "n8 = TreeNode(8)\n",
    "n1.left, n1.right = n2, n3\n",
    "n2.left = n4\n",
    "n3.left, n3.right = n5, n6\n",
    "n4.right = n7\n",
    "n6.left = n8"
   ]
  },
  {
   "cell_type": "markdown",
   "metadata": {},
   "source": [
    "### 1.2 - 顺序储存法（只适用于完全二叉树）"
   ]
  },
  {
   "cell_type": "markdown",
   "metadata": {},
   "source": [
    "用数组按层次从左到右储存结点。如果数组的下标从0开始，那么，对于结点 i：\n",
    "* 父结点的下标：(i - 1)//2\n",
    "* 左节点的下标：2 * i + 1\n",
    "* 右孩子的下标：2 * i + 2"
   ]
  },
  {
   "cell_type": "markdown",
   "metadata": {},
   "source": [
    "## 2 - 二叉树的性质 "
   ]
  },
  {
   "cell_type": "markdown",
   "metadata": {},
   "source": [
    "### 2.1 - 高度 "
   ]
  },
  {
   "cell_type": "markdown",
   "metadata": {},
   "source": [
    "定义：根结点到叶结点的最长路径所包含的边数"
   ]
  },
  {
   "cell_type": "code",
   "execution_count": 3,
   "metadata": {},
   "outputs": [],
   "source": [
    "# 递归\n",
    "def height_recursion(root):\n",
    "    if not root:\n",
    "        return 0\n",
    "    return 1 + max(height_recursion(root.left), height_recursion(root.right))"
   ]
  },
  {
   "cell_type": "code",
   "execution_count": 4,
   "metadata": {},
   "outputs": [
    {
     "data": {
      "text/plain": [
       "4"
      ]
     },
     "execution_count": 4,
     "metadata": {},
     "output_type": "execute_result"
    }
   ],
   "source": [
    "height_recursion(n1)"
   ]
  },
  {
   "cell_type": "code",
   "execution_count": 5,
   "metadata": {},
   "outputs": [],
   "source": [
    "# 迭代\n",
    "# 借助队列进行层次遍历，每遍历完一层，高度+1\n",
    "from queue import Queue\n",
    "def height_iteration(root):\n",
    "    if not root:\n",
    "        return 0\n",
    "    q = Queue()\n",
    "    q.put(root)\n",
    "    height = 0\n",
    "    while not q.empty():\n",
    "        for _ in range(q.qsize()):\n",
    "            node = q.get()\n",
    "            if node.left:\n",
    "                q.put(node.left)\n",
    "            if node.right:\n",
    "                q.put(node.right)\n",
    "        height += 1\n",
    "    return height"
   ]
  },
  {
   "cell_type": "code",
   "execution_count": 6,
   "metadata": {},
   "outputs": [
    {
     "data": {
      "text/plain": [
       "4"
      ]
     },
     "execution_count": 6,
     "metadata": {},
     "output_type": "execute_result"
    }
   ],
   "source": [
    "height_iteration(n1)"
   ]
  },
  {
   "cell_type": "markdown",
   "metadata": {},
   "source": [
    "### 2. size"
   ]
  },
  {
   "cell_type": "markdown",
   "metadata": {},
   "source": [
    "定义：结点总数"
   ]
  },
  {
   "cell_type": "code",
   "execution_count": 7,
   "metadata": {},
   "outputs": [],
   "source": [
    "# 递归\n",
    "def size_recursion(root):\n",
    "    if not root:\n",
    "        return 0\n",
    "    return 1 + size_recursion(root.left) + size_recursion(root.right)"
   ]
  },
  {
   "cell_type": "code",
   "execution_count": 8,
   "metadata": {},
   "outputs": [
    {
     "data": {
      "text/plain": [
       "8"
      ]
     },
     "execution_count": 8,
     "metadata": {},
     "output_type": "execute_result"
    }
   ],
   "source": [
    "size_recursion(n1)"
   ]
  },
  {
   "cell_type": "code",
   "execution_count": 9,
   "metadata": {},
   "outputs": [],
   "source": [
    "# 迭代\n",
    "from queue import Queue\n",
    "def size_iteration(root):\n",
    "    if not root:\n",
    "        return 0\n",
    "    q = Queue()\n",
    "    q.put(root)\n",
    "    size = 1\n",
    "    while not q.empty():\n",
    "        for _ in range(q.qsize()):\n",
    "            node = q.get()\n",
    "            if node.left:\n",
    "                q.put(node.left)\n",
    "                size += 1\n",
    "            if node.right:\n",
    "                q.put(node.right)\n",
    "                size += 1\n",
    "    return size"
   ]
  },
  {
   "cell_type": "code",
   "execution_count": 10,
   "metadata": {},
   "outputs": [
    {
     "data": {
      "text/plain": [
       "8"
      ]
     },
     "execution_count": 10,
     "metadata": {},
     "output_type": "execute_result"
    }
   ],
   "source": [
    "size_iteration(n1)"
   ]
  },
  {
   "cell_type": "markdown",
   "metadata": {},
   "source": [
    "## 3 - 二叉树的遍历 "
   ]
  },
  {
   "cell_type": "markdown",
   "metadata": {},
   "source": [
    "### 3.1 - 前序遍历"
   ]
  },
  {
   "cell_type": "code",
   "execution_count": 11,
   "metadata": {},
   "outputs": [],
   "source": [
    "# 递归\n",
    "def pre_order_recursion(root):\n",
    "    if not root:\n",
    "        return \n",
    "    print(root.val, end=' ')\n",
    "    pre_order_recursion(root.left)\n",
    "    pre_order_recursion(root.right)"
   ]
  },
  {
   "cell_type": "code",
   "execution_count": 12,
   "metadata": {
    "scrolled": true
   },
   "outputs": [
    {
     "name": "stdout",
     "output_type": "stream",
     "text": [
      "1 2 4 7 3 5 6 8 "
     ]
    }
   ],
   "source": [
    "pre_order_recursion(n1)"
   ]
  },
  {
   "cell_type": "code",
   "execution_count": 13,
   "metadata": {},
   "outputs": [],
   "source": [
    "# 迭代\n",
    "def pre_order_iteration(root):\n",
    "    stack = []\n",
    "    while stack or root:\n",
    "        while root:\n",
    "            print(root.val, end=' ')\n",
    "            stack.append(root.right)\n",
    "            root = root.left\n",
    "        root = stack.pop()"
   ]
  },
  {
   "cell_type": "code",
   "execution_count": 14,
   "metadata": {},
   "outputs": [
    {
     "name": "stdout",
     "output_type": "stream",
     "text": [
      "1 2 4 7 3 5 6 8 "
     ]
    }
   ],
   "source": [
    "pre_order_iteration(n1)"
   ]
  },
  {
   "cell_type": "markdown",
   "metadata": {},
   "source": [
    "### 3.2 - 中序遍历"
   ]
  },
  {
   "cell_type": "code",
   "execution_count": 15,
   "metadata": {},
   "outputs": [],
   "source": [
    "# 递归\n",
    "def in_order_recursion(root):\n",
    "    if not root:\n",
    "        return \n",
    "    in_order_recursion(root.left)\n",
    "    print(root.val, end=' ')\n",
    "    in_order_recursion(root.right)"
   ]
  },
  {
   "cell_type": "code",
   "execution_count": 16,
   "metadata": {
    "scrolled": true
   },
   "outputs": [
    {
     "name": "stdout",
     "output_type": "stream",
     "text": [
      "4 7 2 1 5 3 8 6 "
     ]
    }
   ],
   "source": [
    "in_order_recursion(n1)"
   ]
  },
  {
   "cell_type": "code",
   "execution_count": 17,
   "metadata": {},
   "outputs": [],
   "source": [
    "# 迭代\n",
    "def in_order_iteration(root):\n",
    "    stack = []\n",
    "    while stack or root:\n",
    "        while root:\n",
    "            stack.append(root)\n",
    "            root = root.left\n",
    "        root = stack.pop()\n",
    "        print(root.val, end=' ')\n",
    "        root = root.right"
   ]
  },
  {
   "cell_type": "code",
   "execution_count": 18,
   "metadata": {},
   "outputs": [
    {
     "name": "stdout",
     "output_type": "stream",
     "text": [
      "4 7 2 1 5 3 8 6 "
     ]
    }
   ],
   "source": [
    "in_order_iteration(n1)"
   ]
  },
  {
   "cell_type": "markdown",
   "metadata": {},
   "source": [
    "### 3.3 - 后序遍历 "
   ]
  },
  {
   "cell_type": "code",
   "execution_count": 19,
   "metadata": {},
   "outputs": [],
   "source": [
    "# 递归\n",
    "def post_order_recursion(root):\n",
    "    if not root:\n",
    "        return \n",
    "    post_order_recursion(root.left)\n",
    "    post_order_recursion(root.right)\n",
    "    print(root.val, end=' ')"
   ]
  },
  {
   "cell_type": "code",
   "execution_count": 20,
   "metadata": {
    "scrolled": true
   },
   "outputs": [
    {
     "name": "stdout",
     "output_type": "stream",
     "text": [
      "7 4 2 5 8 6 3 1 "
     ]
    }
   ],
   "source": [
    "post_order_recursion(n1)"
   ]
  },
  {
   "cell_type": "code",
   "execution_count": 21,
   "metadata": {},
   "outputs": [],
   "source": [
    "# 迭代\n",
    "def post_order_iteration(root):\n",
    "    if not root:\n",
    "        return\n",
    "    stack = [root]\n",
    "    prev = None\n",
    "    while stack:\n",
    "        while stack[-1].left:\n",
    "            stack.append(stack[-1].left)\n",
    "        while stack:\n",
    "            if stack[-1].right == prev or stack[-1].right is None:\n",
    "                prev = stack.pop()\n",
    "                print(prev.val, end=' ')\n",
    "            else:\n",
    "                stack.append(stack[-1].right)\n",
    "                break"
   ]
  },
  {
   "cell_type": "code",
   "execution_count": 22,
   "metadata": {},
   "outputs": [
    {
     "name": "stdout",
     "output_type": "stream",
     "text": [
      "7 4 2 5 8 6 3 1 "
     ]
    }
   ],
   "source": [
    "post_order_iteration(n1)"
   ]
  },
  {
   "cell_type": "markdown",
   "metadata": {},
   "source": [
    "### 3.4 - 层次遍历"
   ]
  },
  {
   "cell_type": "code",
   "execution_count": 23,
   "metadata": {},
   "outputs": [],
   "source": [
    "# 用一个队列实现\n",
    "from queue import Queue\n",
    "def level_traversal_2(root):\n",
    "    if not root:\n",
    "        return\n",
    "    q = Queue()\n",
    "    q.put(root)\n",
    "    while not q.empty():\n",
    "        node = q.get()\n",
    "        print(node.val, end=' ')\n",
    "        if node.left:\n",
    "            q.put(node.left)\n",
    "        if node.right:\n",
    "            q.put(node.right)"
   ]
  },
  {
   "cell_type": "code",
   "execution_count": 24,
   "metadata": {},
   "outputs": [
    {
     "name": "stdout",
     "output_type": "stream",
     "text": [
      "1 2 3 4 5 6 7 8 "
     ]
    }
   ],
   "source": [
    "level_traversal_2(n1)"
   ]
  },
  {
   "cell_type": "code",
   "execution_count": 25,
   "metadata": {},
   "outputs": [],
   "source": [
    "# 用两个栈实现\n",
    "def level_traversal_1(root):\n",
    "    stack1, stack2 = [root], []\n",
    "    while stack1 or stack2:\n",
    "        if stack1:\n",
    "            for node in stack1:\n",
    "                print(node.val, end=' ')\n",
    "                if node.left:\n",
    "                    stack2.append(node.left)\n",
    "                if node.right:\n",
    "                    stack2.append(node.right)\n",
    "            stack1 = []\n",
    "        else:\n",
    "            for node in stack2:\n",
    "                print(node.val, end=' ')\n",
    "                if node.left:\n",
    "                    stack1.append(node.left)\n",
    "                if node.right:\n",
    "                    stack1.append(node.right)\n",
    "            stack2 = []"
   ]
  },
  {
   "cell_type": "code",
   "execution_count": 26,
   "metadata": {
    "scrolled": true
   },
   "outputs": [
    {
     "name": "stdout",
     "output_type": "stream",
     "text": [
      "1 2 3 4 5 6 7 8 "
     ]
    }
   ],
   "source": [
    "level_traversal_1(n1)"
   ]
  },
  {
   "cell_type": "markdown",
   "metadata": {},
   "source": [
    "## 4 - 二叉搜索树"
   ]
  },
  {
   "cell_type": "markdown",
   "metadata": {},
   "source": [
    "### 4.1 - 定义"
   ]
  },
  {
   "cell_type": "markdown",
   "metadata": {},
   "source": [
    "二叉搜索树是二叉树的特例。在二叉搜索树中，对任一结点，其左子树中每个结点的值都比该节点值小，右子树中每个结点都比该结点值大。"
   ]
  },
  {
   "cell_type": "raw",
   "metadata": {},
   "source": [
    "二叉搜索树样例\n",
    "      7\n",
    "    /    \\\n",
    "   4     13\n",
    "  /  \\    /  \\\n",
    " 1   6  10   15"
   ]
  },
  {
   "cell_type": "code",
   "execution_count": 27,
   "metadata": {},
   "outputs": [],
   "source": [
    "# 创建二叉搜索树样例\n",
    "b7 = TreeNode(7)\n",
    "b4 = TreeNode(4)\n",
    "b13 = TreeNode(13)\n",
    "b1 = TreeNode(1)\n",
    "b6 = TreeNode(6)\n",
    "b10 = TreeNode(10)\n",
    "b15 = TreeNode(15)\n",
    "b7.left, b7.right = b4, b13\n",
    "b4.left, b4.right, b4.parent = b1, b6, b7\n",
    "b13.left, b13.right, b13.parent = b10, b15, b7\n",
    "b1.parent, b6.parent = b4, b4\n",
    "b10.parent, b15.parent = b13, b13"
   ]
  },
  {
   "cell_type": "code",
   "execution_count": 28,
   "metadata": {},
   "outputs": [
    {
     "name": "stdout",
     "output_type": "stream",
     "text": [
      "7 4 13 1 6 10 15 "
     ]
    }
   ],
   "source": [
    "level_traversal_2(b7)"
   ]
  },
  {
   "cell_type": "markdown",
   "metadata": {},
   "source": [
    "### 4.2 - 基本操作"
   ]
  },
  {
   "cell_type": "markdown",
   "metadata": {},
   "source": [
    "#### 4.2.1 - 查找"
   ]
  },
  {
   "cell_type": "markdown",
   "metadata": {},
   "source": [
    "（1）find(key, root)：找到键值为key的结点，若不存在键值为key的结点，则返回叶结点中键值与key最接近的结点；若有两个结点都同样接近，则返回偏大的那个结点。"
   ]
  },
  {
   "cell_type": "code",
   "execution_count": 29,
   "metadata": {},
   "outputs": [],
   "source": [
    "def Find(key, root):\n",
    "    if root.val == key:\n",
    "        return root\n",
    "    if root.val > key:\n",
    "        if root.left:\n",
    "            return Find(key, root.left)\n",
    "        return root\n",
    "    else:\n",
    "        if root.right:\n",
    "            return Find(key, root.right)\n",
    "        return root"
   ]
  },
  {
   "cell_type": "code",
   "execution_count": 30,
   "metadata": {},
   "outputs": [
    {
     "name": "stdout",
     "output_type": "stream",
     "text": [
      "6\n",
      "6\n",
      "10\n"
     ]
    }
   ],
   "source": [
    "print(Find(5, b7).val)\n",
    "print(Find(6, b7).val)\n",
    "print(Find(11, b7).val)"
   ]
  },
  {
   "cell_type": "markdown",
   "metadata": {},
   "source": [
    "（2）next(node)：找出键值与node最接近且比node键值大的结点"
   ]
  },
  {
   "cell_type": "code",
   "execution_count": 31,
   "metadata": {},
   "outputs": [],
   "source": [
    "# next()操作需要parent指针\n",
    "def Next(node):\n",
    "    # 如果node有右孩子，则找到其右子树中最后一个左孩子\n",
    "    if node.right:\n",
    "        node = node.right\n",
    "        while node.left:\n",
    "            node = node.left\n",
    "        return node\n",
    "    # 如果node无右孩子，则找到其第一个右祖先结点\n",
    "    else:\n",
    "        while node.parent:\n",
    "            parent = node.parent\n",
    "            if parent.left == node:\n",
    "                return parent\n",
    "            node = parent\n",
    "    return None"
   ]
  },
  {
   "cell_type": "code",
   "execution_count": 32,
   "metadata": {},
   "outputs": [
    {
     "name": "stdout",
     "output_type": "stream",
     "text": [
      "10\n",
      "None\n"
     ]
    }
   ],
   "source": [
    "print(Next(b7).val)\n",
    "print(Next(b15))"
   ]
  },
  {
   "cell_type": "markdown",
   "metadata": {},
   "source": [
    "（3）search(x, y, root)：查找键值在[x,y]区间的所有结点\n",
    "* 首先找到键值为x或最接近x的结点：N=Find(x, R)\n",
    "* 逐个找到下一个比N大的结点：N = Next(N）。直到N.Key>y为止。"
   ]
  },
  {
   "cell_type": "code",
   "execution_count": 33,
   "metadata": {},
   "outputs": [],
   "source": [
    "def Search(x, y, root):\n",
    "    res = []\n",
    "    node = Find(x, root)\n",
    "    while node and node.val <= y:\n",
    "        if node.val >= x:\n",
    "            res.append(node.val)\n",
    "        node = Next(node)\n",
    "    return res"
   ]
  },
  {
   "cell_type": "code",
   "execution_count": 34,
   "metadata": {},
   "outputs": [
    {
     "data": {
      "text/plain": [
       "[13, 15]"
      ]
     },
     "execution_count": 34,
     "metadata": {},
     "output_type": "execute_result"
    }
   ],
   "source": [
    "Search(11, 15, b7)"
   ]
  },
  {
   "cell_type": "markdown",
   "metadata": {},
   "source": [
    "#### 4.2.2 - 插入 insert(key, root)\n",
    "* 首先找到键值与key最接近的叶结点N\n",
    "* 给N插入一个键值为key的子结点"
   ]
  },
  {
   "cell_type": "code",
   "execution_count": 35,
   "metadata": {},
   "outputs": [],
   "source": [
    "def Insert(key, root):\n",
    "    node = Find(key, root)\n",
    "    if node.val < key:\n",
    "        node.right = TreeNode(key)\n",
    "    elif node.val > key:\n",
    "        node.left = TreeNode(key)"
   ]
  },
  {
   "attachments": {},
   "cell_type": "markdown",
   "metadata": {},
   "source": [
    "#### 4.2.3 - 删除 delete(node) 【待补充】\n",
    "\n",
    "删除结点node，并返回根节点。\n",
    "* 如果node没有右孩子(即N是树上最大的元素）\n",
    "    - 删除node\n",
    "    - 如果node有左孩子，则用左孩子填补node的空位\n",
    "* 如果node有右孩子(如下图）\n",
    "    - 首先找到下一个比node大的结点X = next(node)\n",
    "    - 用X取代node\n",
    "    - 如果X有右孩子Y，则用Y填补X的空位\n",
    "<img src=\"images/trees/bst delete.png\" style=\"height:230px;\">"
   ]
  },
  {
   "cell_type": "code",
   "execution_count": 36,
   "metadata": {},
   "outputs": [],
   "source": [
    "# Delete()需要用到parent指针\n",
    "def Delete(node):\n",
    "    root = node\n",
    "    while root.parent:\n",
    "        root = root.parent\n",
    "    if node.right:\n",
    "        X = Next(node) # X是node的右子树中最左侧的叶结点\n",
    "        # 用X取代node\n",
    "        node.val = X.val\n",
    "        Y = None\n",
    "        # 如果X有右孩子Y，则用Y填补X的空位\n",
    "        if X.right: \n",
    "            Y = X.right\n",
    "        # 修改X.parent指向子结点的指针和Y指向父结点的指针\n",
    "        if X.parent.left == X:\n",
    "            X.parent.left = Y\n",
    "        elif X.parent.right == X:\n",
    "            X.parent.right = Y\n",
    "        if Y:\n",
    "            Y.parent = X.parent\n",
    "        # 删掉结点X\n",
    "        X.parent = None\n",
    "    else:\n",
    "        Y = None\n",
    "        if node.left:\n",
    "            Y = node.left\n",
    "        if node.parent.left == node:\n",
    "            node.parent.left = Y\n",
    "        elif node.parent.right == node:\n",
    "            node.parent.right = Y\n",
    "        if Y:\n",
    "            Y.parent = node.parent\n",
    "        node.parent = None\n",
    "    return root"
   ]
  },
  {
   "cell_type": "code",
   "execution_count": 37,
   "metadata": {},
   "outputs": [
    {
     "name": "stdout",
     "output_type": "stream",
     "text": [
      "7 6 13 1 10 15 "
     ]
    }
   ],
   "source": [
    "root = Delete(b4)\n",
    "level_traversal_2(root)"
   ]
  },
  {
   "cell_type": "code",
   "execution_count": 38,
   "metadata": {},
   "outputs": [
    {
     "name": "stdout",
     "output_type": "stream",
     "text": [
      "10 6 13 1 15 "
     ]
    }
   ],
   "source": [
    "root = Delete(b7)\n",
    "level_traversal_2(root)"
   ]
  }
 ],
 "metadata": {
  "kernelspec": {
   "display_name": "Python 3",
   "language": "python",
   "name": "python3"
  },
  "language_info": {
   "codemirror_mode": {
    "name": "ipython",
    "version": 3
   },
   "file_extension": ".py",
   "mimetype": "text/x-python",
   "name": "python",
   "nbconvert_exporter": "python",
   "pygments_lexer": "ipython3",
   "version": "3.7.4"
  }
 },
 "nbformat": 4,
 "nbformat_minor": 2
}
