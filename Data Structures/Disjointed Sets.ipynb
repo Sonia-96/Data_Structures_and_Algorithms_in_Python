{
 "cells": [
  {
   "attachments": {},
   "cell_type": "markdown",
   "metadata": {},
   "source": [
    "# 并查集 (Disjointed Sets)\n",
    "\n",
    "并查集又名不相交集合，是一种处理不相交集合的合并和查询问题的数据结构。\n",
    "\n",
    "并查集支持以下操作：\n",
    "- MakeSet(x)：创建一个单元素集合{x}\n",
    "- Find(x）：返回包含x的集合的名称（ID）\n",
    "- Union(x, y)：合并两个分别包含x和y的集合"
   ]
  },
  {
   "cell_type": "code",
   "execution_count": 1,
   "metadata": {},
   "outputs": [],
   "source": [
    "class DisjointedSets:\n",
    "    def __init__(self, n):\n",
    "        # n为结点数，从1开始编号\n",
    "        # Make Sets\n",
    "        self.parent = [i for i in range(n+1)]\n",
    "        self.rank = [0] * (n+1)\n",
    "    \n",
    "    def Find(self, i):\n",
    "        if i != self.parent[i]:\n",
    "            self.parent[i] = self.Find(self.parent[i])\n",
    "        return self.parent[i]\n",
    "    \n",
    "    def Union(self, i, j):\n",
    "        i_id = self.Find(i)\n",
    "        j_id = self.Find(j)\n",
    "        if i_id == j_id:\n",
    "            return \n",
    "        if self.rank[i_id] > self.rank[j_id]:\n",
    "            self.parent[j_id] = i_id\n",
    "        else:\n",
    "            self.parent[i_id] = j_id\n",
    "            if self.rank[i_id] == self.rank[j_id]:\n",
    "                self.rank[j_id] += 1"
   ]
  },
  {
   "cell_type": "code",
   "execution_count": 2,
   "metadata": {},
   "outputs": [
    {
     "name": "stdout",
     "output_type": "stream",
     "text": [
      "parent: [0, 1, 2, 3, 4, 5]\n",
      "rank: [0, 0, 0, 0, 0, 0]\n"
     ]
    }
   ],
   "source": [
    "S = DisjointedSets(5)\n",
    "print('parent:', S.parent)\n",
    "print('rank:', S.rank)"
   ]
  },
  {
   "cell_type": "code",
   "execution_count": 3,
   "metadata": {},
   "outputs": [
    {
     "name": "stdout",
     "output_type": "stream",
     "text": [
      "parent: [0, 5, 2, 3, 4, 5]\n",
      "rank: [0, 0, 0, 0, 0, 1]\n"
     ]
    }
   ],
   "source": [
    "S.Union(1, 5)\n",
    "print('parent:', S.parent)\n",
    "print('rank:', S.rank)"
   ]
  },
  {
   "cell_type": "code",
   "execution_count": 4,
   "metadata": {},
   "outputs": [
    {
     "name": "stdout",
     "output_type": "stream",
     "text": [
      "parent: [0, 5, 3, 3, 4, 5]\n",
      "rank: [0, 0, 0, 1, 0, 1]\n"
     ]
    }
   ],
   "source": [
    "S.Union(2, 3)\n",
    "print('parent:', S.parent)\n",
    "print('rank:', S.rank)"
   ]
  },
  {
   "cell_type": "code",
   "execution_count": 5,
   "metadata": {},
   "outputs": [
    {
     "name": "stdout",
     "output_type": "stream",
     "text": [
      "parent: [0, 5, 3, 3, 3, 5]\n",
      "rank: [0, 0, 0, 1, 0, 1]\n"
     ]
    }
   ],
   "source": [
    "S.Union(2, 4)\n",
    "print('parent:', S.parent)\n",
    "print('rank:', S.rank)"
   ]
  },
  {
   "cell_type": "code",
   "execution_count": 6,
   "metadata": {},
   "outputs": [
    {
     "name": "stdout",
     "output_type": "stream",
     "text": [
      "parent: [3, 5, 3, 3, 3, 5]\n",
      "rank: [0, 0, 0, 1, 0, 1]\n"
     ]
    }
   ],
   "source": [
    "S.Union(0, 4)\n",
    "print('parent:', S.parent)\n",
    "print('rank:', S.rank)"
   ]
  },
  {
   "cell_type": "code",
   "execution_count": 7,
   "metadata": {},
   "outputs": [
    {
     "name": "stdout",
     "output_type": "stream",
     "text": [
      "parent: [3, 5, 3, 3, 3, 3]\n",
      "rank: [0, 0, 0, 2, 0, 1]\n"
     ]
    }
   ],
   "source": [
    "S.Union(1, 3)\n",
    "print('parent:', S.parent)\n",
    "print('rank:', S.rank)"
   ]
  },
  {
   "cell_type": "code",
   "execution_count": 8,
   "metadata": {},
   "outputs": [
    {
     "name": "stdout",
     "output_type": "stream",
     "text": [
      "parent: [3, 3, 3, 3, 3, 3]\n",
      "rank: [0, 0, 0, 2, 0, 1]\n"
     ]
    }
   ],
   "source": [
    "S.Find(1)\n",
    "print('parent:', S.parent)\n",
    "print('rank:', S.rank)"
   ]
  },
  {
   "cell_type": "markdown",
   "metadata": {},
   "source": [
    "#### 附：Find(x)的迭代版本"
   ]
  },
  {
   "cell_type": "code",
   "execution_count": 9,
   "metadata": {},
   "outputs": [],
   "source": [
    "# 迭代版本\n",
    "def Find(i):\n",
    "    stack = []\n",
    "    while parent[i] != i:\n",
    "        stack.append(i)\n",
    "        i = parent[i]\n",
    "    while stack:\n",
    "        parent[stack.pop()] = i\n",
    "    return i"
   ]
  },
  {
   "cell_type": "code",
   "execution_count": 10,
   "metadata": {},
   "outputs": [],
   "source": [
    "class DisjointedSets:\n",
    "    def __init__(self, arr):\n",
    "        # Make Sets\n",
    "        self.parent = [i for i in arr]\n",
    "        self.rank = [0] * len(arr)\n",
    "    \n",
    "    def Find(self, i):\n",
    "        stack = []\n",
    "        while self.parent[i] != i:\n",
    "            stack.append(i)\n",
    "            i = self.parent[i]\n",
    "        while stack:\n",
    "            self.parent[stack.pop()] = i\n",
    "        return i\n",
    "    \n",
    "    def Union(self, i, j):\n",
    "        i_id = self.Find(i)\n",
    "        j_id = self.Find(j)\n",
    "        if i_id == j_id:\n",
    "            return \n",
    "        if self.rank[i_id] > self.rank[j_id]:\n",
    "            self.parent[j_id] = i_id\n",
    "        else:\n",
    "            self.parent[i_id] = j_id\n",
    "            if self.rank[i_id] == self.rank[j_id]:\n",
    "                self.rank[j_id] += 1"
   ]
  },
  {
   "cell_type": "code",
   "execution_count": 11,
   "metadata": {},
   "outputs": [
    {
     "name": "stdout",
     "output_type": "stream",
     "text": [
      "parent: [0, 1, 2, 3, 4, 5]\n",
      "rank: [0, 0, 0, 0, 0, 0]\n"
     ]
    }
   ],
   "source": [
    "array = [0, 1, 2, 3, 4, 5]\n",
    "S = DisjointedSets(array)\n",
    "print('parent:', S.parent)\n",
    "print('rank:', S.rank)"
   ]
  },
  {
   "cell_type": "code",
   "execution_count": 12,
   "metadata": {},
   "outputs": [
    {
     "name": "stdout",
     "output_type": "stream",
     "text": [
      "parent: [0, 5, 2, 3, 4, 5]\n",
      "rank: [0, 0, 0, 0, 0, 1]\n"
     ]
    }
   ],
   "source": [
    "S.Union(1, 5)\n",
    "print('parent:', S.parent)\n",
    "print('rank:', S.rank)"
   ]
  },
  {
   "cell_type": "code",
   "execution_count": 13,
   "metadata": {},
   "outputs": [
    {
     "name": "stdout",
     "output_type": "stream",
     "text": [
      "parent: [0, 5, 3, 3, 4, 5]\n",
      "rank: [0, 0, 0, 1, 0, 1]\n"
     ]
    }
   ],
   "source": [
    "S.Union(2, 3)\n",
    "print('parent:', S.parent)\n",
    "print('rank:', S.rank)"
   ]
  },
  {
   "cell_type": "code",
   "execution_count": 14,
   "metadata": {},
   "outputs": [
    {
     "name": "stdout",
     "output_type": "stream",
     "text": [
      "parent: [0, 5, 3, 3, 3, 5]\n",
      "rank: [0, 0, 0, 1, 0, 1]\n"
     ]
    }
   ],
   "source": [
    "S.Union(2, 4)\n",
    "print('parent:', S.parent)\n",
    "print('rank:', S.rank)"
   ]
  },
  {
   "cell_type": "code",
   "execution_count": 15,
   "metadata": {},
   "outputs": [
    {
     "name": "stdout",
     "output_type": "stream",
     "text": [
      "parent: [3, 5, 3, 3, 3, 5]\n",
      "rank: [0, 0, 0, 1, 0, 1]\n"
     ]
    }
   ],
   "source": [
    "S.Union(0, 4)\n",
    "print('parent:', S.parent)\n",
    "print('rank:', S.rank)"
   ]
  },
  {
   "cell_type": "code",
   "execution_count": 16,
   "metadata": {},
   "outputs": [
    {
     "name": "stdout",
     "output_type": "stream",
     "text": [
      "parent: [3, 5, 3, 3, 3, 3]\n",
      "rank: [0, 0, 0, 2, 0, 1]\n"
     ]
    }
   ],
   "source": [
    "S.Union(1, 3)\n",
    "print('parent:', S.parent)\n",
    "print('rank:', S.rank)"
   ]
  },
  {
   "cell_type": "code",
   "execution_count": 17,
   "metadata": {},
   "outputs": [
    {
     "name": "stdout",
     "output_type": "stream",
     "text": [
      "parent: [3, 3, 3, 3, 3, 3]\n",
      "rank: [0, 0, 0, 2, 0, 1]\n"
     ]
    }
   ],
   "source": [
    "S.Find(1)\n",
    "print('parent:', S.parent)\n",
    "print('rank:', S.rank)"
   ]
  },
  {
   "cell_type": "code",
   "execution_count": null,
   "metadata": {},
   "outputs": [],
   "source": []
  }
 ],
 "metadata": {
  "kernelspec": {
   "display_name": "Python 3",
   "language": "python",
   "name": "python3"
  },
  "language_info": {
   "codemirror_mode": {
    "name": "ipython",
    "version": 3
   },
   "file_extension": ".py",
   "mimetype": "text/x-python",
   "name": "python",
   "nbconvert_exporter": "python",
   "pygments_lexer": "ipython3",
   "version": "3.7.4"
  }
 },
 "nbformat": 4,
 "nbformat_minor": 2
}
