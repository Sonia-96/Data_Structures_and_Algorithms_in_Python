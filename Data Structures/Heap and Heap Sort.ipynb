{
 "cells": [
  {
   "cell_type": "markdown",
   "metadata": {},
   "source": [
    "# 堆和堆排序"
   ]
  },
  {
   "cell_type": "markdown",
   "metadata": {},
   "source": [
    "堆是一种完全二叉树。\n",
    "- 最大堆（max-heap）：父结点的值>=子树中每个结点的值。\n",
    "- 最小堆（min-heap）：父结点的值<=子树中每个结点的值。"
   ]
  },
  {
   "cell_type": "markdown",
   "metadata": {},
   "source": [
    "## 1 - 堆的表示"
   ]
  },
  {
   "cell_type": "markdown",
   "metadata": {},
   "source": [
    "完全二叉树适合用数组储存，无需储存左右子结点的指针，直接通过下标即可找到其父结点和子结点。\n",
    "\n",
    "- 如果数组下标从0开始，对结点 i：\n",
    "    - 父结点：(i - 1) // 2\n",
    "    - 左孩子：2 * i + 1\n",
    "    - 右孩子：2 * i + 2\n",
    "\n",
    "- 如果数组下标从1开始，对结点 i：\n",
    "    - 父结点：i // 2\n",
    "    - 左孩子：2 * i\n",
    "    - 右孩子：2 * i + 1"
   ]
  },
  {
   "cell_type": "markdown",
   "metadata": {},
   "source": [
    "## 2 - 堆的基本操作\n",
    "以最大堆为例：\n",
    "- H 表示用于储存堆的数组\n",
    "- size是堆当前容纳的元素数量\n",
    "- 每个操作的时间复杂度：t <= O(Tree Height) <= O(logn) \n"
   ]
  },
  {
   "cell_type": "markdown",
   "metadata": {},
   "source": [
    "#### SiftUp(i) 上调结点\n",
    "如果子结点的值大于父结点，则将两者位置交换（即将子结点往上移），直到满足最大堆的性质。"
   ]
  },
  {
   "cell_type": "code",
   "execution_count": 1,
   "metadata": {},
   "outputs": [],
   "source": [
    "def SiftUp(i):\n",
    "    if i > 0:\n",
    "        parent = (i - 1) // 2\n",
    "        if H[i] > H[parent]:\n",
    "            H[i], H[parent] = H[parent], H[i]\n",
    "            SiftUp(parent)"
   ]
  },
  {
   "cell_type": "markdown",
   "metadata": {},
   "source": [
    "#### SiftDown(i) 下调结点\n",
    "如果子结点的值大于父结点，则将两者位置交换（即将父结点往下移），直到满足最大堆的性质。"
   ]
  },
  {
   "cell_type": "code",
   "execution_count": 2,
   "metadata": {},
   "outputs": [],
   "source": [
    "def SiftDown(i):\n",
    "    left = 2 * i + 1\n",
    "    right = 2 * i + 2\n",
    "    max_index = i\n",
    "    if left < size and H[left] > H[max_index]:\n",
    "        max_index = left\n",
    "    if right < size and H[right] > H[max_index]:\n",
    "        max_index = right\n",
    "    if i != max_index:\n",
    "        H[i], H[max_index] = H[max_index], H[i]\n",
    "        SiftDown(max_index)"
   ]
  },
  {
   "cell_type": "markdown",
   "metadata": {},
   "source": [
    "#### Insert(p) 插入结点\n",
    "插入值为p的结点。\n",
    "1. 先把新结点插入最右侧的空穴中\n",
    "- 上调该结点，直到找到合适的位置"
   ]
  },
  {
   "cell_type": "code",
   "execution_count": 3,
   "metadata": {},
   "outputs": [],
   "source": [
    "def Insert(p):\n",
    "    H.append(p)\n",
    "    size += 1\n",
    "    SiftUp(size - 1)"
   ]
  },
  {
   "cell_type": "markdown",
   "metadata": {},
   "source": [
    "#### ExtractMax() 提取最大结点\n",
    "提取根节点并返回根节点的值。\n",
    "\n",
    "1. 先返回根节点的值\n",
    "- 然后用最右的结点取代根节点\n",
    "- 下调新的根节点，直到找到合适的位置"
   ]
  },
  {
   "cell_type": "code",
   "execution_count": 4,
   "metadata": {},
   "outputs": [],
   "source": [
    "def ExtractMax():\n",
    "    if size < 1:\n",
    "        return None\n",
    "    root = H[0]\n",
    "    H[0] = H[size - 1]\n",
    "    size -= 1\n",
    "    SiftDown(0)\n",
    "    return root"
   ]
  },
  {
   "cell_type": "markdown",
   "metadata": {},
   "source": [
    "#### Remove(i) 移除结点\n",
    "去除位置i的元素。\n",
    "\n",
    "1. 把位置i的元素的值改为“无穷大”\n",
    "- 上调该结点\n",
    "- ExtractMax()"
   ]
  },
  {
   "cell_type": "code",
   "execution_count": 5,
   "metadata": {},
   "outputs": [],
   "source": [
    "def Remove(i):\n",
    "    H[i] = float('inf')\n",
    "    SiftUp(i)\n",
    "    ExtractMax()"
   ]
  },
  {
   "cell_type": "markdown",
   "metadata": {},
   "source": [
    "#### ChangePriority(i, p) 改变结点\n",
    "把位置i的元素的值改为p。"
   ]
  },
  {
   "cell_type": "code",
   "execution_count": 6,
   "metadata": {},
   "outputs": [],
   "source": [
    "def ChangePriority(i, p):\n",
    "    old_p = H[i]\n",
    "    if p > old_p:\n",
    "        SiftUp(i)\n",
    "    elif p < old_p:\n",
    "        SiftDown(i)"
   ]
  },
  {
   "cell_type": "markdown",
   "metadata": {},
   "source": [
    "#### 将上述操作合并到一个类里："
   ]
  },
  {
   "cell_type": "code",
   "execution_count": 7,
   "metadata": {},
   "outputs": [],
   "source": [
    "class MaxHeap:\n",
    "    def __init__(self, array):\n",
    "        self.arr = array\n",
    "        self.H = []\n",
    "        self.size = 0\n",
    "    \n",
    "    def SiftUp(self, i):\n",
    "        if i > 0:\n",
    "            parent = (i - 1) // 2\n",
    "            if self.H[i] > self.H[parent]:\n",
    "                self.H[i], self.H[parent] = self.H[parent], self.H[i]\n",
    "                self.SiftUp(parent)\n",
    "    \n",
    "    def SiftDown(self, i):\n",
    "        left = 2 * i + 1\n",
    "        right = 2 * i + 2\n",
    "        max_index = i\n",
    "        if left < self.size and self.H[left] > self.H[max_index]:\n",
    "            max_index = left\n",
    "        if right < self.size and self.H[right] > self.H[max_index]:\n",
    "            max_index = right\n",
    "        if i != max_index:\n",
    "            self.H[i], self.H[max_index] = self.H[max_index], self.H[i]\n",
    "            self.SiftDown(max_index)\n",
    "    \n",
    "    def Insert(self, p):\n",
    "        self.H.append(p)\n",
    "        self.size += 1\n",
    "        self.SiftUp(self.size - 1)\n",
    "    \n",
    "    def ExtractMax(self):\n",
    "        root = self.H[0]\n",
    "        self.H[0] = self.H[-1]\n",
    "        self.H.pop()\n",
    "        self.size -= 1\n",
    "        self.SiftDown(0)\n",
    "        return root\n",
    "    \n",
    "    def Remove(self, i):\n",
    "        self.H[i] = float('inf')\n",
    "        self.SiftUp(i)\n",
    "        self.ExtractMax()\n",
    "    \n",
    "    def ChangePriority(i, p):\n",
    "        old_p = self.H[i]\n",
    "        self.H[i] = p\n",
    "        if p > old_p:\n",
    "            self.SiftUp(i)\n",
    "        elif p < old_p:\n",
    "            self.SiftDown(i)          "
   ]
  },
  {
   "cell_type": "markdown",
   "metadata": {},
   "source": [
    "## 3 - 堆排序"
   ]
  },
  {
   "cell_type": "markdown",
   "metadata": {},
   "source": [
    "### 3.1 - 非原位堆排序\n",
    "\n",
    "把原始序列中每一个元素作为输入，调用n个Insert(i)把它们放入初始为空的堆中，然后用ExtractMax()逐个提取出最大值。\n",
    "\n",
    "#### 时间复杂度：\n",
    "- 建堆：最坏情形O(nlogn)\n",
    "- 排序：O(nlogn)\n",
    "- 总的时间复杂度：O(nlogn)\n",
    "\n",
    "#### 空间复杂度：O(n)"
   ]
  },
  {
   "cell_type": "code",
   "execution_count": 8,
   "metadata": {},
   "outputs": [],
   "source": [
    "class heap_sort_not_in_place:\n",
    "    def __init__(self, array):\n",
    "        self.arr = array\n",
    "        self.H = []\n",
    "        self.size = 0\n",
    "    \n",
    "    def SiftUp(self, i):\n",
    "        if i > 0:\n",
    "            parent = (i - 1) // 2\n",
    "            if self.H[i] > self.H[parent]:\n",
    "                self.H[i], self.H[parent] = self.H[parent], self.H[i]\n",
    "                self.SiftUp(parent)\n",
    "    \n",
    "    def SiftDown(self, i):\n",
    "        left = 2 * i + 1\n",
    "        right = 2 * i + 2\n",
    "        max_index = i\n",
    "        if left < self.size and self.H[left] > self.H[max_index]:\n",
    "            max_index = left\n",
    "        if right < self.size and self.H[right] > self.H[max_index]:\n",
    "            max_index = right\n",
    "        if i != max_index:\n",
    "            self.H[i], self.H[max_index] = self.H[max_index], self.H[i]\n",
    "            self.SiftDown(max_index)\n",
    "    \n",
    "    def Insert(self, p):\n",
    "        self.H.append(p)\n",
    "        self.size += 1\n",
    "        self.SiftUp(self.size - 1)\n",
    "    \n",
    "    def ExtractMax(self):\n",
    "        root = self.H[0]\n",
    "        # 思考：为什么不直接self.H[0]=self.H.pop()?\n",
    "        # 答：这在H只有一个结点时会报错。\n",
    "        self.H[0] = self.H[-1]\n",
    "        self.H.pop()\n",
    "        self.size -= 1\n",
    "        self.SiftDown(0)\n",
    "        return root\n",
    "    \n",
    "    # 非原位排序\n",
    "    def HeapSort(self):\n",
    "        for i in range(len(self.arr)):\n",
    "            self.Insert(self.arr[i])\n",
    "        for i in range(len(self.arr) - 1, -1, -1):\n",
    "            self.arr[i] = self.ExtractMax()\n",
    "        return self.arr"
   ]
  },
  {
   "cell_type": "code",
   "execution_count": 9,
   "metadata": {},
   "outputs": [
    {
     "name": "stdout",
     "output_type": "stream",
     "text": [
      "[4, 5, 6, 8, 9]\n"
     ]
    }
   ],
   "source": [
    "# 创建样例：初始的无序序列\n",
    "S = heap_sort_not_in_place([4, 6, 8, 5, 9])\n",
    "sorted_arr = S.HeapSort()\n",
    "print(sorted_arr)"
   ]
  },
  {
   "cell_type": "markdown",
   "metadata": {},
   "source": [
    "### 3.2 - 原位堆排序\n",
    "#### 步骤：\n",
    "1. 把序列搭建成堆：从最后一个非叶结点（下标为n//2 - 1)到根节点，逐个调用SiftDown(i)\n",
    "2. 将堆顶元素和最后一个元素交换，使最大元素放到序列的最末端，并将该元素从堆中去除（size-1）\n",
    "3. 将剩下n-1个元素重构为堆（SiftDown(0)即可）\n",
    "4. 将步骤2、3重复n-1次，即可完成排序\n",
    "\n",
    "#### 时间复杂度：\n",
    " - 建堆：平均时间复杂度为O(n)\n",
    " - 排序：O(nlogn)\n",
    " - 总的时间复杂度：O(nlogn)\n",
    " \n",
    " \n",
    " #### 空间复杂度：O(1)"
   ]
  },
  {
   "cell_type": "code",
   "execution_count": 10,
   "metadata": {},
   "outputs": [],
   "source": [
    "class heap_sort_in_place:\n",
    "    def __init__(self, array):\n",
    "        self.H = array\n",
    "        self.size = len(array)\n",
    "    \n",
    "    def SiftDown(self, i):\n",
    "        left = 2 * i + 1\n",
    "        right = 2 * i + 2\n",
    "        max_index = i\n",
    "        if left < self.size and self.H[left] > self.H[max_index]:\n",
    "            max_index = left\n",
    "        if right < self.size and self.H[right] > self.H[max_index]:\n",
    "            max_index = right\n",
    "        if i != max_index:\n",
    "            self.H[i], self.H[max_index] = self.H[max_index], self.H[i]\n",
    "            self.SiftDown(max_index)\n",
    "    \n",
    "    # 原位排序 In-place HeapSort\n",
    "    def HeapSort(self):\n",
    "        # Build Heap\n",
    "        for i in range(self.size // 2 - 1, -1, -1):\n",
    "            self.SiftDown(i)\n",
    "        # In-place Sort\n",
    "        for _ in range(self.size - 1):\n",
    "            self.H[0], self.H[self.size - 1] = self.H[self.size - 1], self.H[0]\n",
    "            self.size -= 1\n",
    "            self.SiftDown(0)\n",
    "        return self.H"
   ]
  },
  {
   "cell_type": "code",
   "execution_count": 11,
   "metadata": {
    "scrolled": false
   },
   "outputs": [
    {
     "name": "stdout",
     "output_type": "stream",
     "text": [
      "[4, 5, 6, 8, 9]\n"
     ]
    }
   ],
   "source": [
    "S = heap_sort_in_place([4, 6, 8, 5, 9])\n",
    "sorted_arr = S.HeapSort()\n",
    "print(sorted_arr)"
   ]
  },
  {
   "cell_type": "markdown",
   "metadata": {},
   "source": [
    "### 附：最小堆及用最小堆进行堆排序的代码"
   ]
  },
  {
   "cell_type": "markdown",
   "metadata": {},
   "source": [
    "#### 最小堆"
   ]
  },
  {
   "cell_type": "code",
   "execution_count": 12,
   "metadata": {},
   "outputs": [],
   "source": [
    "class MinHeap:\n",
    "    def __init__(self, array):\n",
    "        self.H = []\n",
    "        self.size = 0\n",
    "    \n",
    "    def SiftUp(self, i):\n",
    "        parent = (i - 1) // 2\n",
    "        while i > 0 and self.H[i] < self.H[parent]:\n",
    "                self.H[i], self.H[parent] = self.H[parent], self.H[i]\n",
    "                i = parent\n",
    "    \n",
    "    def SiftDown(self, i):\n",
    "        left = 2 * i + 1\n",
    "        right = 2 * i + 2\n",
    "        min_idx = i\n",
    "        \n",
    "        if left < self.size and self.H[left] < self.H[min_idx]:\n",
    "            min_idx = left\n",
    "        if right < self.size and self.H[right] < self.H[min_idx]:\n",
    "            min_idx = right\n",
    "        \n",
    "        if min_idx != i:\n",
    "            self.H[i], self.H[min_idx] = self.H[min_idx], self.H[i]\n",
    "            self.SiftDown(min_idx)\n",
    "    \n",
    "    def Insert(self, p):\n",
    "        self.H.append(p)\n",
    "        self.size += 1\n",
    "        self.SiftUp(self.size - 1)\n",
    "    \n",
    "    def ExtractMin(self):\n",
    "        root = self.H[0]\n",
    "        self.H[0] = self.H[-1]\n",
    "        self.H.pop()\n",
    "        self.size -= 1\n",
    "        self.SiftDown(0)\n",
    "        return root\n",
    "    \n",
    "    def Remove(self, i):\n",
    "        self.H[i] = - float('inf')\n",
    "        self.SiftUp(i)\n",
    "        self.ExtractMin()\n",
    "    \n",
    "    def ChangePriority(self, i, p):\n",
    "        old_p = self.H[i]\n",
    "        self.H[i] = p\n",
    "        if p > old_p:\n",
    "            self.SiftDown(i)\n",
    "        elif p < old_p:\n",
    "            self.SiftUp(i)"
   ]
  },
  {
   "cell_type": "markdown",
   "metadata": {},
   "source": [
    "#### 最小堆的非原位排序（从小到大排序）"
   ]
  },
  {
   "cell_type": "code",
   "execution_count": 13,
   "metadata": {},
   "outputs": [],
   "source": [
    "class HeapSort_not_in_place:\n",
    "    def __init__(self, array):\n",
    "        self.arr = array\n",
    "        self.H = []\n",
    "        self.size = 0\n",
    "    \n",
    "    def SiftUp(self, i):\n",
    "        parent = (i - 1) // 2\n",
    "        while i > 0 and self.H[i] < self.H[parent]:\n",
    "                self.H[i], self.H[parent] = self.H[parent], self.H[i]\n",
    "                i = parent\n",
    "    \n",
    "    def SiftDown(self, i):\n",
    "        left = 2 * i + 1\n",
    "        right = 2 * i + 2\n",
    "        min_idx = i\n",
    "        \n",
    "        if left < self.size and self.H[left] < self.H[min_idx]:\n",
    "            min_idx = left\n",
    "        if right < self.size and self.H[right] < self.H[min_idx]:\n",
    "            min_idx = right\n",
    "        \n",
    "        if min_idx != i:\n",
    "            self.H[i], self.H[min_idx] = self.H[min_idx], self.H[i]\n",
    "            self.SiftDown(min_idx)\n",
    "    \n",
    "    def Insert(self, p):\n",
    "        self.H.append(p)\n",
    "        self.size += 1\n",
    "        self.SiftUp(self.size - 1)\n",
    "    \n",
    "    def ExtractMin(self):\n",
    "        root = self.H[0]\n",
    "        self.H[0] = self.H[-1]\n",
    "        self.H.pop()\n",
    "        self.size -= 1\n",
    "        self.SiftDown(0)\n",
    "        return root\n",
    "    \n",
    "    def HeapSort(self):\n",
    "        for i in range(len(self.arr)):\n",
    "            self.Insert(self.arr[i])\n",
    "        for i in range(len(self.arr)):\n",
    "            self.arr[i] = self.ExtractMin()\n",
    "        return self.arr"
   ]
  },
  {
   "cell_type": "code",
   "execution_count": 14,
   "metadata": {},
   "outputs": [
    {
     "name": "stdout",
     "output_type": "stream",
     "text": [
      "[4, 5, 6, 8, 9]\n"
     ]
    }
   ],
   "source": [
    "# test case\n",
    "S = HeapSort_not_in_place([4, 6, 8, 5, 9])\n",
    "sorted_arr = S.HeapSort()\n",
    "print(sorted_arr)"
   ]
  },
  {
   "cell_type": "markdown",
   "metadata": {},
   "source": [
    "#### 最小堆的原位排序（从大到小排序）"
   ]
  },
  {
   "cell_type": "code",
   "execution_count": 15,
   "metadata": {},
   "outputs": [],
   "source": [
    "class HeapSort_in_place:\n",
    "    def __init__(self, array):\n",
    "        self.H = array\n",
    "        self.size = len(array)\n",
    "\n",
    "    def SiftDown(self, i):\n",
    "        left = 2 * i + 1\n",
    "        right = 2 * i + 2\n",
    "        min_idx = i\n",
    "        \n",
    "        if left < self.size and self.H[left] < self.H[min_idx]:\n",
    "            min_idx = left\n",
    "        if right < self.size and self.H[right] < self.H[min_idx]:\n",
    "            min_idx = right\n",
    "        \n",
    "        if min_idx != i:\n",
    "            self.H[i], self.H[min_idx] = self.H[min_idx], self.H[i]\n",
    "            self.SiftDown(min_idx)\n",
    "            \n",
    "    def HeapSort(self):\n",
    "        for i in range((self.size - 1) // 2, -1, -1):\n",
    "            self.SiftDown(i)\n",
    "        # 从大到小排序\n",
    "        for i in range(self.size - 1):\n",
    "            self.H[0], self.H[self.size - 1] = self.H[self.size - 1], self.H[0]\n",
    "            self.size -= 1\n",
    "            self.SiftDown(0)\n",
    "        return self.H"
   ]
  },
  {
   "cell_type": "code",
   "execution_count": 16,
   "metadata": {},
   "outputs": [
    {
     "name": "stdout",
     "output_type": "stream",
     "text": [
      "[9, 8, 6, 5, 4]\n"
     ]
    }
   ],
   "source": [
    "# test case\n",
    "S = HeapSort_in_place([4, 6, 8, 5, 9])\n",
    "sorted_arr = S.HeapSort()\n",
    "print(sorted_arr)"
   ]
  },
  {
   "cell_type": "markdown",
   "metadata": {},
   "source": [
    "## 4 - 直接调用python包实现堆排序"
   ]
  },
  {
   "cell_type": "markdown",
   "metadata": {},
   "source": [
    "python的**heapq**模块可支持构建**最小堆**。\n",
    "\n",
    "- heapq.heappush(heap, item)：插入结点。（相当于Insert())\n",
    "- heapq.heappop(heap)：pop最小结点。（相当于ExtractMin())\n",
    "- heapq.heappushpop(heap, item)：先插入item，再返回最小值。这个操作比先执行heappush()再执行heappop()快。\n",
    "- heapq.heapreplace(heap, item)：先pop并返回最小结点，然后再插入item。这个操作比先heappop()后heappush()快。\n",
    "- heapq.heapify(x)：把列表x转换为堆，该操作为原位操作，时间复杂度O(n)。\n",
    "- heapq.merge()：将多个已排好序的序列合并成一个排序的序列。"
   ]
  },
  {
   "cell_type": "code",
   "execution_count": 17,
   "metadata": {},
   "outputs": [],
   "source": [
    "import heapq"
   ]
  },
  {
   "cell_type": "code",
   "execution_count": 18,
   "metadata": {},
   "outputs": [],
   "source": [
    "H = []\n",
    "array = [4, 6, 8, 10, 5, 9]"
   ]
  },
  {
   "cell_type": "code",
   "execution_count": 19,
   "metadata": {},
   "outputs": [
    {
     "name": "stdout",
     "output_type": "stream",
     "text": [
      "[4, 5, 8, 10, 6, 9]\n"
     ]
    }
   ],
   "source": [
    "# 原位建堆\n",
    "heapq.heapify(array)\n",
    "print(array)"
   ]
  },
  {
   "cell_type": "code",
   "execution_count": 20,
   "metadata": {
    "scrolled": true
   },
   "outputs": [
    {
     "name": "stdout",
     "output_type": "stream",
     "text": [
      "H: [4]\n",
      "H: [4, 5]\n",
      "H: [4, 5, 8]\n",
      "H: [4, 5, 8, 10]\n",
      "H: [4, 5, 8, 10, 6]\n",
      "H: [4, 5, 8, 10, 6, 9]\n",
      "result: [4, 5, 8, 10, 6, 9]\n"
     ]
    }
   ],
   "source": [
    "# 非原位建堆（push）\n",
    "for i in range(len(array)):\n",
    "    heapq.heappush(H, array[i])\n",
    "    print('H:', H)\n",
    "print('result:', H)"
   ]
  },
  {
   "cell_type": "code",
   "execution_count": 21,
   "metadata": {},
   "outputs": [
    {
     "name": "stdout",
     "output_type": "stream",
     "text": [
      "[2, 5, 8, 10, 6, 9]\n"
     ]
    }
   ],
   "source": [
    "# 先pop后push\n",
    "heapq.heapreplace(H, 2)\n",
    "print(H)"
   ]
  },
  {
   "cell_type": "code",
   "execution_count": 22,
   "metadata": {},
   "outputs": [
    {
     "name": "stdout",
     "output_type": "stream",
     "text": [
      "[2, 5, 8, 10, 6, 9]\n"
     ]
    }
   ],
   "source": [
    "# 先push后pop\n",
    "heapq.heappushpop(H, 1)\n",
    "print(H)"
   ]
  },
  {
   "cell_type": "code",
   "execution_count": 23,
   "metadata": {},
   "outputs": [
    {
     "name": "stdout",
     "output_type": "stream",
     "text": [
      "H: [2, 5, 8, 10, 6, 9]\n",
      "H: [5, 6, 8, 10, 9]\n",
      "H: [6, 9, 8, 10]\n",
      "H: [8, 9, 10]\n",
      "H: [9, 10]\n",
      "H: [10]\n",
      "H: []\n"
     ]
    }
   ],
   "source": [
    "# pop\n",
    "print('H:', H)\n",
    "for _ in range(len(array)):\n",
    "    heapq.heappop(H)\n",
    "    print('H:', H)"
   ]
  },
  {
   "cell_type": "code",
   "execution_count": 24,
   "metadata": {},
   "outputs": [
    {
     "data": {
      "text/plain": [
       "[-1, 1, 2, 2, 3, 4, 5, 7, 9]"
      ]
     },
     "execution_count": 24,
     "metadata": {},
     "output_type": "execute_result"
    }
   ],
   "source": [
    "# 合并多个有序序列为一个有序序列\n",
    "list(heapq.merge([1, 3, 5], [2, 4, 7], [-1, 2, 9]))"
   ]
  },
  {
   "cell_type": "markdown",
   "metadata": {},
   "source": [
    "#### 用heapq构建最大堆\n",
    "用最小堆堆储存每个结点的相反值，则最大结点的相反数一定是最小堆里的最小值，即堆顶元素。"
   ]
  },
  {
   "cell_type": "markdown",
   "metadata": {},
   "source": [
    "## 5 - 堆排序的应用"
   ]
  },
  {
   "cell_type": "markdown",
   "metadata": {},
   "source": [
    "### 5.1 - 部分排序（Top K 问题）\n",
    "返回序列中最大的K个元素\n",
    "\n",
    "#### 对于少量的数据\n",
    "采用原位堆排序。\n",
    "1. 对数据建堆。O(n)\n",
    "2. 执行K次ExtractMax()操作。O(Klogn)\n",
    "\n",
    "当K<n/logn时，部分排序的时间复杂度为O(n)。\n",
    "\n",
    "#### 对于海量数据，则不方便对所有元素建堆：\n",
    "1. 建立一个大小为K的**最小堆**\n",
    "2. 遍历序列中的每个元素并与堆顶元素进行比较，如果大于堆顶元素，则用该元素取代堆顶元素\n",
    "3. 堆中始终储存访问过的最大的K个元素"
   ]
  },
  {
   "cell_type": "markdown",
   "metadata": {},
   "source": [
    "#### 例题1：查找序列中最小的k个数\n",
    "输入n个整数，找出其中最小的K个数。例如输入4,5,1,6,2,7,3,8这8个数字，则最小的4个数字是1,2,3,4。"
   ]
  },
  {
   "cell_type": "code",
   "execution_count": 25,
   "metadata": {},
   "outputs": [],
   "source": [
    "import heapq\n",
    "class Solution:\n",
    "    def GetLeastNumbers_Solution(self, tinput, k):\n",
    "        if k > len(tinput):\n",
    "            return []\n",
    "        heapq.heapify(tinput)\n",
    "        result = []\n",
    "        for _ in range(k):\n",
    "            result.append(heapq.heappop(tinput))\n",
    "        return result"
   ]
  },
  {
   "cell_type": "code",
   "execution_count": 26,
   "metadata": {},
   "outputs": [
    {
     "name": "stdout",
     "output_type": "stream",
     "text": [
      "[1, 2, 3, 4]\n"
     ]
    }
   ],
   "source": [
    "# Sample input\n",
    "sequence = [4,5,1,6,2,7,3,8]\n",
    "S = Solution()\n",
    "result = S.GetLeastNumbers_Solution(sequence, 4)\n",
    "print(result)"
   ]
  },
  {
   "cell_type": "markdown",
   "metadata": {},
   "source": [
    "### 5.2 - 求动态数据集合的中位数\n",
    "如果从数据流中读出奇数个数值，那么中位数就是所有数值排序之后位于中间的数值。如果从数据流中读出偶数个数值，那么中位数就是所有数值排序之后中间两个数的平均值。\n",
    "#### 策略：\n",
    "- 维护两个堆，一个最大堆，一个最小堆。将数字按由小到大排序，前半部分放入最大堆，后半部分放入最小堆。\n",
    "- 为了使两个堆数据数目相差<=1，当数据总数目为奇数时，把新数据插入最大堆；偶数则插入最小堆。\n",
    "- 为了保证最大堆中所有值都小于最小堆中的任意值：\n",
    "    - 当数据总数为奇数时：如果新数据大于最小堆的最小值，则先把新数据插入最小堆，然后把最小堆的最小值插入最大堆。\n",
    "    - 当数据总数为偶数时：如果新数据小于最大堆的最大值，则先把新数据插入最大堆，然后把最大堆的最大值插入最小堆。"
   ]
  },
  {
   "cell_type": "code",
   "execution_count": 27,
   "metadata": {},
   "outputs": [],
   "source": [
    "import heapq\n",
    "class GetMedianInStream:\n",
    "    def __init__(self):\n",
    "        self.count = 0\n",
    "        self.max_heap = []\n",
    "        self.min_heap = []\n",
    "    \n",
    "    #  读取数据流\n",
    "    def Insert(self, num):\n",
    "        # write code here\n",
    "        self.count += 1\n",
    "        # 奇数次的数据，存入最大堆\n",
    "        if self.count & 1 == 1:\n",
    "            # 如果num大于最小堆的最小值，则把num插入最小堆，再把最小堆的最小值插入最大堆\n",
    "            if self.count > 1 and num > self.min_heap[0]:\n",
    "                tmp = heapq.heappushpop(self.min_heap, num)\n",
    "                heapq.heappush(self.max_heap, -tmp)\n",
    "            # 否则直接插入最大堆\n",
    "            else:\n",
    "                heapq.heappush(self.max_heap, -num)\n",
    "        # 偶数次的数据，存在最小堆\n",
    "        else:\n",
    "            # 如果num小于最大堆的最大值，则把num插入最大堆，再把最大堆的最大值插入最小堆\n",
    "            if num < -self.max_heap[0]:\n",
    "                tmp = heapq.heappushpop(self.max_heap, -num)\n",
    "                heapq.heappush(self.min_heap, -tmp)\n",
    "            # 否则直接插入最小堆\n",
    "            else:\n",
    "                heapq.heappush(self.min_heap, num)\n",
    "    \n",
    "    # 获取当前数据流的中位数\n",
    "    def GetMedian(self):\n",
    "        # write code here\n",
    "        if self.count == 0:\n",
    "            return None\n",
    "        elif self.count & 1 == 1:\n",
    "            return - self.max_heap[0]\n",
    "        return (-self.max_heap[0] + self.min_heap[0] + 0.0) / 2"
   ]
  },
  {
   "cell_type": "code",
   "execution_count": 28,
   "metadata": {},
   "outputs": [
    {
     "name": "stdout",
     "output_type": "stream",
     "text": [
      "4\n",
      "5.0\n",
      "6\n",
      "5.5\n",
      "6\n"
     ]
    }
   ],
   "source": [
    "# Sample Input\n",
    "S = GetMedianInStream()\n",
    "seq = [4, 6, 8, 5, 9]\n",
    "for num in seq:\n",
    "    S.Insert(num)\n",
    "    print(S.GetMedian())"
   ]
  },
  {
   "cell_type": "markdown",
   "metadata": {},
   "source": [
    "### 5.3 - 优先队列（Priority Queue）\n",
    "优先队列是队列的推广形式。在传统的队列中，元素按“先进先出（FIFO）”的顺序输出；而在优先队列里，每一个元素都会被赋予一个优先次序（priority），各元素按优先次序依次输出。\n",
    "\n",
    "优先队列的搭建需要用到堆和堆排序，因此可以认为优先队列就是堆。"
   ]
  },
  {
   "cell_type": "code",
   "execution_count": null,
   "metadata": {},
   "outputs": [],
   "source": []
  }
 ],
 "metadata": {
  "kernelspec": {
   "display_name": "Python 3",
   "language": "python",
   "name": "python3"
  },
  "language_info": {
   "codemirror_mode": {
    "name": "ipython",
    "version": 3
   },
   "file_extension": ".py",
   "mimetype": "text/x-python",
   "name": "python",
   "nbconvert_exporter": "python",
   "pygments_lexer": "ipython3",
   "version": "3.7.4"
  }
 },
 "nbformat": 4,
 "nbformat_minor": 2
}
