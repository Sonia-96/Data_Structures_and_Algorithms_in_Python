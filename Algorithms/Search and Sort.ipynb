{
 "cells": [
  {
   "cell_type": "markdown",
   "metadata": {},
   "source": [
    "# 排序和查找"
   ]
  },
  {
   "cell_type": "markdown",
   "metadata": {},
   "source": [
    "## 1 - 排序算法\n",
    "\n",
    "注：以下排序算法都按从小到大排序"
   ]
  },
  {
   "cell_type": "markdown",
   "metadata": {},
   "source": [
    "**如何分析一个排序算法？**\n",
    "\n",
    "- 执行效率：\n",
    "    - 最好、最坏、平均情况时间复杂度：\n",
    "    - 时间复杂度的系数、常数、低阶：\n",
    "    - 比较次数和交换(或移动)次数：\n",
    "- 内存消耗：\n",
    "    - 原位排序(Sorted in place)：特指空间复杂度为O(1)的排序算法；\n",
    "- 稳定性：\n",
    "    - 定义：如果待排序的序列中存在值相等的元素，经过排序后，相等元素之间原有的先后顺序不变；"
   ]
  },
  {
   "cell_type": "markdown",
   "metadata": {},
   "source": [
    "### 1.1 - 选择排序 (Selection Sort)\n",
    "\n",
    "- 将数组分为有序区间和无序区间（初始有序区间为空，无序区间为整个数组）\n",
    "- 每次从无序区间选择最小的元素，并和该区间第一个元素交换位置，重复此操作直到排列完成。"
   ]
  },
  {
   "cell_type": "code",
   "execution_count": 1,
   "metadata": {},
   "outputs": [],
   "source": [
    "def SelectionSort(nums):\n",
    "    for i in range(len(nums) - 1):\n",
    "        min_index = i\n",
    "        for j in range(i + 1, len(nums)):\n",
    "            if nums[min_index] > nums[j]:\n",
    "                min_index = j\n",
    "        nums[i], nums[min_index] = nums[min_index], nums[i]\n",
    "    return nums"
   ]
  },
  {
   "cell_type": "code",
   "execution_count": 2,
   "metadata": {},
   "outputs": [
    {
     "data": {
      "text/plain": [
       "[2, 5, 5, 8, 9]"
      ]
     },
     "execution_count": 2,
     "metadata": {},
     "output_type": "execute_result"
    }
   ],
   "source": [
    "# test case\n",
    "nums = [5, 8, 5, 2, 9]\n",
    "SelectionSort(nums)"
   ]
  },
  {
   "cell_type": "markdown",
   "metadata": {},
   "source": [
    "分析：\n",
    "- 时间复杂度：\n",
    "    - 最好：O(n<sup>2</sup>)\n",
    "    - 最坏：O(n<sup>2</sup>)\n",
    "    - 平均：O(n<sup>2</sup>)\n",
    "- 原位排序算法\n",
    "- 不稳定排序：每次从无序区间选择最小的元素，并和该区间第一个元素交换位置，破坏了原有的顺序。例：[5, 8, 5, 2, 9]"
   ]
  },
  {
   "cell_type": "markdown",
   "metadata": {},
   "source": [
    "### 1.2 - 冒泡排序 (Bubble Sort) \n",
    "\n",
    "- 将待排序数组分为无序区间和有序区间（初始无序区间为整个数组，初始有序区间为空且位于无序区间后面）\n",
    "- 在无序区间中，从左到右依次比较相邻两个元素，如果左侧元素大于右侧元素，则两者交换位置。这样的比较每进行一轮，就能将无序区间中最大的元素放到其末尾。这就如同冒泡一样，所以称作“冒泡算法”。"
   ]
  },
  {
   "cell_type": "code",
   "execution_count": 3,
   "metadata": {},
   "outputs": [],
   "source": [
    "# solution 1\n",
    "def BubbleSort_1(nums):\n",
    "    for i in range(len(nums) - 1):\n",
    "        exchange = False # 提前退出循环的标志\n",
    "        for j in range(len(nums) - 1 - i):\n",
    "            if nums[j] > nums[j + 1]:\n",
    "                nums[j], nums[j+1] = nums[j+1], nums[j]\n",
    "                exchange = True\n",
    "        if not exchange: # 如果exchange=False，说明数组已排序完成\n",
    "            break\n",
    "    return nums"
   ]
  },
  {
   "cell_type": "code",
   "execution_count": 4,
   "metadata": {},
   "outputs": [
    {
     "data": {
      "text/plain": [
       "[2, 5, 5, 8, 9]"
      ]
     },
     "execution_count": 4,
     "metadata": {},
     "output_type": "execute_result"
    }
   ],
   "source": [
    "# test case\n",
    "nums =  [5, 8, 5, 2, 9]\n",
    "BubbleSort_1(nums)"
   ]
  },
  {
   "cell_type": "code",
   "execution_count": 5,
   "metadata": {},
   "outputs": [],
   "source": [
    "# solution 2\n",
    "def BubbleSort_2(arr):\n",
    "    i = len(arr) - 1\n",
    "    while i > 0:\n",
    "        last_exchange = 0\n",
    "        for j in range(i):\n",
    "            if arr[j] > arr[j+1]:\n",
    "                arr[j], arr[j+1] = arr[j+1], arr[j]\n",
    "                last_exchange = j\n",
    "        # 经过一轮比较后，nums[:last_exchange]为有序区间，nums[last_exchange:]为无序区间\n",
    "        i = last_exchange\n",
    "    return arr"
   ]
  },
  {
   "cell_type": "code",
   "execution_count": 6,
   "metadata": {},
   "outputs": [
    {
     "data": {
      "text/plain": [
       "[2, 5, 5, 8, 9]"
      ]
     },
     "execution_count": 6,
     "metadata": {},
     "output_type": "execute_result"
    }
   ],
   "source": [
    "# test case\n",
    "nums =  [5, 8, 5, 2, 9]\n",
    "BubbleSort_2(nums)"
   ]
  },
  {
   "cell_type": "markdown",
   "metadata": {},
   "source": [
    "分析：\n",
    "\n",
    "- 原位排序算法\n",
    "- 稳定排序算法：两个元素相等时不交换位置\n",
    "- 时间复杂度：\n",
    "    - 最好：对正序数组，O(n)\n",
    "    - 最坏：对倒序数组，O(n<sup>2</sup>)\n",
    "    - 平均：O(n<sup>2</sup>)"
   ]
  },
  {
   "cell_type": "markdown",
   "metadata": {},
   "source": [
    "### 1.3 - 插入排序 (Insertioin Sort)\n",
    "- 将待排序数组分为有序区间和无序区间，初始有序区间仅含数组的第一个元素。\n",
    "- 每次取无序区间的第一个元素放入有序区间的正确位置(从后往前进行比较）。"
   ]
  },
  {
   "cell_type": "code",
   "execution_count": 7,
   "metadata": {},
   "outputs": [],
   "source": [
    "# solution 1 - for loop\n",
    "def InsertionSort_1(nums):\n",
    "    for i in range(1, len(nums)):\n",
    "        tmp = nums[i]\n",
    "        j = i - 1\n",
    "        for j in range(i-1, -2, -1):\n",
    "            if nums[j] > tmp: # 如果该元素大于tmp，就把它往后移动一个位置\n",
    "                nums[j+1] = nums[j]\n",
    "            else:\n",
    "                break\n",
    "        nums[j + 1] = tmp # 把tmp插入正确的位置\n",
    "    return nums"
   ]
  },
  {
   "cell_type": "markdown",
   "metadata": {},
   "source": [
    "思考：为什么for loop在-1结束：\n",
    "\n",
    "答：这是为了区分nums[0]的两种情况。\n",
    "\n",
    "- 如果nums[0] > tmp，则应该把nums[0]向后移动一个位置，然后将tmp移动到nums[0]。所以应该使j=-1.\n",
    "- 如果nums[0] < tmp，则j=0并退出循环，然后将tmp移动到nums[1]。所以应该使j=0.\n",
    "\n",
    "如果 for loop在0结束，则上述两种情况都会以j=0退出循环，无法做出区分。\n",
    "\n",
    "但如果for loop在-1结束，第一种情况以j=-1退出，第二种情况以j=0退出，刚好符合条件。(j=-1时多做的那次比较对最终顺序没有影响）"
   ]
  },
  {
   "cell_type": "code",
   "execution_count": 8,
   "metadata": {},
   "outputs": [
    {
     "data": {
      "text/plain": [
       "[1, 2, 5, 8, 9]"
      ]
     },
     "execution_count": 8,
     "metadata": {},
     "output_type": "execute_result"
    }
   ],
   "source": [
    "# test case\n",
    "a = [5, 8, 1, 2, 9]\n",
    "InsertionSort_1(a)"
   ]
  },
  {
   "cell_type": "code",
   "execution_count": 9,
   "metadata": {},
   "outputs": [],
   "source": [
    "# solution 2 - while loop\n",
    "def InsertionSort_2(nums):\n",
    "    for i in range(1, len(nums)):\n",
    "        tmp = nums[i]\n",
    "        j = i - 1\n",
    "        while j >= 0:\n",
    "            if nums[j] > tmp: # 如果该元素大于tmp，就把它往后移动一个位置\n",
    "                nums[j+1] = nums[j]\n",
    "                j -= 1\n",
    "            else:\n",
    "                break\n",
    "        nums[j + 1] = tmp # 把tmp插入正确的位置\n",
    "    return nums"
   ]
  },
  {
   "cell_type": "code",
   "execution_count": 10,
   "metadata": {},
   "outputs": [
    {
     "data": {
      "text/plain": [
       "[1, 2, 4, 5, 8]"
      ]
     },
     "execution_count": 10,
     "metadata": {},
     "output_type": "execute_result"
    }
   ],
   "source": [
    "# test case\n",
    "nums =  [5, 8, 1, 2, 4]\n",
    "InsertionSort_2(nums)"
   ]
  },
  {
   "cell_type": "markdown",
   "metadata": {},
   "source": [
    "**补充说明**：\n",
    "\n",
    "for loop 和 while loop的区别\n",
    "- for loop结束后，i的值为循环内允许的最小值/最大值\n",
    "- while loop结束后，i的值为跳出循环的第一个值"
   ]
  },
  {
   "cell_type": "code",
   "execution_count": 11,
   "metadata": {},
   "outputs": [
    {
     "name": "stdout",
     "output_type": "stream",
     "text": [
      "0\n"
     ]
    }
   ],
   "source": [
    "n = 10\n",
    "for i in range(n, -1, -1):\n",
    "    continue\n",
    "print(i)"
   ]
  },
  {
   "cell_type": "code",
   "execution_count": 12,
   "metadata": {},
   "outputs": [
    {
     "name": "stdout",
     "output_type": "stream",
     "text": [
      "-1\n"
     ]
    }
   ],
   "source": [
    "i = n-1\n",
    "while i >=0:\n",
    "    i -= 1\n",
    "    continue\n",
    "print(i)"
   ]
  },
  {
   "cell_type": "markdown",
   "metadata": {},
   "source": [
    "总结：**插入排序**\n",
    "\n",
    "- 原位排序算法\n",
    "- 稳定排序算法\n",
    "- 时间复杂度：\n",
    "    - 最好：对正序数组，O(n)\n",
    "    - 最坏：对倒序数组，O(n<sup>2</sup>)\n",
    "    - 平均：O(n<sup>2</sup>)\n"
   ]
  },
  {
   "cell_type": "markdown",
   "metadata": {},
   "source": [
    "### 1.4 - 希尔排序\n",
    "\n",
    "希尔排序是插入排序的改进版，也称为**缩小增量排序**。\n",
    "\n",
    "原理：\n",
    "\n",
    "- 对数组按一定增量分组，对每组使用插入排序算法；\n",
    "- 增量缩小为原来的一半，重复上面的操作；\n",
    "- 不断缩小增量，当增量减至1时，排序完成。\n",
    "\n",
    "希尔排序使数组先达到宏观上的有序，再达到微观上的有序，从而有效减少数据的移动次数。"
   ]
  },
  {
   "cell_type": "code",
   "execution_count": 13,
   "metadata": {},
   "outputs": [],
   "source": [
    "def ShellSort(nums):\n",
    "    gap = len(nums) // 2\n",
    "    while gap > 0:\n",
    "        for i in range(gap, len(nums)):\n",
    "            tmp = nums[i]\n",
    "            j = i - gap\n",
    "            while j >= 0:\n",
    "                if nums[j] > tmp:\n",
    "                    nums[j + gap] = nums[j]\n",
    "                    j -= gap\n",
    "                else:\n",
    "                    break\n",
    "            nums[j + gap] = tmp\n",
    "        gap //= 2\n",
    "    return nums"
   ]
  },
  {
   "cell_type": "code",
   "execution_count": 14,
   "metadata": {},
   "outputs": [
    {
     "data": {
      "text/plain": [
       "[1, 2, 3, 4, 5]"
      ]
     },
     "execution_count": 14,
     "metadata": {},
     "output_type": "execute_result"
    }
   ],
   "source": [
    "# test case\n",
    "a = [3, 1, 5, 2, 4]\n",
    "ShellSort(a)"
   ]
  },
  {
   "cell_type": "markdown",
   "metadata": {},
   "source": [
    "希尔排序就是在插入排序的基础上，增加了一个控制增量（gap）的外循环。"
   ]
  },
  {
   "cell_type": "markdown",
   "metadata": {},
   "source": [
    "总结：**希尔排序**\n",
    "\n",
    "- 原位排序\n",
    "- 不稳定排序：虽然插入排序是稳定的，但希尔排序不稳定，因为希尔排序采用的是跳跃性插入，可能会破坏原有的顺序。例：[7, 5, 5, 8]\n",
    "- 时间复杂度：可以突破O(n<sup>2</sup>)的限制"
   ]
  },
  {
   "cell_type": "markdown",
   "metadata": {},
   "source": [
    "\n",
    "- 冒泡排序、选择排序在实际开发中应用很少\n",
    "- 插入排序适用于小规模数据，其改进版希尔排序在实际应用中很常用"
   ]
  },
  {
   "cell_type": "markdown",
   "metadata": {},
   "source": [
    "### 1.5 - 归并排序 (Merge Sort)\n",
    "\n",
    "先将序列分成从中间两个部分，两边各自排序，然后将排序后的序列合并。"
   ]
  },
  {
   "cell_type": "code",
   "execution_count": 15,
   "metadata": {},
   "outputs": [],
   "source": [
    "# solution 1：A和B从最后一个元素开始比较\n",
    "def Merge_1(A, B):\n",
    "    # A, B已经排好序\n",
    "    C = [0] * (len(A) + len(B))\n",
    "    i = len(C) - 1\n",
    "    while A and B:\n",
    "        if A[-1] < B[-1]:\n",
    "            C[i] = B.pop()\n",
    "        else:\n",
    "            C[i] = A.pop()\n",
    "        i -= 1\n",
    "    if A:\n",
    "        C[:i+1] = A\n",
    "    if B:\n",
    "        C[:i+1] = B\n",
    "    return C\n",
    "\n",
    "def MergeSort_1(nums):\n",
    "    if len(nums) <= 1:\n",
    "        return nums\n",
    "    mid = len(nums) // 2\n",
    "    left = MergeSort_1(nums[:mid])\n",
    "    right = MergeSort_1(nums[mid:])\n",
    "    return Merge_1(left, right)"
   ]
  },
  {
   "cell_type": "code",
   "execution_count": 16,
   "metadata": {
    "scrolled": true
   },
   "outputs": [
    {
     "data": {
      "text/plain": [
       "[1, 2, 4, 5, 8]"
      ]
     },
     "execution_count": 16,
     "metadata": {},
     "output_type": "execute_result"
    }
   ],
   "source": [
    "# test case\n",
    "a = [5, 8, 1, 2, 4]\n",
    "MergeSort_1(a)"
   ]
  },
  {
   "cell_type": "code",
   "execution_count": 17,
   "metadata": {},
   "outputs": [],
   "source": [
    "# solution 2：A和B从第一个元素开始比较\n",
    "def Merge_2(A, B):\n",
    "    C = [0] * (len(A) + len(B))\n",
    "    a, b, c = 0, 0, 0\n",
    "    while a < len(A) and b < len(B):\n",
    "        if A[a] < B[b]:\n",
    "            C[c] = A[a]\n",
    "            a += 1\n",
    "        else:\n",
    "            C[c] = B[b]\n",
    "            b += 1\n",
    "        c += 1\n",
    "    if a < len(A):\n",
    "        C[c:] = A[a:]\n",
    "    elif b < len(B):\n",
    "        C[c:] = B[b:]\n",
    "    return C\n",
    "\n",
    "def MergeSort_2(nums):\n",
    "    if len(nums) <= 1:\n",
    "        return nums\n",
    "    mid = len(nums) // 2\n",
    "    left = MergeSort_2(nums[:mid])\n",
    "    right = MergeSort_2(nums[mid:])\n",
    "    return Merge_1(left, right)"
   ]
  },
  {
   "cell_type": "code",
   "execution_count": 18,
   "metadata": {},
   "outputs": [
    {
     "data": {
      "text/plain": [
       "[1, 2, 3, 4, 5]"
      ]
     },
     "execution_count": 18,
     "metadata": {},
     "output_type": "execute_result"
    }
   ],
   "source": [
    "# test case\n",
    "a = [3, 1, 5, 2, 4]\n",
    "MergeSort_2(a)"
   ]
  },
  {
   "cell_type": "markdown",
   "metadata": {},
   "source": [
    "总结：**合并排序**\n",
    "\n",
    "- 非原位排序：空间复杂度O(n)\n",
    "- 稳定排序\n",
    "- 时间复杂度：\n",
    "    - 最好：O(nlogn)\n",
    "    - 最坏：O(nlogn)\n",
    "    - 平均：O(nlogn)"
   ]
  },
  {
   "cell_type": "markdown",
   "metadata": {},
   "source": [
    "对于所有基于比较的排序方法，其时间复杂度都>=O(nlogn)"
   ]
  },
  {
   "cell_type": "markdown",
   "metadata": {},
   "source": [
    "### 1.6 - 快速排序 (Quick Sort) \n",
    "\n",
    "1. 选取待排数组中任意一个数字作为分区点pivot（主元）\n",
    "2. 遍历数组中的元素，把小于pivot的元素放到pivot左边，大于pivot的元素放到pivot右边\n",
    "3. 对pivot两侧的区域重复步骤1和步骤2，直至分区长度为1。"
   ]
  },
  {
   "cell_type": "code",
   "execution_count": 19,
   "metadata": {},
   "outputs": [],
   "source": [
    "# solution 1：选取第一个元素作为pivot\n",
    "def Partition_1(nums, start, end):\n",
    "    pivot = nums[start] \n",
    "    j = start # j是小于等于pivot的元素所在区间的右边界\n",
    "    for i in range(start + 1, end + 1):\n",
    "        if nums[i] <= pivot:\n",
    "            j += 1\n",
    "            nums[i], nums[j] = nums[j], nums[i]\n",
    "    nums[start], nums[j] = nums[j], nums[start] # 把主元放入正确的位置\n",
    "    return j\n",
    "    \n",
    "def QuickSort_1(nums, start, end):\n",
    "    if start >= end:\n",
    "        return\n",
    "    m = Partition_1(nums, start, end)\n",
    "    QuickSort_1(nums, start, m - 1)\n",
    "    QuickSort_1(nums, m + 1, end)"
   ]
  },
  {
   "cell_type": "code",
   "execution_count": 20,
   "metadata": {},
   "outputs": [
    {
     "data": {
      "text/plain": [
       "[1, 2, 3, 4, 5]"
      ]
     },
     "execution_count": 20,
     "metadata": {},
     "output_type": "execute_result"
    }
   ],
   "source": [
    "# test case\n",
    "a = [3, 1, 5, 2, 4]\n",
    "QuickSort_1(a, 0, len(a)-1)\n",
    "a"
   ]
  },
  {
   "cell_type": "code",
   "execution_count": 21,
   "metadata": {},
   "outputs": [],
   "source": [
    "# solution 2：随机选取pivot\n",
    "import random\n",
    "def Partition_2(nums, start, end):\n",
    "    p = random.randint(start, end)\n",
    "    pivot = nums[p]\n",
    "    j = start \n",
    "    nums[start], nums[p] = nums[p], nums[start]\n",
    "    for i in range(start + 1, end + 1):\n",
    "        if nums[i] <= pivot:\n",
    "            j += 1\n",
    "            if i != j:\n",
    "                nums[i], nums[j] = nums[j], nums[i]\n",
    "    nums[start], nums[j] = nums[j], nums[start]\n",
    "    return j\n",
    "    \n",
    "def QuickSort_2(nums, start, end):\n",
    "    if start >= end:\n",
    "        return\n",
    "    m = Partition_2(nums, start, end)\n",
    "    QuickSort_2(nums, start, m - 1)\n",
    "    QuickSort_2(nums, m + 1, end)"
   ]
  },
  {
   "cell_type": "code",
   "execution_count": 22,
   "metadata": {},
   "outputs": [
    {
     "data": {
      "text/plain": [
       "[1, 2, 3, 4, 5]"
      ]
     },
     "execution_count": 22,
     "metadata": {},
     "output_type": "execute_result"
    }
   ],
   "source": [
    "# test case\n",
    "a = [3, 1, 5, 2, 4]\n",
    "QuickSort_2(a, 0, len(a)-1)\n",
    "a"
   ]
  },
  {
   "cell_type": "code",
   "execution_count": 23,
   "metadata": {},
   "outputs": [],
   "source": [
    "# 选取最后一个元素作为主元\n",
    "def Partition_3(nums, start, end):\n",
    "    pivot = nums[end]\n",
    "    j = start\n",
    "    for i in range(start, end):\n",
    "        if nums[i] <= pivot:\n",
    "            if i != j:\n",
    "                nums[i], nums[j] = nums[j], nums[i]\n",
    "            j += 1\n",
    "    nums[j], nums[end] = nums[end], nums[j]\n",
    "    return j\n",
    "\n",
    "def QuickSort_3(nums, start, end):\n",
    "    if start >= end:\n",
    "        return \n",
    "    m = Partition_3(nums, start, end)\n",
    "    QuickSort_3(nums, start, m - 1)\n",
    "    QuickSort_3(nums, m + 1, end)"
   ]
  },
  {
   "cell_type": "code",
   "execution_count": 24,
   "metadata": {},
   "outputs": [
    {
     "data": {
      "text/plain": [
       "[1, 2, 3, 4, 5]"
      ]
     },
     "execution_count": 24,
     "metadata": {},
     "output_type": "execute_result"
    }
   ],
   "source": [
    "# test case\n",
    "a = [3, 1, 5, 2, 4]\n",
    "QuickSort_3(a, 0, len(a)-1)\n",
    "a"
   ]
  },
  {
   "cell_type": "markdown",
   "metadata": {},
   "source": [
    "总结：快速排序\n",
    "\n",
    "- 原位排序\n",
    "- 不稳定排序：分区过程中涉及交换操作，相等元素的先后顺序会改变，如[6, 8, 7, 6, 3, 4,]，pivot为第一个6。\n",
    "- 时间复杂度：\n",
    "    - 最坏：分区极不平衡（如:有序数据+每次选择第一个元素作pivot，或者数组里的数字全部一样）O(n<sup>2</sup>)\n",
    "    - 最好：分区平衡，O(nlogn)\n",
    "    - 平均：绝大部分情况都是O(nlogn)\n",
    "    \n",
    "**快速排序优化：**\n",
    "\n",
    "- 三数取中法：从区间的首、尾、中间分别取出一个数，选择三个数的中间值作为分区点；\n",
    "- 如果要排序的区间很大，可以\"五数取中\"、\"十数取中\"等"
   ]
  },
  {
   "cell_type": "markdown",
   "metadata": {},
   "source": [
    "### 1.7 - 三区快速排序（3-Way Quick Sort）\n",
    "\n",
    "快速排序的改进版，主要针对数组里有大量相同数字的情况。\n",
    "\n",
    "原理：\n",
    "- 将数组分为三个区域：小于pivot，等于pivot，大于pivot"
   ]
  },
  {
   "cell_type": "markdown",
   "metadata": {},
   "source": [
    "**有bug版**\n",
    "\n",
    "下面这个代码有bug，但是非常不容易发现，所以放在这里供回顾，争取下次不要再犯了！"
   ]
  },
  {
   "cell_type": "code",
   "execution_count": 25,
   "metadata": {},
   "outputs": [],
   "source": [
    "# 有bug！！！\n",
    "def Partition3(nums, start, end):\n",
    "    pivot = nums[end]\n",
    "    i = start # 小于x的元素的右边界\n",
    "    j = end - 1 # 大于x的元素的左边界\n",
    "    p = start # 左边区域==pivot的元素的右边界\n",
    "    q = end - 1 # 右边区域==pivot的元素的左边界\n",
    "    \n",
    "    while True:\n",
    "        # 从左到右，找到第一个>=pivot的元素的位置\n",
    "        while nums[i] < pivot: # \n",
    "            i += 1\n",
    "        # 从右到左，找到第一个<=pivot的元素的位置\n",
    "        while nums[j] > pivot: # <-- bug，如果nums[j]刚好等于pivot，那么j就不会改变了，所以必须比较下一个元素\n",
    "            j -= 1\n",
    "        # 如果i>=j，分区结束\n",
    "        if i >= j:\n",
    "            break\n",
    "        \n",
    "        nums[i], nums[j] = nums[j], nums[i]\n",
    "        \n",
    "        # 把左边区域所有==pivot的元素放到其开头\n",
    "        if nums[i] == pivot:\n",
    "            nums[i], nums[p] = nums[p], nums[i]\n",
    "            p += 1\n",
    "        # 把右边区域所有==pivot的元素放到其末尾\n",
    "        if nums[j] == pivot:\n",
    "            nums[j], nums[q] = nums[q], nums[j]\n",
    "            q -= 1\n",
    "    \n",
    "    # 把pivot放到正确位置\n",
    "    nums[end], nums[i] = nums[i], nums[end]\n",
    "    \n",
    "    # 把左边区域中等于pivot的元素放到其末尾\n",
    "    j = i - 1\n",
    "    k = start\n",
    "    while k < p:\n",
    "        nums[k], nums[j] = nums[j], nums[k]\n",
    "        k += 1\n",
    "        j -= 1\n",
    "    \n",
    "    # 把右边区域中等于pivot的元素放到其开头\n",
    "    i = i + 1\n",
    "    k = end - 1\n",
    "    while k > q:\n",
    "        nums[k], nums[i] = nums[i], nums[k]\n",
    "        k -= 1\n",
    "        i += 1\n",
    "    \n",
    "    return j, i\n",
    "    \n",
    "def QuickSort3(nums, start, end):\n",
    "    if start >= end:\n",
    "        return \n",
    "    j, i = Partition3(nums, start, end)\n",
    "    QuickSort3(nums, start, j)\n",
    "    QuickSort3(nums, i, end)"
   ]
  },
  {
   "cell_type": "code",
   "execution_count": 26,
   "metadata": {
    "scrolled": true
   },
   "outputs": [
    {
     "data": {
      "text/plain": [
       "[1, 2, 3, 4, 4, 6, 6, 9, 7, 8, 9]"
      ]
     },
     "execution_count": 26,
     "metadata": {},
     "output_type": "execute_result"
    }
   ],
   "source": [
    "# test case\n",
    "a = [1, 4, 2, 6, 9, 8, 9, 4, 7, 3, 6]\n",
    "QuickSort3(a, 0, len(a)-1)\n",
    "a"
   ]
  },
  {
   "cell_type": "markdown",
   "metadata": {},
   "source": [
    "**正确版**"
   ]
  },
  {
   "cell_type": "code",
   "execution_count": 27,
   "metadata": {},
   "outputs": [],
   "source": [
    "def QuickSort3(arr, left, right):\n",
    "    if left >= right:\n",
    "        return \n",
    "    m1, m2 = Partition3(arr, left, right)\n",
    "    QuickSort3(arr, left, m1)\n",
    "    QuickSort3(arr, m2, right)\n",
    "    \n",
    "def Partition3(arr, left, right):\n",
    "    pivot = arr[right]\n",
    "    p = left - 1 # 列表左侧用于暂时存放等于pivot的元素的右边界（闭区间）\n",
    "    q = right # 列表右侧用于暂时存放等于pivot的元素的左边界\n",
    "    i = left - 1 # 小于pivot的元素的右边界（闭区间）\n",
    "    j = right # 大于pivot的元素的左边界\n",
    "    \n",
    "    # 划分左区域和右区域\n",
    "    while True:\n",
    "        # 划分左区域(<pivot)\n",
    "        while arr[i + 1] < pivot:\n",
    "            i += 1\n",
    "        i += 1\n",
    "        # 划分右区域（>pivot)\n",
    "        while arr[j - 1] > pivot:\n",
    "            j -= 1\n",
    "        j -= 1\n",
    "        if i >= j:\n",
    "            break\n",
    "        arr[i], arr[j] = arr[j], arr[i]\n",
    "        \n",
    "        # 如果左区域最右边的值等于pivot，就把它放到列表开头，暂时储存\n",
    "        if arr[i] == pivot:\n",
    "            p += 1\n",
    "            arr[i], arr[p] = arr[p], arr[i]\n",
    "        # 如果右区域最左边的值等于pivot，就把它放到列表末尾，暂时储存\n",
    "        if arr[j] == pivot:\n",
    "            q -= 1\n",
    "            arr[j], arr[q] = arr[q], arr[j]\n",
    "    \n",
    "    # 把pivot放入正确的位置\n",
    "    arr[i], arr[right] = arr[right], arr[i]\n",
    "    \n",
    "    # 将等于pivot的元素放入中间区域  \n",
    "    j = i - 1 # 左区域右边界\n",
    "    k = left\n",
    "    while k <= p:\n",
    "        arr[k], arr[j] = arr[j], arr[k]\n",
    "        k += 1\n",
    "        j -= 1\n",
    "    \n",
    "    i = i + 1 # 右区域左边界\n",
    "    k = right - 1\n",
    "    while k >= q:\n",
    "        arr[k], arr[i] = arr[i], arr[k]\n",
    "        k -= 1\n",
    "        i += 1\n",
    "    \n",
    "    return j, i"
   ]
  },
  {
   "cell_type": "code",
   "execution_count": 28,
   "metadata": {
    "scrolled": true
   },
   "outputs": [
    {
     "data": {
      "text/plain": [
       "[1, 2, 3, 4, 4, 6, 6, 7, 8, 9, 9]"
      ]
     },
     "execution_count": 28,
     "metadata": {},
     "output_type": "execute_result"
    }
   ],
   "source": [
    "# test case\n",
    "a = [1, 4, 2, 6, 9, 8, 9, 4, 7, 3, 6]\n",
    "QuickSort3(a, 0, len(a)-1)\n",
    "a"
   ]
  },
  {
   "cell_type": "markdown",
   "metadata": {},
   "source": [
    "分析：\n",
    "\n",
    "- 原位排序\n",
    "- 不稳定排序：分区过程中涉及交换操作，相等元素的先后顺序会改变.例，[3, 6, 9, 8, 4, 6], pivot为第二个6\n",
    "- 时间复杂度：\n",
    "    - 最坏：分区极不平衡（如:有序数据+每次选择第一个元素作pivot），O(n<sup>2</sup>)\n",
    "    - 最好：分区平衡，O(nlogn)\n",
    "    - 平均：绝大部分情况都是O(nlogn)"
   ]
  },
  {
   "cell_type": "markdown",
   "metadata": {},
   "source": [
    "### 1.8 - 计数排序 (Counting Sort) \n",
    "\n",
    "- 假设数列为A[1...n]，里面数字变化的范围为1~m。\n",
    "- 记录数字1~m的出现频次。\n",
    "- 新建一个数组，把数字按记录的频次从小到大依次填进去。"
   ]
  },
  {
   "cell_type": "code",
   "execution_count": 29,
   "metadata": {},
   "outputs": [],
   "source": [
    "def CountingSort(nums):\n",
    "    # 找到数列的最大值(即找到数字的变化范围)\n",
    "    max_num = a[0]\n",
    "    for i in range(1, len(nums)):\n",
    "        if a[i] > max_num:\n",
    "            max_num = a[i]\n",
    "    # 创建统计数组，统计数字出现的频次\n",
    "    count = [0] * (max_num + 1)\n",
    "    for i in range(len(nums)):\n",
    "        count[nums[i]] += 1\n",
    "    # 计算每种数字在sorted_nums中所属区域的右边界（开区间）\n",
    "    for i in range(1, max_num + 1):\n",
    "        count[i] = count[i-1] + count[i]\n",
    "    # 排序\n",
    "    sorted_nums = [0] * len(nums)\n",
    "    for i in range(len(nums)-1, -1, -1):\n",
    "        pos = count[nums[i]] - 1\n",
    "        sorted_nums[pos] = nums[i]\n",
    "        count[nums[i]] -= 1\n",
    "    return sorted_nums"
   ]
  },
  {
   "cell_type": "code",
   "execution_count": 30,
   "metadata": {},
   "outputs": [
    {
     "data": {
      "text/plain": [
       "[1, 2, 2, 3, 5, 7, 9]"
      ]
     },
     "execution_count": 30,
     "metadata": {},
     "output_type": "execute_result"
    }
   ],
   "source": [
    "# test case\n",
    "a = [2, 5, 7, 3, 2, 9, 1]\n",
    "CountingSort(a)"
   ]
  },
  {
   "cell_type": "markdown",
   "metadata": {},
   "source": [
    "分析：**计数排序**\n",
    "\n",
    "假设数组长度为n，数字的最大值为m，则计数排序：\n",
    "\n",
    "- 非原位排序：空间复杂度O(n)\n",
    "- 稳定排序\n",
    "- 时间复杂度：\n",
    "    - 最坏：O(n+m)\n",
    "    - 最好：O(n+m)\n",
    "    - 平均：O(n+m)\n",
    "\n",
    "**计数排序适用于：**\n",
    "\n",
    "- m和n的值相近或m << n，m越小，效果越好。例如，高考分数0-750，考生共有100万个，可用计数排序对考生排名。\n",
    "- 数字均为非负整数。如果为负数，需要在不改变数字相对大小的情况下将数字改变为非负整数。"
   ]
  },
  {
   "cell_type": "markdown",
   "metadata": {},
   "source": [
    "### 总结\n",
    "排序算法 | 原位与否 | 稳定与否 | 时间复杂度 | 最坏时间复杂度| 最好时间复杂度\n",
    ":-: | :-: | :-: | :-: | :-: | :-:\n",
    "选择排序 | 原位 | 不稳定 | O(n<sup>2</sup>) | O(n<sup>2</sup>)| O(n<sup>2</sup>)\n",
    "冒泡排序 | 原位 | 稳定 | O(n<sup>2</sup>) | O(n<sup>2</sup>)| O(n)\n",
    "插入排序 | 原位 | 稳定 | O(n<sup>2</sup>) | O(n<sup>2</sup>)| O(n)\n",
    "希尔排序 | 原位 | 不稳定 | <O(n<sup>2</sup>) | / | /\n",
    "归并排序 | 非原位 | 稳定 | O(nlogn) | O(nlogn) | O(nlogn)\n",
    "快速排序 | 原位 | 不稳定 | O(nlogn) | O(n<sup>2</sup>) | O(nlogn)\n",
    "3区快速排序 | 原位 | 不稳定 | O(nlogn) | O(n<sup>2</sup>)| O(nlogn)\n",
    "计数排序 | 非原位 | 稳定 | O(n+m) | O(n+m) | O(n+m) "
   ]
  },
  {
   "cell_type": "markdown",
   "metadata": {},
   "source": [
    "## 2 - 查找算法"
   ]
  },
  {
   "cell_type": "markdown",
   "metadata": {},
   "source": [
    "### 2.1 - 顺序查找/线性搜索 (Linear Search)\n",
    "\n",
    "- 在待查找的区间中，从前往后逐个遍历，找到目标则返回对应位置，否则返回None。\n",
    "- 适用于未排序的数组\n",
    "- 时间复杂度：O(n)"
   ]
  },
  {
   "cell_type": "code",
   "execution_count": 31,
   "metadata": {},
   "outputs": [],
   "source": [
    "# 迭代版本\n",
    "def linear_search_iteration(arr, key):\n",
    "    for i in range(len(arr)):\n",
    "        if arr[i] == key:\n",
    "            return i\n",
    "    return None"
   ]
  },
  {
   "cell_type": "code",
   "execution_count": 32,
   "metadata": {},
   "outputs": [
    {
     "name": "stdout",
     "output_type": "stream",
     "text": [
      "None\n",
      "3\n"
     ]
    }
   ],
   "source": [
    "# test case\n",
    "a = [8, 5, 10, 4, 1]\n",
    "print(linear_search_iteration(a, 2))\n",
    "print(linear_search_iteration(a, 4))"
   ]
  },
  {
   "cell_type": "code",
   "execution_count": 33,
   "metadata": {},
   "outputs": [],
   "source": [
    "# 递归版本\n",
    "def linear_search_recursion(arr,low, high, key):\n",
    "    if high < low:\n",
    "        return None\n",
    "    if arr[low] == key:\n",
    "        return low\n",
    "    return linear_search_recursion(arr, low+1, high, key)"
   ]
  },
  {
   "cell_type": "code",
   "execution_count": 34,
   "metadata": {},
   "outputs": [
    {
     "name": "stdout",
     "output_type": "stream",
     "text": [
      "None\n",
      "3\n"
     ]
    }
   ],
   "source": [
    "# test case\n",
    "a = [8, 5, 10, 4, 1]\n",
    "print(linear_search_iteration(a, 2))\n",
    "print(linear_search_iteration(a, 4))"
   ]
  },
  {
   "cell_type": "markdown",
   "metadata": {},
   "source": [
    "### 2.2 - 二分查找(Binary Search)\n",
    "- 将**排序数组**分为两部分，选择目标元素所在的部分；然后将这部分二分，再次选择该元素所在的部分……就这样不断二分，直到中点刚好就是目标元素。\n",
    "- 时间复杂度：O(log n)"
   ]
  },
  {
   "cell_type": "code",
   "execution_count": 35,
   "metadata": {},
   "outputs": [],
   "source": [
    "# 迭代版本\n",
    "def binary_search_iteration(arr, key):\n",
    "    low = 0\n",
    "    high = len(arr)\n",
    "    while low <= high:\n",
    "        mid = (low + high) // 2\n",
    "        if arr[mid] == key:\n",
    "            return mid\n",
    "        elif arr[mid] < key:\n",
    "            low = mid + 1\n",
    "        else:\n",
    "            high = mid - 1\n",
    "    return None"
   ]
  },
  {
   "cell_type": "code",
   "execution_count": 36,
   "metadata": {},
   "outputs": [
    {
     "name": "stdout",
     "output_type": "stream",
     "text": [
      "None\n",
      "5\n",
      "8\n"
     ]
    }
   ],
   "source": [
    "# test case\n",
    "a = [3, 5, 8, 10, 12, 15, 18, 20, 20, 50, 60]\n",
    "print(binary_search_iteration(a, 14))\n",
    "print(binary_search_iteration(a, 15))\n",
    "print(binary_search_iteration(a, 20))"
   ]
  },
  {
   "cell_type": "code",
   "execution_count": 37,
   "metadata": {},
   "outputs": [],
   "source": [
    "# 递归版本\n",
    "def binary_search_recursion(arr, low, high, key):\n",
    "    if high < low:\n",
    "        return None\n",
    "    mid = (low + high) // 2\n",
    "    if arr[mid] == key:\n",
    "        return mid\n",
    "    if arr[mid] < key:\n",
    "        return binary_search_recursion(arr, mid+1, high, key)\n",
    "    return binary_search_recursion(arr, low, mid-1, key)"
   ]
  },
  {
   "cell_type": "code",
   "execution_count": 38,
   "metadata": {},
   "outputs": [
    {
     "name": "stdout",
     "output_type": "stream",
     "text": [
      "None\n",
      "5\n",
      "8\n"
     ]
    }
   ],
   "source": [
    "# test case\n",
    "a = [3, 5, 8, 10, 12, 15, 18, 20, 20, 50, 60]\n",
    "print(binary_search_recursion(a, 0, len(a), 14))\n",
    "print(binary_search_recursion(a, 0, len(a), 15))\n",
    "print(binary_search_recursion(a, 0, len(a), 20))"
   ]
  },
  {
   "cell_type": "code",
   "execution_count": null,
   "metadata": {},
   "outputs": [],
   "source": []
  }
 ],
 "metadata": {
  "kernelspec": {
   "display_name": "Python 3",
   "language": "python",
   "name": "python3"
  },
  "language_info": {
   "codemirror_mode": {
    "name": "ipython",
    "version": 3
   },
   "file_extension": ".py",
   "mimetype": "text/x-python",
   "name": "python",
   "nbconvert_exporter": "python",
   "pygments_lexer": "ipython3",
   "version": "3.7.4"
  }
 },
 "nbformat": 4,
 "nbformat_minor": 2
}
