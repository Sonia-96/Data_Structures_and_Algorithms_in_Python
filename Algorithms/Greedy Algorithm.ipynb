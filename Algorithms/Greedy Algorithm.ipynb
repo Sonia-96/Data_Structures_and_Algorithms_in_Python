{
 "cells": [
  {
   "cell_type": "markdown",
   "metadata": {},
   "source": [
    "# 贪心算法 (Greedy Algorithm)\n",
    "\n",
    "在求解问题时，每一步都做出当前最优的选择（贪心选择），最终可达到该问题的整体最优解。(贪心算法是动态规划的一种特殊情况）"
   ]
  },
  {
   "cell_type": "markdown",
   "metadata": {},
   "source": [
    "## 1 - 部分背包问题\n",
    "\n",
    "背包的容量为W kg，有n种不同的食物，其重量分别为[w1, w2, ..., wn], 总价分别为[v1, v2, ..., vn]，求背包所装食物的价值最大为多少？\n",
    "\n",
    "**策略**：\n",
    "\n",
    "- 计算各种食物的单价；\n",
    "- 按单价由高到低将食物装入背包中，直至装满。"
   ]
  },
  {
   "cell_type": "code",
   "execution_count": 1,
   "metadata": {},
   "outputs": [],
   "source": [
    "def FractionalKnapsack(capacity, w, v):\n",
    "    n = len(w)\n",
    "    value_per_weight = [0] * n\n",
    "    \n",
    "    # 对物品按单价从小到大排序，储存格式为（value_per_weight, weight)\n",
    "    for i in range(n):\n",
    "        value_per_weight[i] = (v[i] / w[i], w[i])\n",
    "    value_per_weight.sort(reverse=True)\n",
    "    \n",
    "    total_value = 0\n",
    "    i = 0\n",
    "    while i < n and capacity > 0:\n",
    "        tmp = min(capacity, value_per_weight[i][1])\n",
    "        total_value += tmp * value_per_weight[i][0]\n",
    "        capacity -= tmp\n",
    "        i += 1\n",
    "    return total_value"
   ]
  },
  {
   "cell_type": "code",
   "execution_count": 2,
   "metadata": {},
   "outputs": [
    {
     "data": {
      "text/plain": [
       "180.0"
      ]
     },
     "execution_count": 2,
     "metadata": {},
     "output_type": "execute_result"
    }
   ],
   "source": [
    "# test case 1\n",
    "capacity = 50\n",
    "w = [20, 50, 30]\n",
    "v = [60, 100, 120]\n",
    "FractionalKnapsack(capacity, w, v)"
   ]
  },
  {
   "cell_type": "code",
   "execution_count": 3,
   "metadata": {},
   "outputs": [
    {
     "data": {
      "text/plain": [
       "280.0"
      ]
     },
     "execution_count": 3,
     "metadata": {},
     "output_type": "execute_result"
    }
   ],
   "source": [
    "# test case 1\n",
    "capacity = 50\n",
    "w = [10, 20, 15]\n",
    "v = [60, 100, 120]\n",
    "FractionalKnapsack(capacity, w, v)"
   ]
  },
  {
   "cell_type": "markdown",
   "metadata": {},
   "source": [
    "## 2 - 区间覆盖问题\n",
    "\n",
    "x1,x2,… ,xn是直线上的n个点，用固定长度为k的闭区间去覆盖这n个点，需要至少多少个闭区间才能将这些点全部覆盖?\n",
    "\n",
    "策略：\n",
    "\n",
    "- 把这些点按从左到右排序；\n",
    "- 从最左侧的点开始，划长度为k的闭区间，将此区间覆盖的点从列表中去掉，然后继续用此方法覆盖剩下的点；\n",
    "- 最后得到的区间总数即为区间最小值，"
   ]
  },
  {
   "cell_type": "code",
   "execution_count": 4,
   "metadata": {},
   "outputs": [],
   "source": [
    "def PointsCover(x, k):\n",
    "    x.sort()\n",
    "    count = 0\n",
    "    i = 0\n",
    "    while i < len(x):\n",
    "        right = x[i] + k\n",
    "        while i < len(x) and x[i] <= right:\n",
    "            i += 1\n",
    "        count += 1\n",
    "    return count"
   ]
  },
  {
   "cell_type": "code",
   "execution_count": 5,
   "metadata": {},
   "outputs": [
    {
     "data": {
      "text/plain": [
       "3"
      ]
     },
     "execution_count": 5,
     "metadata": {},
     "output_type": "execute_result"
    }
   ],
   "source": [
    "# test case\n",
    "x = [1, 5, -2, 7, 3]\n",
    "k = 3\n",
    "PointsCover(x, k)"
   ]
  },
  {
   "cell_type": "markdown",
   "metadata": {},
   "source": [
    "### 问题变形"
   ]
  },
  {
   "cell_type": "markdown",
   "metadata": {},
   "source": [
    "#### 2.1 - 车的最少加油次数\n",
    "\n",
    "一辆车要从A地开到B地，两地距离为d km。A和B之间共有n个加油站，它们与A的距离分别为x1<=x2<=x3<=…<=xn km。已知该车在满油情况下能开m km，假设车从A地以满油状态出发，则到达B地时至少要加几次油？\n",
    "\n",
    "策略：车每次都开到能到达的最远的加油站去加油，这样能保证总的加油次数最少。"
   ]
  },
  {
   "cell_type": "code",
   "execution_count": 6,
   "metadata": {},
   "outputs": [],
   "source": [
    "def MinRefills(d, x, m):\n",
    "    # x为加油站与A地的距离的列表（由近到远排序）\n",
    "    n = len(x)\n",
    "    x += [d, 0] # 在x中加入B地和A地的位置\n",
    "    count = 0\n",
    "    i = -1 # 当前站点的编号，起始点为-1，即A地\n",
    "    while i < n:\n",
    "        # 如果两个站点的距离>m，则汽车无法到达B地\n",
    "        if x[i + 1] - x[i] > m:\n",
    "            return -1\n",
    "        # 从当前站点出发，汽车能到达的最远处\n",
    "        right = x[i] + m\n",
    "        while i < n and x[i + 1] <= right:\n",
    "            i += 1\n",
    "        # 如果i=n，则汽车已到达B地，无需再加油\n",
    "        if i < n:\n",
    "            count += 1\n",
    "    return count"
   ]
  },
  {
   "cell_type": "code",
   "execution_count": 7,
   "metadata": {},
   "outputs": [
    {
     "data": {
      "text/plain": [
       "2"
      ]
     },
     "execution_count": 7,
     "metadata": {},
     "output_type": "execute_result"
    }
   ],
   "source": [
    "# test case 1\n",
    "d = 950\n",
    "x = [200, 375, 550, 750]\n",
    "m = 400\n",
    "MinRefills(d, x, m)"
   ]
  },
  {
   "cell_type": "code",
   "execution_count": 8,
   "metadata": {},
   "outputs": [
    {
     "data": {
      "text/plain": [
       "-1"
      ]
     },
     "execution_count": 8,
     "metadata": {},
     "output_type": "execute_result"
    }
   ],
   "source": [
    "# test case 2\n",
    "d = 10\n",
    "x = [1, 2, 5, 9]\n",
    "m = 3\n",
    "MinRefills(d, x, m)"
   ]
  },
  {
   "cell_type": "code",
   "execution_count": 9,
   "metadata": {},
   "outputs": [
    {
     "data": {
      "text/plain": [
       "0"
      ]
     },
     "execution_count": 9,
     "metadata": {},
     "output_type": "execute_result"
    }
   ],
   "source": [
    "# test case 3\n",
    "d = 200\n",
    "m = 250\n",
    "x = [100, 150]\n",
    "MinRefills(d, x, m)"
   ]
  },
  {
   "cell_type": "markdown",
   "metadata": {},
   "source": [
    "#### 2.2 - 用最少的点去覆盖线段\n",
    "\n",
    "给定n条线段[[a0, b0], [a1, b1], ..., [an-1, bn-1]], 找到数量最少的m个点，使每条线段都至少含有一个点（即对每一条线段[ai, bi]，都有一个点x满足ai <= x <= bi)。要求输出点的坐标集合。\n",
    "\n",
    "<img src=\"images/greedy algorithms/min points.png\" style=\"height:170px;\">"
   ]
  },
  {
   "cell_type": "code",
   "execution_count": 10,
   "metadata": {},
   "outputs": [],
   "source": [
    "def MinPoints(seg):\n",
    "    seg.sort() # 将线段按起点由小到大排列\n",
    "    n = len(seg)\n",
    "    res = []\n",
    "    i = 0\n",
    "    while i < n:\n",
    "        right = seg[i][1] # 能共享一个点的线段的右边界\n",
    "        # 如果一个线段的起点小于右边界，则它们能公用一个点\n",
    "        while i < n - 1 and seg[i + 1][0] <= right:\n",
    "            i += 1\n",
    "            # 右边界应为所有线段的终点的最小值\n",
    "            right = min(seg[i][1], right)\n",
    "        res.append(right)\n",
    "        i += 1\n",
    "    return res "
   ]
  },
  {
   "cell_type": "code",
   "execution_count": 11,
   "metadata": {},
   "outputs": [
    {
     "data": {
      "text/plain": [
       "[3]"
      ]
     },
     "execution_count": 11,
     "metadata": {},
     "output_type": "execute_result"
    }
   ],
   "source": [
    "# test case 1\n",
    "seg = [(1, 3), (2, 5), (3, 6)]\n",
    "MinPoints(seg)"
   ]
  },
  {
   "cell_type": "code",
   "execution_count": 12,
   "metadata": {},
   "outputs": [
    {
     "data": {
      "text/plain": [
       "[3, 6]"
      ]
     },
     "execution_count": 12,
     "metadata": {},
     "output_type": "execute_result"
    }
   ],
   "source": [
    "# test case 2\n",
    "seg = [(4, 7), (1, 3), (2, 5), (5, 6)]\n",
    "MinPoints(seg)"
   ]
  },
  {
   "cell_type": "markdown",
   "metadata": {},
   "source": [
    "## 3 - 分糖果\n",
    "\n",
    "有m个糖果和n个小孩，每个糖果的大小为[s1, s2, ..., sm]， 每个小孩对糖果的需求为[g1, g2, ..., gn]。只有当糖果的大小满足小孩的需求时，小孩才能得到满足。请问至多有几个小孩能得到满足？\n",
    "\n",
    "策略：\n",
    "\n",
    "- 把小孩的需求和糖果的大小分别按从小到大排序；\n",
    "- 优先满足需求最小的小孩，即把剩余糖果中能满足他的最小糖果发给他。"
   ]
  },
  {
   "cell_type": "code",
   "execution_count": 13,
   "metadata": {},
   "outputs": [],
   "source": [
    "def Candies(sizes, needs):\n",
    "    sizes.sort()\n",
    "    needs.sort()\n",
    "    count = 0\n",
    "    \n",
    "    i, j = 0, 0\n",
    "    while i < len(sizes):\n",
    "        while i < len(sizes) and sizes[i] < needs[j]:\n",
    "            i += 1\n",
    "        if i < len(sizes):\n",
    "            count += 1\n",
    "            j += 1\n",
    "            i += 1\n",
    "    return count"
   ]
  },
  {
   "cell_type": "code",
   "execution_count": 14,
   "metadata": {},
   "outputs": [
    {
     "data": {
      "text/plain": [
       "3"
      ]
     },
     "execution_count": 14,
     "metadata": {},
     "output_type": "execute_result"
    }
   ],
   "source": [
    "# test case\n",
    "s = [6, 1, 20, 3, 8]\n",
    "g = [5, 10, 2, 9, 15, 9]\n",
    "Candies(s, g)"
   ]
  },
  {
   "cell_type": "markdown",
   "metadata": {},
   "source": [
    "### 问题变形"
   ]
  },
  {
   "cell_type": "markdown",
   "metadata": {},
   "source": [
    "#### 3.1 - 奖励糖果"
   ]
  },
  {
   "cell_type": "markdown",
   "metadata": {},
   "source": [
    "你有n个糖果，你想用这些糖果给一个比赛的前k名作为奖励，要求名次越高得到的糖果越多。请找到能让最多孩子获得奖励的分配方法（即使k值最大）。\n",
    "\n",
    "策略：倒数第一名奖励1个糖果，倒数第二名奖励2个糖果，……，必须倒数第i+1的糖果比倒数第i名的多，才能给倒数第i名分配i个糖果，否则倒数第i名（也就是第一名）应该获得剩余的所有糖果。"
   ]
  },
  {
   "cell_type": "code",
   "execution_count": 15,
   "metadata": {},
   "outputs": [],
   "source": [
    "def Prizes(n):\n",
    "    i = 1\n",
    "    res = []\n",
    "    while n > 2 * i:\n",
    "        res.append(i)\n",
    "        n -= i\n",
    "        i += 1\n",
    "    res.append(n)\n",
    "    return res"
   ]
  },
  {
   "cell_type": "code",
   "execution_count": 16,
   "metadata": {},
   "outputs": [
    {
     "data": {
      "text/plain": [
       "[1, 2, 3, 4, 10]"
      ]
     },
     "execution_count": 16,
     "metadata": {},
     "output_type": "execute_result"
    }
   ],
   "source": [
    "# test case\n",
    "Prizes(20)"
   ]
  },
  {
   "cell_type": "code",
   "execution_count": null,
   "metadata": {},
   "outputs": [],
   "source": []
  }
 ],
 "metadata": {
  "kernelspec": {
   "display_name": "Python 3",
   "language": "python",
   "name": "python3"
  },
  "language_info": {
   "codemirror_mode": {
    "name": "ipython",
    "version": 3
   },
   "file_extension": ".py",
   "mimetype": "text/x-python",
   "name": "python",
   "nbconvert_exporter": "python",
   "pygments_lexer": "ipython3",
   "version": "3.7.4"
  }
 },
 "nbformat": 4,
 "nbformat_minor": 2
}
