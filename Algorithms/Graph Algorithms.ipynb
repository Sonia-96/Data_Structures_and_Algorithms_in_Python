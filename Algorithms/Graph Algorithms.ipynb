{
 "cells": [
  {
   "cell_type": "markdown",
   "metadata": {},
   "source": [
    "# Graph Algorithms"
   ]
  },
  {
   "cell_type": "markdown",
   "metadata": {},
   "source": [
    "## 1 - 图的表示\n",
    "\n",
    "以下图为例：\n",
    "<img src=\"images/graph/graph1.png\" style=\"height:100px;\">"
   ]
  },
  {
   "cell_type": "markdown",
   "metadata": {},
   "source": [
    "#### 邻接表（Adjacency List）"
   ]
  },
  {
   "cell_type": "code",
   "execution_count": 1,
   "metadata": {},
   "outputs": [],
   "source": [
    "# 嵌套列表的下标对应顶点的编号\n",
    "# 注：设置一个下标为0的空列表，是为了使结点编号与下标相对应，方便检索\n",
    "adj_list = [[], [2], [1, 3], [2], [1]]"
   ]
  },
  {
   "cell_type": "markdown",
   "metadata": {},
   "source": [
    "#### 邻接矩阵 (Adjacency Matrix)"
   ]
  },
  {
   "cell_type": "code",
   "execution_count": 2,
   "metadata": {},
   "outputs": [],
   "source": [
    "# 矩阵的纵坐标和横纵标均对应顶点的编号\n",
    "adj_matrix = [[0, 0, 0, 0, 0],\n",
    "              [0, 0, 1, 0, 0],\n",
    "              [0, 1, 0, 1, 0],\n",
    "              [0, 0, 1, 0, 0],\n",
    "              [0, 0, 0, 0, 0]]"
   ]
  },
  {
   "cell_type": "markdown",
   "metadata": {},
   "source": [
    "- 相比邻接矩阵，邻接表占内存小，但不能快速判断一条边的存在。\n",
    "- 邻接表适用于稀疏图，邻接矩阵适用于稠密图。由于实际情况中稀疏图更为常见，所以大部分情况我们都使用邻接表。"
   ]
  },
  {
   "cell_type": "markdown",
   "metadata": {},
   "source": [
    "## 2 - 图的搜索"
   ]
  },
  {
   "cell_type": "markdown",
   "metadata": {},
   "source": [
    "### 2.1 - 深度优先搜索 (Depth First Search, DFS)"
   ]
  },
  {
   "cell_type": "code",
   "execution_count": 3,
   "metadata": {},
   "outputs": [],
   "source": [
    "# 用深度优先的顺序访问一个顶点的所有出发边\n",
    "def Explore(adj_list, visited, u):\n",
    "    visited[u] = True\n",
    "    for v in adj_list[u]:\n",
    "        if not visited[v]:\n",
    "            Explore(adj_list, visited, v)"
   ]
  },
  {
   "attachments": {},
   "cell_type": "markdown",
   "metadata": {},
   "source": [
    "例：对下图，判断1是否能到达3和4。\n",
    "<img src=\"images/graph/graph1.png\" style=\"height:100px;\">"
   ]
  },
  {
   "cell_type": "code",
   "execution_count": 4,
   "metadata": {},
   "outputs": [
    {
     "name": "stdout",
     "output_type": "stream",
     "text": [
      "Is vertex-4 reacheable for vertex-1? False\n",
      "Is vertex-3 reacheable for vertex-1? True\n"
     ]
    }
   ],
   "source": [
    "# test case\n",
    "adj_list = [[], [2], [1, 3], [2], []]\n",
    "visited = [False] * (len(adj_list) + 1)\n",
    "Explore(adj_list, visited, 1)\n",
    "print(\"Is vertex-4 reacheable for vertex-1? \" + str(visited[4]))\n",
    "print(\"Is vertex-3 reacheable for vertex-1? \" + str(visited[3]))"
   ]
  },
  {
   "cell_type": "code",
   "execution_count": 5,
   "metadata": {},
   "outputs": [],
   "source": [
    "# 深度优先搜索（搜索图中所有结点）\n",
    "def DFS(adj_list):\n",
    "    n = len(adj_list)\n",
    "    visited = [False] * n\n",
    "    for u in range(n):\n",
    "        if not visited[u]:\n",
    "            Explore(adj_list, visited, u)"
   ]
  },
  {
   "cell_type": "markdown",
   "metadata": {},
   "source": [
    "深度优先搜索：\n",
    "\n",
    "- 时间复杂度：O(V+E)\n",
    "- 空间复杂度：O(V)"
   ]
  },
  {
   "attachments": {},
   "cell_type": "markdown",
   "metadata": {},
   "source": [
    "#### 应用1：计算一个图形的连通区数量\n",
    "\n",
    "连通区 (connected components)：图形中所有相连的顶点构成一个连通区。例如，下图中有4个连通区。\n",
    "<img src=\"images/graph/cc.png\" style=\"height:200px;\">"
   ]
  },
  {
   "cell_type": "code",
   "execution_count": 6,
   "metadata": {},
   "outputs": [],
   "source": [
    "# 计算一个图形的连通区数量\n",
    "def NumCCs(adj_list):\n",
    "    visited = [False] * len(adj_list)\n",
    "    num_CC = 0\n",
    "    for u in range(1, len(adj_list)):\n",
    "        if not visited[u]:\n",
    "            Explore(adj_list, visited, u)\n",
    "            num_CC += 1\n",
    "    return num_CC"
   ]
  },
  {
   "cell_type": "code",
   "execution_count": 7,
   "metadata": {},
   "outputs": [
    {
     "name": "stdout",
     "output_type": "stream",
     "text": [
      "2\n"
     ]
    }
   ],
   "source": [
    "# test case\n",
    "adj_list = [[], [2], [1, 3], [2], []]\n",
    "print(NumCCs(adj_list))"
   ]
  },
  {
   "cell_type": "markdown",
   "metadata": {},
   "source": [
    "<img src=\"images/graph/graph1.png\" style=\"height:100px;\">"
   ]
  },
  {
   "cell_type": "markdown",
   "metadata": {},
   "source": [
    "#### 应用2：记录每个结点的访问顺序"
   ]
  },
  {
   "cell_type": "code",
   "execution_count": 8,
   "metadata": {},
   "outputs": [],
   "source": [
    "class VisitOrder:\n",
    "    def __init__(self, adj_list):\n",
    "        self.clock = 1\n",
    "        self.adj_list = adj_list\n",
    "        self.preorder = [-1] * len(adj_list)\n",
    "        self.postorder = [-1] * len(adj_list)\n",
    "    \n",
    "    def Explore(self, u):\n",
    "        self.preorder[u] = self.clock\n",
    "        self.clock += 1\n",
    "        for v in self.adj_list[u]:\n",
    "            # preorder[u]<0表示该结点还未被访问\n",
    "            if self.preorder[v] < 0:\n",
    "                self.Explore(v)\n",
    "        self.postorder[u] = self.clock\n",
    "        self.clock += 1\n",
    "    \n",
    "    def DFS(self):\n",
    "        for u in range(1, len(self.adj_list)):\n",
    "            if self.preorder[u] < 0:\n",
    "                self.Explore(u)\n",
    "        return self.preorder, self.postorder"
   ]
  },
  {
   "cell_type": "code",
   "execution_count": 9,
   "metadata": {},
   "outputs": [
    {
     "name": "stdout",
     "output_type": "stream",
     "text": [
      "([-1, 1, 2, 3, 7], [-1, 6, 5, 4, 8])\n"
     ]
    }
   ],
   "source": [
    "# test case\n",
    "adj_list = [[], [2], [3], [1], [1]]\n",
    "S = VisitOrder(adj_list)\n",
    "print(S.DFS())"
   ]
  },
  {
   "attachments": {},
   "cell_type": "markdown",
   "metadata": {},
   "source": [
    "<img src=\"images/graph/graph2.png\" style=\"height:100px;\">"
   ]
  },
  {
   "attachments": {},
   "cell_type": "markdown",
   "metadata": {},
   "source": [
    "#### 应用3：判断有向无环图\n",
    "\n",
    "- 用DFS遍历图中的顶点，每个顶点有三种状态：未被访问过（0）、已被访问但还未访问其邻接点（1）、该顶点及其邻接点全被访问了（2）。这三种状态分别用0、1、2储存在visited数组中。\n",
    "- 存在环的情况可定义为：在遍历过程中，某个顶点的一条边指向了状态为1的顶点。"
   ]
  },
  {
   "cell_type": "code",
   "execution_count": 10,
   "metadata": {},
   "outputs": [],
   "source": [
    "# 判断一个图是否是有向无环图\n",
    "class IsDAG:\n",
    "    def __init__(self, adj_list):\n",
    "        self.adj_list = adj_list\n",
    "        self.visited = [0] * len(adj_list)\n",
    "\n",
    "    def Explore(self, u):\n",
    "        global is_dag\n",
    "        self.visited[u] = 1\n",
    "        for v in self.adj_list[u]:\n",
    "            if self.visited[v] == 1:\n",
    "                is_dag = False\n",
    "                break\n",
    "            elif self.visited[v] == 0:\n",
    "                self.Explore(v)\n",
    "        self.visited[u] = 2\n",
    "\n",
    "    def DFS(self):\n",
    "        global is_dag\n",
    "        is_dag = True\n",
    "        for u in range(1, len(self.adj_list)):\n",
    "            if self.visited[u] == 0:\n",
    "                self.Explore(u)\n",
    "                if not is_dag:\n",
    "                    return False\n",
    "        return True"
   ]
  },
  {
   "cell_type": "code",
   "execution_count": 11,
   "metadata": {
    "scrolled": true
   },
   "outputs": [
    {
     "name": "stdout",
     "output_type": "stream",
     "text": [
      "False\n"
     ]
    }
   ],
   "source": [
    "# test case\n",
    "adj_list = [[], [2], [3], [1], [1]]\n",
    "S = IsDAG(adj_list)\n",
    "print(S.DFS())"
   ]
  },
  {
   "cell_type": "markdown",
   "metadata": {},
   "source": [
    "<img src=\"images/graph/graph2.png\" style=\"height:100px;\">"
   ]
  },
  {
   "attachments": {},
   "cell_type": "markdown",
   "metadata": {},
   "source": [
    "#### 应用4：拓扑排序（只针对有向无环图）\n",
    "拓扑排序：拓扑排序是图中所有结点的一种线性次序，该次序满足如下条件：如果图G包含边(u, v)，则结点u排在结点v的前面（如果图G包含环路，则不可能排出一个线性次序）。\n",
    "\n",
    "策略：\n",
    "- 用DFS遍历图中所有结点，对边(u, v)，要先结束v的访问后，才能结束u的访问。\n",
    "- 记录每个结点结束访问的先后顺序，然后按逆序输出这个次序，这个次序即为所有结点的拓扑排序。"
   ]
  },
  {
   "cell_type": "code",
   "execution_count": 12,
   "metadata": {},
   "outputs": [],
   "source": [
    "# 拓扑排序\n",
    "class TopoSort:\n",
    "    def __init__(self, adj_list):\n",
    "        self.adj_list = adj_list\n",
    "        self.visited = [False] * len(adj_list)\n",
    "        self.post = []\n",
    "    \n",
    "    def Explore(self, u):\n",
    "        self.visited[u] = True\n",
    "        for v in self.adj_list[u]:\n",
    "            if not self.visited[v]:\n",
    "                self.Explore(v)\n",
    "        self.post.append(u)\n",
    "    \n",
    "    def TopoSort(self):\n",
    "        for u in range(1, len(self.adj_list)):\n",
    "            if not self.visited[u]:\n",
    "                self.Explore(u)\n",
    "        return self.post[::-1]"
   ]
  },
  {
   "cell_type": "code",
   "execution_count": 13,
   "metadata": {
    "scrolled": true
   },
   "outputs": [
    {
     "name": "stdout",
     "output_type": "stream",
     "text": [
      "[4, 3, 1, 2]\n"
     ]
    }
   ],
   "source": [
    "# test case 1\n",
    "adj_list = [[], [2], [], [1], [1]]\n",
    "S = TopoSort(adj_list)\n",
    "print(S.TopoSort())"
   ]
  },
  {
   "attachments": {},
   "cell_type": "markdown",
   "metadata": {},
   "source": [
    "<img src=\"images/graph/graph3.png\" style=\"height:100px;\">"
   ]
  },
  {
   "cell_type": "code",
   "execution_count": 14,
   "metadata": {},
   "outputs": [
    {
     "name": "stdout",
     "output_type": "stream",
     "text": [
      "[5, 4, 3, 2, 1]\n"
     ]
    }
   ],
   "source": [
    "# test case 2\n",
    "adj_list2 = [[], [], [1], [2, 1], [3, 1], [2, 3]]\n",
    "S = TopoSort(adj_list2)\n",
    "print(S.TopoSort())"
   ]
  },
  {
   "attachments": {},
   "cell_type": "markdown",
   "metadata": {},
   "source": [
    "<img src=\"images/graph/graph4.png\" style=\"height:100px;\">"
   ]
  },
  {
   "attachments": {},
   "cell_type": "markdown",
   "metadata": {},
   "source": [
    "#### 应用5：强连通区（只针对有向图）\n",
    "\n",
    "- 连通性：对有向图中的两个顶点v和w，如果有边从v→w，也有边从w→v，我们就称v和w是连通的（connected）。\n",
    "\n",
    "- 强连通区（Strongly Connected Components, SCC）：一个有向图可以被划分为若干个强连通区（Strongly connected components ），每个强连通区内的顶点都是相互连通（connected）的。例如，下图中有5个强连通区。\n",
    "<img src=\"images/graph/scc.png\" style=\"height:150px;\">\n",
    "\n",
    "- 有向无环图中有两种特殊的顶点：\n",
    "    - 源（source）：没有入边的顶点\n",
    "    - 漏（sink）：没有出边的顶点\n",
    "\n",
    "策略：\n",
    "用DFS遍历图像并记录每个结点的访问顺序，则源结点一定是最后结束访问的，即其postorder最大。\n",
    "1. 将图G转置，得到G_reverse，则G中的sink变成了G_reverse中的source。\n",
    "2. 第一次DFS：对G_reverse进行拓扑排序。\n",
    "3. 第二次DFS：按照步骤2得到的顺序，给G划分强连通区。"
   ]
  },
  {
   "cell_type": "code",
   "execution_count": 15,
   "metadata": {},
   "outputs": [],
   "source": [
    "class StronglyConnectedComponents:\n",
    "    def __init__(self, adj_list):\n",
    "        self.graph = adj_list\n",
    "        self.visited = [0] * len(adj_list)\n",
    "        self.postorder = []\n",
    "    \n",
    "    def ReverseGraph(self):\n",
    "        graph_reverse = [[] for _ in range(len(adj_list))]\n",
    "        for u in range(1, len(adj_list)):\n",
    "            for v in adj_list[u]:\n",
    "                graph_reverse[v].append(u)\n",
    "        return graph_reverse\n",
    "    \n",
    "    def Explore_topo(self, u, graph_reverse):\n",
    "        self.visited[u] = 1\n",
    "        for v in graph_reverse[u]:\n",
    "            if self.visited[v] == 0:\n",
    "                self.Explore_topo(v, graph_reverse)\n",
    "        self.postorder.append(u)\n",
    "    \n",
    "    def Explore_scc(self, u, SCC):\n",
    "        self.visited[u] = 2\n",
    "        for v in self.graph[u]:\n",
    "            if self.visited[v] == 1:\n",
    "                SCC.append(v)\n",
    "                self.Explore_scc(v, SCC)\n",
    "        return SCC\n",
    "    \n",
    "    def SCCs(self):\n",
    "        SCCs = []\n",
    "        graph_reverse = self.ReverseGraph()\n",
    "        # 第一次DFS：拓扑排序\n",
    "        for u in range(1, len(self.graph)):\n",
    "            if self.visited[u] == 0:\n",
    "                self.Explore_topo(u, graph_reverse)\n",
    "        # 第二次DFS：划分强连通区\n",
    "        for u in self.postorder[::-1]:\n",
    "            if self.visited[u] == 1:\n",
    "                SCC = self.Explore_scc(u, [u])\n",
    "                SCCs.append(SCC)\n",
    "        return SCCs"
   ]
  },
  {
   "cell_type": "code",
   "execution_count": 16,
   "metadata": {},
   "outputs": [
    {
     "name": "stdout",
     "output_type": "stream",
     "text": [
      "[[1, 2, 3], [4]]\n"
     ]
    }
   ],
   "source": [
    "adj_list = [[], [2], [3], [1], [1]]\n",
    "S = StronglyConnectedComponents(adj_list)\n",
    "print(S.SCCs())"
   ]
  },
  {
   "attachments": {},
   "cell_type": "markdown",
   "metadata": {},
   "source": [
    "<img src=\"images/graph/graph2.png\" style=\"height:100px;\">"
   ]
  },
  {
   "cell_type": "markdown",
   "metadata": {},
   "source": [
    "### 2.2 - 广度优先搜索"
   ]
  },
  {
   "cell_type": "code",
   "execution_count": 17,
   "metadata": {},
   "outputs": [],
   "source": [
    "from queue import Queue\n",
    "\n",
    "def BFS(adj_list, start):\n",
    "    dist = [float('inf')] * len(adj_list)\n",
    "    dist[start] = 0\n",
    "    q = Queue() # 用队列储存已发现但还未处理的结点\n",
    "    q.put(start)\n",
    "    while not q.empty():\n",
    "        u = q.get()\n",
    "        for v in adj_list[u]:\n",
    "            if dist[v] == float('inf'):\n",
    "                q.put(v)\n",
    "                dist[v] = dist[u] + 1\n",
    "    return dist"
   ]
  },
  {
   "cell_type": "code",
   "execution_count": 18,
   "metadata": {},
   "outputs": [
    {
     "name": "stdout",
     "output_type": "stream",
     "text": [
      "[inf, 0, 1, 2, inf]\n"
     ]
    }
   ],
   "source": [
    "# test case\n",
    "adj_list = [[], [2], [1, 3], [2], []]\n",
    "print(BFS(adj_list, 1))"
   ]
  },
  {
   "cell_type": "markdown",
   "metadata": {},
   "source": [
    "<img src=\"images/graph/graph1.png\" style=\"height:100px;\">"
   ]
  },
  {
   "cell_type": "markdown",
   "metadata": {},
   "source": [
    "广度优先搜索：\n",
    "\n",
    "- 时间复杂度：O(V+E)\n",
    "- 空间复杂度：O(V)"
   ]
  },
  {
   "cell_type": "markdown",
   "metadata": {},
   "source": [
    "#### 应用1：最短路径树\n",
    "\n",
    "BFS算法可以记录每个顶点到起点S的距离（距离即为两个顶点之间的最短路径的长度），只要在此基础上记录每个顶点的前驱结点，我们就得到一棵以S为根节点的最短路径树，每个结点的深度表示其与S的距离。"
   ]
  },
  {
   "cell_type": "code",
   "execution_count": 19,
   "metadata": {},
   "outputs": [],
   "source": [
    "from queue import Queue\n",
    "def ShortestPathTree(adj_list, start):\n",
    "    dist = [float('inf')] * len(adj_list)\n",
    "    dist[start] = 0\n",
    "    prev = [None] * len(adj_list)\n",
    "    q = Queue() # 用队列储存已发现但还未处理的结点\n",
    "    q.put(start)\n",
    "    \n",
    "    while not q.empty():\n",
    "        u = q.get()\n",
    "        for v in adj_list[u]:\n",
    "            if dist[v] == float('inf'):\n",
    "                q.put(v)\n",
    "                dist[v] = dist[u] + 1\n",
    "                prev[v] = u\n",
    "                \n",
    "    return dist, prev"
   ]
  },
  {
   "cell_type": "code",
   "execution_count": 20,
   "metadata": {},
   "outputs": [],
   "source": [
    "# 重构两点之间的最短路径\n",
    "def ReconstructPath(start, end, prev):\n",
    "    path = []\n",
    "    while end != start:\n",
    "        path.append(end)\n",
    "        end = prev[end]\n",
    "    return path[::-1]"
   ]
  },
  {
   "cell_type": "markdown",
   "metadata": {},
   "source": [
    "#### 应用2：判断一张图是否是二分图（bipartite）\n",
    "\n",
    "二分图又称作二部图，是图论中的一种特殊模型。用两种颜色给图中的顶点上色，如果任意一条边的两个顶点颜色都互不相同，那么该图为二分图。\n",
    "\n",
    "策略：\n",
    "\n",
    "- 用BFS遍历图像，用数组dist记录每个顶点到起点的距离。\n",
    "- 遍历每个顶点u的相邻结点v：\n",
    "    - 如果|dist[u] - dist[v]|为奇数，没问题；\n",
    "    - 如果|dist[u] - dist[v]|为偶数，该图像不是二分图。"
   ]
  },
  {
   "cell_type": "code",
   "execution_count": 21,
   "metadata": {},
   "outputs": [],
   "source": [
    "from queue import Queue\n",
    "def IsBipartite(adj_list):\n",
    "    dist = [float('inf')] * len(adj_list)\n",
    "    q = Queue()\n",
    "    q.put(1)\n",
    "    dist[1] = 0\n",
    "    while not q.empty():\n",
    "        u = q.get()\n",
    "        for v in adj_list[u]:\n",
    "            if dist[v] == float('inf'):\n",
    "                dist[v] = dist[u] + 1\n",
    "                q.put(v)\n",
    "            elif (dist[u] - dist[v]) % 2 == 0:\n",
    "                return False\n",
    "    return True "
   ]
  },
  {
   "cell_type": "code",
   "execution_count": 22,
   "metadata": {},
   "outputs": [
    {
     "name": "stdout",
     "output_type": "stream",
     "text": [
      "False\n"
     ]
    }
   ],
   "source": [
    "# test case 1\n",
    "adj_list = [[], [2, 3, 4], [1, 3], [1, 2], [1]]\n",
    "print(IsBipartite(adj_list))"
   ]
  },
  {
   "attachments": {},
   "cell_type": "markdown",
   "metadata": {},
   "source": [
    "<img src=\"images/graph/graph5.png\" style=\"height:100px;\">"
   ]
  },
  {
   "cell_type": "code",
   "execution_count": 23,
   "metadata": {},
   "outputs": [
    {
     "name": "stdout",
     "output_type": "stream",
     "text": [
      "True\n"
     ]
    }
   ],
   "source": [
    "# test case 2\n",
    "adj_list = [[], [4], [4, 5], [4], [1, 2, 3], [2]]\n",
    "print(IsBipartite(adj_list))"
   ]
  },
  {
   "attachments": {},
   "cell_type": "markdown",
   "metadata": {},
   "source": [
    "<img src=\"images/graph/graph6.png\" style=\"height:100px;\">"
   ]
  },
  {
   "cell_type": "markdown",
   "metadata": {},
   "source": [
    "## 3 - 最短路径"
   ]
  },
  {
   "cell_type": "markdown",
   "metadata": {},
   "source": [
    "### 3.1 - 松弛操作"
   ]
  },
  {
   "cell_type": "code",
   "execution_count": 24,
   "metadata": {},
   "outputs": [],
   "source": [
    "def Relax(dist, adj_list, prev, u, v):\n",
    "    # u 和 v 分别是一条边的起点和终点\n",
    "    if dist[v] > dist[u] + adj_list[u][v]:\n",
    "        dist[v] = dist[u] + adj_list[u][v]\n",
    "        prev[v] = u"
   ]
  },
  {
   "cell_type": "markdown",
   "metadata": {},
   "source": [
    "### 3.2 - Bellman-Ford算法\n",
    "Bellman-Ford算法可以计算源结点到其它每一个可到达的结点的距离，但前提是**源结点不能到达负权环**。"
   ]
  },
  {
   "cell_type": "code",
   "execution_count": 25,
   "metadata": {},
   "outputs": [],
   "source": [
    "def BellmanFord(adj_list):\n",
    "    dist = [float('inf')] * len(adj_list)\n",
    "    dist[1] = 0\n",
    "    for _ in range(len(adj_list) - 2):\n",
    "        # 对每条边进行松弛操作\n",
    "        for u in range(1, len(adj_list)):\n",
    "            for v, w in adj_list[u]:\n",
    "                if dist[v] > dist[u] + w:\n",
    "                    dist[v] = dist[u] + w\n",
    "    # 检测源结点是否能到达负权环\n",
    "    for u in range(1, len(adj_list)):\n",
    "        for v, w in adj_list[u]:\n",
    "            if dist[v] > dist[u] + w:\n",
    "                return False\n",
    "    return dist"
   ]
  },
  {
   "cell_type": "code",
   "execution_count": 26,
   "metadata": {
    "scrolled": true
   },
   "outputs": [
    {
     "name": "stdout",
     "output_type": "stream",
     "text": [
      "False\n"
     ]
    }
   ],
   "source": [
    "# test case\n",
    "adj_list = [[], [(2, -5)], [(3, 2)], [(1, 1)], [(1, 2)]]\n",
    "print(BellmanFord(adj_list))"
   ]
  },
  {
   "cell_type": "markdown",
   "metadata": {},
   "source": [
    "<img src=\"images/graph/graph7.png\" style=\"height:100px;\">"
   ]
  },
  {
   "cell_type": "markdown",
   "metadata": {},
   "source": [
    "#### 算法改进\n",
    "\n",
    "不用循环V-1次，只要某次循环各个顶点的距离都没有发生改变，就可以跳出循环。"
   ]
  },
  {
   "cell_type": "code",
   "execution_count": 27,
   "metadata": {},
   "outputs": [],
   "source": [
    "def BellmanFord2(adj_list):\n",
    "    dist = [float('inf')] * len(adj_list)\n",
    "    dist[1] = 0\n",
    "    i = 1\n",
    "    for _ in range(len(adj_list) - 2):\n",
    "        is_change = False\n",
    "        # 对每条边进行松弛操作\n",
    "        for u in range(1, len(adj_list)):\n",
    "            for v, w in adj_list[u]:\n",
    "                if dist[v] > dist[u] + w:\n",
    "                    dist[v] = dist[u] + w\n",
    "                    is_change = True\n",
    "        if not is_change:\n",
    "            return dist\n",
    "    # 检测源结点是否能到达负权环\n",
    "    for u in range(1, len(adj_list)):\n",
    "        for v, w in adj_list[u]:\n",
    "            if dist[v] > dist[u] + w:\n",
    "                return False\n",
    "    return dist"
   ]
  },
  {
   "cell_type": "markdown",
   "metadata": {},
   "source": [
    "#### 找到构成负权环的结点"
   ]
  },
  {
   "cell_type": "code",
   "execution_count": 28,
   "metadata": {},
   "outputs": [],
   "source": [
    "# 找到构成负权环的结点\n",
    "def NegativeCycle(adj_list):\n",
    "    dist = [float('inf')] * len(adj_list)\n",
    "    dist[1] = 0\n",
    "    prev = [0] * len(adj_list)\n",
    "    for _ in range(len(adj_list) - 2):\n",
    "        # 对每条边进行松弛操作\n",
    "        for u in range(1, len(adj_list)):\n",
    "            for v, w in adj_list[u]:\n",
    "                if dist[v] > dist[u] + w:\n",
    "                    dist[v] = dist[u] + w\n",
    "                    prev[v] = u\n",
    "    # 找到构成负权环的结点\n",
    "    cycles = []\n",
    "    in_cycle = [False] * len(adj_list)\n",
    "    for u in range(1, len(adj_list)):\n",
    "        for v, w in adj_list[u]:\n",
    "            if not in_cycle[v] and dist[v] > dist[u] + w:\n",
    "                in_cycle[v] = True\n",
    "                one_cycle = [v]\n",
    "                x = prev[v]\n",
    "                while x != v:\n",
    "                    in_cycle[x] = True\n",
    "                    one_cycle.append(x)\n",
    "                    x = prev[x]\n",
    "                cycles.append(one_cycle)\n",
    "    return cycles"
   ]
  },
  {
   "cell_type": "code",
   "execution_count": 29,
   "metadata": {},
   "outputs": [
    {
     "name": "stdout",
     "output_type": "stream",
     "text": [
      "[[2, 1, 3]]\n"
     ]
    }
   ],
   "source": [
    "# test case\n",
    "adj_list = [[], [(2, -5)], [(3, 2)], [(1, 1)], [(1, 2)]]\n",
    "print(NegativeCycle(adj_list))"
   ]
  },
  {
   "cell_type": "markdown",
   "metadata": {},
   "source": [
    "<img src=\"images/graph/graph7.png\" style=\"height:100px;\">"
   ]
  },
  {
   "attachments": {},
   "cell_type": "markdown",
   "metadata": {},
   "source": [
    "#### 应用：无限套利\n",
    "\n",
    "所有源结点能经负权环到达的结点都能实现无限套利。"
   ]
  },
  {
   "cell_type": "code",
   "execution_count": 30,
   "metadata": {},
   "outputs": [],
   "source": [
    "# 找到所有能实现无限套利的结点\n",
    "from queue import Queue\n",
    "def InfiniteArbitrage(adj_list):\n",
    "    dist = [float('inf')] * len(adj_list)\n",
    "    dist[1] = 0\n",
    "    for _ in range(len(adj_list) - 2):\n",
    "        for u in range(1, len(adj_list)):\n",
    "            for v, w in adj_list[u]:\n",
    "                if dist[v] > dist[u] + w:\n",
    "                    dist[v] = dist[u] + w\n",
    "    \n",
    "    q = Queue()\n",
    "    for u in range(1, len(adj_list)):\n",
    "        for v, w in adj_list[u]:\n",
    "            if dist[v] > dist[u] + w:\n",
    "                q.put(v)\n",
    "    \n",
    "    # BFS\n",
    "    visited = [False] * len(adj_list)\n",
    "    res = []\n",
    "    while not q.empty():\n",
    "        u = q.get()\n",
    "        res.append(u)\n",
    "        visited[u] = True\n",
    "        for v, _ in adj_list[u]:\n",
    "            if not visited[v]:\n",
    "                q.put(v)\n",
    "            \n",
    "    return res"
   ]
  },
  {
   "cell_type": "code",
   "execution_count": 31,
   "metadata": {},
   "outputs": [
    {
     "name": "stdout",
     "output_type": "stream",
     "text": [
      "[3, 5, 4]\n"
     ]
    }
   ],
   "source": [
    "# test\n",
    "adj_list = [[], [(2, 10), (3, 100)], [(3, 5)], [(5, 7)], [(3, -18)], [(4, 10)], [(1, -1)]]\n",
    "print(InfiniteArbitrage(adj_list))"
   ]
  },
  {
   "attachments": {},
   "cell_type": "markdown",
   "metadata": {},
   "source": [
    "<img src=\"images/graph/graph8.png\" style=\"height:100px;\">"
   ]
  },
  {
   "attachments": {},
   "cell_type": "markdown",
   "metadata": {},
   "source": [
    "### 3.3 - Dijkstra算法（权重>=0）\n",
    "\n",
    "Dijkstra算法采用贪心策略，每次循环都只处理距离最小的顶点：\n",
    "1. 用最小堆H储存每个结点的距离。\n",
    "2. 对起点S能到达的顶点进行松弛操作。\n",
    "3. 从H中提出距离最小的顶点，对它能到达的顶点进行松弛操作。\n",
    "4. 重复步骤c，直到每个顶点的距离都确定为止。"
   ]
  },
  {
   "cell_type": "code",
   "execution_count": 32,
   "metadata": {},
   "outputs": [],
   "source": [
    "import heapq\n",
    "def Dijkstra(adj_list, start, end):\n",
    "    dist = [float('inf')] * len(adj_list)\n",
    "    dist[start] = 0\n",
    "    processed = [False] * len(adj_list)\n",
    "    # 用最小堆辅助找到距离最小的顶点\n",
    "    min_heap = []\n",
    "    # 堆里顶点的储存格式为(dist[v], v)\n",
    "    heapq.heappush(min_heap, (0, start))\n",
    "    while min_heap:\n",
    "        u_dist, u = heapq.heappop(min_heap)\n",
    "        if not processed[u]:\n",
    "            processed[u] = True\n",
    "            for v, w in adj_list[u]:\n",
    "                if dist[v] > dist[u] + w:\n",
    "                    dist[v] = dist[u] + w\n",
    "                    heapq.heappush(min_heap, (dist[v], v))\n",
    "    return dist[end]"
   ]
  },
  {
   "cell_type": "code",
   "execution_count": 33,
   "metadata": {},
   "outputs": [
    {
     "name": "stdout",
     "output_type": "stream",
     "text": [
      "3\n"
     ]
    }
   ],
   "source": [
    "# test case 1：下图中1→3的最短路径为3\n",
    "adj_list = [[], [(2, 1), (3, 5)], [(3, 2)], [], [(1, 2)]]\n",
    "print(Dijkstra(adj_list, 1, 3))"
   ]
  },
  {
   "cell_type": "markdown",
   "metadata": {},
   "source": [
    "<img src=\"images/graph/graph9.png\" style=\"height:100px;\">"
   ]
  },
  {
   "cell_type": "code",
   "execution_count": 34,
   "metadata": {},
   "outputs": [
    {
     "name": "stdout",
     "output_type": "stream",
     "text": [
      "6\n"
     ]
    }
   ],
   "source": [
    "# test case 2: 下图中，1→5的最短路径为6\n",
    "adj_list = [[], [(2, 4), (3, 2)], [(3, 3), (4, 2), (5, 3)], [(2, 1), (4, 4), (5, 4)], [], [(4, 1)]]\n",
    "print(Dijkstra(adj_list, 1, 5))"
   ]
  },
  {
   "cell_type": "markdown",
   "metadata": {},
   "source": [
    "<img src=\"images/graph/graph10.png\" style=\"height:100px;\">"
   ]
  },
  {
   "cell_type": "code",
   "execution_count": 35,
   "metadata": {},
   "outputs": [
    {
     "name": "stdout",
     "output_type": "stream",
     "text": [
      "inf\n"
     ]
    }
   ],
   "source": [
    "# test case 3: 下图中，3→2无路径\n",
    "adj_list = [[], [(2, 7), (3, 5)], [(3, 2)], []]\n",
    "print(Dijkstra(adj_list, 3, 2))"
   ]
  },
  {
   "cell_type": "markdown",
   "metadata": {},
   "source": [
    "<img src=\"images/graph/graph11.png\" style=\"height:100px;\">"
   ]
  },
  {
   "cell_type": "markdown",
   "metadata": {},
   "source": [
    "## 4 - 最小生成树"
   ]
  },
  {
   "cell_type": "markdown",
   "metadata": {},
   "source": [
    "### 4.1 - Kruskal's Algorithm"
   ]
  },
  {
   "cell_type": "code",
   "execution_count": 36,
   "metadata": {},
   "outputs": [],
   "source": [
    "class Kruskal:\n",
    "    def __init__(self, n, edges):\n",
    "        self.n = n\n",
    "        self.edges = edges\n",
    "        self.parent = [i for i in range(n)]\n",
    "        self.rank = [0] * n\n",
    "    \n",
    "    def Find(self, i):\n",
    "        if self.parent[i] != i:\n",
    "            self.parent[i] = self.Find(self.parent[i])\n",
    "        return self.parent[i]\n",
    "    \n",
    "    def Union(self, i, j):\n",
    "        i_id = self.Find(i)\n",
    "        j_id = self.Find(j)\n",
    "        \n",
    "        if i_id == j_id:\n",
    "            return \n",
    "        if self.rank[i_id] > self.rank[j_id]:\n",
    "            self.parent[j_id] = i_id\n",
    "        else:\n",
    "            self.parent[i_id] = j_id\n",
    "            if self.rank[i_id] == self.rank[j_id]:\n",
    "                self.rank[j_id] += 1\n",
    "    \n",
    "    def Kruskal(self):\n",
    "        mst = []\n",
    "        min_len = 0\n",
    "        self.edges.sort(key=lambda x:x[2])\n",
    "        for u, v, w in edges:\n",
    "            if len(mst) == self.n - 1:\n",
    "                break\n",
    "            if self.Find(u) != self.Find(v):\n",
    "                self.Union(u, v)\n",
    "                min_len += w\n",
    "                mst.append((u, v, w))\n",
    "        return mst, min_len"
   ]
  },
  {
   "cell_type": "code",
   "execution_count": 37,
   "metadata": {},
   "outputs": [
    {
     "name": "stdout",
     "output_type": "stream",
     "text": [
      "([(0, 2, 1.4), (1, 2, 1.4), (3, 4, 2.0), (2, 3, 2.2)], 7.0)\n"
     ]
    }
   ],
   "source": [
    "# test\n",
    "edges = [(0, 1, 2.0), (0, 2, 1.4), (0, 3, 3.0), (0, 4, 3.6), \n",
    "         (1, 2, 1.4), (1, 3, 3.6), (1, 4, 3.0), (2, 3, 2.2),\n",
    "         (2, 4, 2.2), (3, 4, 2.0)]\n",
    "S = Kruskal(5, edges)\n",
    "print(S.Kruskal())"
   ]
  },
  {
   "cell_type": "markdown",
   "metadata": {},
   "source": [
    "### 4.2 - Prims's Algorithm"
   ]
  },
  {
   "cell_type": "code",
   "execution_count": 38,
   "metadata": {},
   "outputs": [],
   "source": [
    "import heapq\n",
    "def Prim(adj_list):\n",
    "    cost = [float('inf')] * len(adj_list)\n",
    "    parent = [None] * len(adj_list)\n",
    "    visited = [False] * len(adj_list)\n",
    "    cost[1] = 0\n",
    "    min_heap = []\n",
    "    heapq.heappush(min_heap, (0, 1))\n",
    "    while min_heap:\n",
    "        _, u = heapq.heappop(min_heap)\n",
    "        if not visited[u]:\n",
    "            visited[u] = True\n",
    "            for v, w in adj_list[u]:\n",
    "                if not visited[v] and w < cost[v]:\n",
    "                    parent[v] = u\n",
    "                    cost[v] = w\n",
    "                    heapq.heappush(min_heap, (cost[v], v))\n",
    "    # 计算最小生成树的总权重和\n",
    "    length = 0\n",
    "    for i in range(1, len(adj_list)):\n",
    "        length += cost[i]\n",
    "    return parent, length"
   ]
  },
  {
   "cell_type": "code",
   "execution_count": 39,
   "metadata": {},
   "outputs": [
    {
     "name": "stdout",
     "output_type": "stream",
     "text": [
      "([None, None, 3, 1, 3, 4], 7.0)\n"
     ]
    }
   ],
   "source": [
    "adj_list = [[], [(2, 2), (3, 1.4), (4, 3)], [(1, 2), (3, 1.4), (5, 3)], [(1, 1.4), (2, 1.4), (4, 2.2), (5, 2.2)], \n",
    "            [(1, 3), (3, 2.2), (5, 2)], [(2, 3), (3, 2.2), (4, 2)]]\n",
    "print(Prim(adj_list))"
   ]
  },
  {
   "cell_type": "code",
   "execution_count": null,
   "metadata": {},
   "outputs": [],
   "source": []
  }
 ],
 "metadata": {
  "kernelspec": {
   "display_name": "Python 3",
   "language": "python",
   "name": "python3"
  },
  "language_info": {
   "codemirror_mode": {
    "name": "ipython",
    "version": 3
   },
   "file_extension": ".py",
   "mimetype": "text/x-python",
   "name": "python",
   "nbconvert_exporter": "python",
   "pygments_lexer": "ipython3",
   "version": "3.7.4"
  }
 },
 "nbformat": 4,
 "nbformat_minor": 2
}
