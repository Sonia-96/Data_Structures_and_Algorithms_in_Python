{
 "cells": [
  {
   "cell_type": "markdown",
   "metadata": {},
   "source": [
    "# Backtracking 回溯法\n",
    "\n",
    "回溯法可以看作是蛮力法的优化版，因为它可以通过剪枝的策略来少走冤枉路。\n",
    "\n",
    "具体做法：\n",
    "1. 将问题的求解分为多个过程；\n",
    "2. 每个阶段都面临一个岔路口，先随便选一条路走，当发现这条路走不通时（不符合期望解），就退回到上一个路口，另选一种走法。\n",
    "3. 回溯非常适合用递归来实现。在实现过程中，剪枝操作是提高回溯效率的一种技巧。"
   ]
  },
  {
   "cell_type": "markdown",
   "metadata": {},
   "source": [
    "## 1 - 0-1背包问题"
   ]
  },
  {
   "cell_type": "markdown",
   "metadata": {},
   "source": [
    "### 1.1 - 简单版\n",
    "\n",
    "有一个背包，其承重量是W kg。有n个物品，每个物品的重量为w[i]，且不可分割。求在不超过背包承重量的前提下，背包的最大重量。"
   ]
  },
  {
   "cell_type": "code",
   "execution_count": 1,
   "metadata": {},
   "outputs": [],
   "source": [
    "def Backtrack(i, w, capacity):\n",
    "    global cur_w, max_w\n",
    "    if cur_w == capacity or i >= len(w):\n",
    "        if cur_w > max_w:\n",
    "            max_w = cur_w\n",
    "    else:\n",
    "        # 满足条件时：装入第i个物品，再装入第i+1个物品\n",
    "        if cur_w + w[i] <= capacity:\n",
    "            cur_w += w[i]\n",
    "            Backtrack(i + 1, w, capacity)\n",
    "            # 开始回溯\n",
    "            cur_w -= w[i]\n",
    "        # 不放入第i个物品，直接放入第i+1个物品\n",
    "        Backtrack(i + 1, w, capacity)"
   ]
  },
  {
   "cell_type": "code",
   "execution_count": 2,
   "metadata": {},
   "outputs": [
    {
     "name": "stdout",
     "output_type": "stream",
     "text": [
      "10\n"
     ]
    }
   ],
   "source": [
    "w = [2, 2, 6, 5, 4]\n",
    "cur_w, max_w = 0, 0\n",
    "Backtrack(0, w, 10)\n",
    "print(max_w)"
   ]
  },
  {
   "cell_type": "markdown",
   "metadata": {},
   "source": [
    "### 1.2 - 进阶版\n",
    "有一个背包，其承重量是W kg。有n个物品，每个物品的重量和价值分别为w[i]和v[i]，且不可分割。求在不超过背包承重量的前提下，背包中物品的最大价值。\n",
    "\n",
    "**策略**：\n",
    "\n",
    "- 使用0/1序列表示物品的放入情况。\n",
    "- 将搜索看作一棵二叉树，二叉树的第i层代表第i个物品，左子树表示1（放入物品），右子树表示0（不放入物品）。如果背包剩余空间允许放入物品i，则扩展左子树；若不允许，则判断限界条。\n",
    "- 当层数达到物品个数n时，停止扩展，开始回溯。（如何回溯？怎样得到就怎样恢复——放入背包的重量取出，对应价值减去）\n",
    "\n",
    "约束条件：放入背包物品的总重量 <= 背包容量\n",
    "\n",
    "限界条件：当前放入背包中物品的总价值 + 剩余物品的总价值 > 已知最有价值。这种情况可以继续往下搜索，否则停止搜索。"
   ]
  },
  {
   "cell_type": "code",
   "execution_count": 34,
   "metadata": {},
   "outputs": [],
   "source": [
    "def Backtrack(i, w, v, capacity):\n",
    "    global cur_v, max_v, cur_w, max_w, bag, best\n",
    "    if i >= len(w):\n",
    "        if cur_v > max_v:\n",
    "            max_v = cur_v\n",
    "            best = bag[:]\n",
    "    else:\n",
    "        if cur_w + w[i] <= capacity:\n",
    "            cur_w += w[i]\n",
    "            cur_v += v[i]\n",
    "            bag[i] = 1\n",
    "            Backtrack(i + 1, w, v, capacity)\n",
    "            cur_w -= w[i]\n",
    "            cur_v -= v[i]\n",
    "        bag[i] = 0\n",
    "        Backtrack(i + 1, w, v, capacity)"
   ]
  },
  {
   "cell_type": "code",
   "execution_count": 35,
   "metadata": {},
   "outputs": [
    {
     "name": "stdout",
     "output_type": "stream",
     "text": [
      "15\n",
      "[1, 1, 0, 0, 1]\n"
     ]
    }
   ],
   "source": [
    "w = [2, 2, 6, 5, 4]\n",
    "v = [6, 3, 5, 4, 6]\n",
    "bag = [0 for i in range(len(w))]\n",
    "best = [0 for i in range(len(w))]\n",
    "cur_v, max_v, cur_w, max_w = 0, 0, 0, 0\n",
    "Backtrack(0, w, v, 10)\n",
    "print(max_v)\n",
    "print(best)"
   ]
  },
  {
   "attachments": {},
   "cell_type": "markdown",
   "metadata": {},
   "source": [
    "## 2 - 正则表达式匹配\n",
    "\n",
    "请实现一个函数用来匹配包括'.'和'\\*'的正则表达式。模式中的字符'.'表示任意一个字符，而'\\*'表示它前面的字符可以出现任意次（包含0次）。 在本题中，匹配是指字符串的所有字符匹配整个模式。例如，字符串\"aaa\"与模式\"a.a\"和\"ab\\*ac\\*a\"匹配，但是与\"aa.a\"和\"ab\\*a\"均不匹配。"
   ]
  },
  {
   "cell_type": "code",
   "execution_count": 5,
   "metadata": {},
   "outputs": [],
   "source": [
    "def Match(s, p):\n",
    "    if len(s) == 0 and len(p) == 0:\n",
    "        return True\n",
    "    if len(s) > 0 and len(p) == 0:\n",
    "        return False\n",
    "    if len(s) == 0 and len(p) > 0:\n",
    "        if len(p) > 1 and p[1] == '*':\n",
    "            return Match(s, p[2:])\n",
    "        return False\n",
    "    if len(p) > 1 and p[1] == '*':\n",
    "        if s[0] == p[0] or p[0] == '.':\n",
    "            return Match(s[1:], p) or Match(s[1:], p[2:]) or Match(s, p[2:])\n",
    "        return Match(s, p[2:])\n",
    "    else:\n",
    "        if s[0] == p[0] or p[0] == '.':\n",
    "            return Match(s[1:], p[1:])\n",
    "        return False"
   ]
  },
  {
   "cell_type": "code",
   "execution_count": 6,
   "metadata": {},
   "outputs": [
    {
     "name": "stdout",
     "output_type": "stream",
     "text": [
      "True\n",
      "True\n"
     ]
    }
   ],
   "source": [
    "# test cases\n",
    "s = 'aaa'\n",
    "pattern1 = 'ab*ac*a'\n",
    "pattern2 = 'aa.*'\n",
    "print(Match(s, pattern1))\n",
    "print(Match(s, pattern2))"
   ]
  },
  {
   "attachments": {},
   "cell_type": "markdown",
   "metadata": {},
   "source": [
    "## 3 - 矩阵中的路径\n",
    "\n",
    "请设计一个函数，用来判断在一个矩阵中是否存在一条包含某字符串所有字符的路径。路径可以从矩阵中的任意一个格子开始，每一步可以在矩阵中向左，向右，向上，向下移动一个格子。如果一条路径经过了矩阵中的某一个格子，则该路径不能再进入该格子。 例如 [ a b c e ；s f c s； a d e e ]矩阵中包含一条字符串\"bcced\"的路径，但是矩阵中不包含\"abcb\"路径，因为字符串的第一个字符b占据了矩阵中的第一行第二个格子之后，路径不能再次进入该格子。\n",
    "\n",
    "注：用字符串储存矩阵，以节省空间。"
   ]
  },
  {
   "cell_type": "code",
   "execution_count": 8,
   "metadata": {},
   "outputs": [],
   "source": [
    "def HasPath(matrix, rows, cols, path):\n",
    "    visited = [False] * len(matrix)\n",
    "    \n",
    "    def FindNext(i, j, k):\n",
    "        if visited[i * cols + j]:\n",
    "            return False\n",
    "        if k == len(path):\n",
    "            return True\n",
    "        \n",
    "        visited[i * cols + j] = True\n",
    "        \n",
    "        up, down, left, right = False, False, False, False\n",
    "        if i > 0 and matrix[(i - 1) * cols + j] == path[k]:\n",
    "            up = FindNext(i - 1, j, k + 1)\n",
    "        if i < rows - 1 and matrix[(i + 1) * cols + j] == path[k]:\n",
    "            down = FindNext(i + 1, j, k + 1)\n",
    "        if j > 0 and matrix[i * cols + (j - 1)] == path[k]:\n",
    "            left = FindNext(i, j - 1, k + 1)\n",
    "        if j < cols - 1 and matrix[i * cols + (j + 1)] == path[k]:\n",
    "            right = FindNext(i, j + 1, k + 1)\n",
    "        \n",
    "        res = (up or down or left or right)\n",
    "        if not res:\n",
    "            visited[i * cols + j] = False\n",
    "        return res\n",
    "    \n",
    "    for i in range(rows):\n",
    "        for j in range(cols):\n",
    "            if matrix[i * cols + j] == path[0]:\n",
    "                if FindNext(i, j, 1):\n",
    "                    return True\n",
    "    return False"
   ]
  },
  {
   "cell_type": "code",
   "execution_count": 10,
   "metadata": {},
   "outputs": [
    {
     "name": "stdout",
     "output_type": "stream",
     "text": [
      "True\n"
     ]
    }
   ],
   "source": [
    "# test case 1\n",
    "matrix = 'abtgcfcsjdeh'\n",
    "path = 'bfce'\n",
    "res = HasPath(matrix, 3, 4, path)\n",
    "print(res)"
   ]
  },
  {
   "cell_type": "code",
   "execution_count": 12,
   "metadata": {},
   "outputs": [
    {
     "name": "stdout",
     "output_type": "stream",
     "text": [
      "False\n"
     ]
    }
   ],
   "source": [
    "# test case 2\n",
    "matrix = \"ABCESFCSADEE\"\n",
    "path = \"ABCB\"\n",
    "res = HasPath(matrix, 3, 4, path)\n",
    "print(res)"
   ]
  },
  {
   "attachments": {},
   "cell_type": "markdown",
   "metadata": {},
   "source": [
    "## 4 - 二叉树中和为某一值的路径\n",
    "\n",
    "输入一棵二叉树的根节点和一个整数，打印出二叉树中结点值的和为输入整数的所有路径。路径定义为从树的根结点开始往下一直到叶结点所经过的结点形成一条路径。(注意: 在返回值的list中，数组长度大的数组靠前)。"
   ]
  },
  {
   "cell_type": "code",
   "execution_count": 22,
   "metadata": {},
   "outputs": [],
   "source": [
    "class TreeNode:\n",
    "    def __init__(self, x, left, right):\n",
    "        self.val = x\n",
    "        self.left = left\n",
    "        self.right = right\n",
    "\n",
    "class Solution:\n",
    "    # 返回二维列表，内部每个列表表示找到的路径\n",
    "    def FindPath(self, root, expectNumber):\n",
    "        # write code here\n",
    "        res = []\n",
    "\n",
    "        def main(node, expectNumber, path):\n",
    "            path.append(node)\n",
    "            is_leaf = node.left is None and node.right is None\n",
    "            if is_leaf and node.val == expectNumber:\n",
    "                one_path = [e.val for e in path]\n",
    "                res.append(one_path)\n",
    "            else:\n",
    "                if node.left:\n",
    "                    main(node.left, expectNumber - node.val, path)\n",
    "                if node.right:\n",
    "                    main(node.right, expectNumber - node.val, path)\n",
    "            path.pop()\n",
    "\n",
    "        main(root, expectNumber, [])\n",
    "\n",
    "        return res"
   ]
  },
  {
   "cell_type": "code",
   "execution_count": 23,
   "metadata": {},
   "outputs": [
    {
     "name": "stdout",
     "output_type": "stream",
     "text": [
      "[[10, 5, 7], [10, 12]]\n"
     ]
    }
   ],
   "source": [
    "# test case\n",
    "n4 = TreeNode(4, None, None)\n",
    "n7 = TreeNode(7, None, None)\n",
    "n5 = TreeNode(5, n4, n7)\n",
    "n12 = TreeNode(12, None, None)\n",
    "root = TreeNode(10, n5, n12)\n",
    "\n",
    "S = Solution()\n",
    "result = S.FindPath(root, 22)\n",
    "print(result)"
   ]
  },
  {
   "cell_type": "markdown",
   "metadata": {},
   "source": [
    "## 5 - 机器人的运动范围"
   ]
  },
  {
   "cell_type": "code",
   "execution_count": 24,
   "metadata": {},
   "outputs": [],
   "source": [
    "class Solution:\n",
    "    def movingCount(self, threshold, rows, cols):\n",
    "        if threshold < 0 or rows <= 0 or cols <= 0:\n",
    "            return False\n",
    "        visited = [[False] * cols for _ in range(rows)]\n",
    "\n",
    "        def Main(i, j):\n",
    "            count = 0\n",
    "            if self.Check(threshold, rows, cols, visited, i, j):\n",
    "                visited[i][j] = True\n",
    "                count = 1 + Main(i - 1, j) + Main(i + 1, j) + Main(i, j - 1) + Main(i, j + 1)\n",
    "            return count\n",
    "\n",
    "        return Main(0, 0)\n",
    "\n",
    "    def Check(self, threshold, rows, cols, visited, i, j):\n",
    "        if 0 <= i < rows and 0 <= j < cols and visited[i][j] is False\\\n",
    "                and self.GetDigitSum(i) + self.GetDigitSum(j) <= threshold:\n",
    "            return True\n",
    "        return False\n",
    "\n",
    "    def GetDigitSum(self, n):\n",
    "        sum = 0\n",
    "        while n != 0:\n",
    "            sum += n % 10\n",
    "            n = n // 10\n",
    "        return sum"
   ]
  },
  {
   "cell_type": "code",
   "execution_count": 25,
   "metadata": {},
   "outputs": [
    {
     "name": "stdout",
     "output_type": "stream",
     "text": [
      "21\n"
     ]
    }
   ],
   "source": [
    "S = Solution()\n",
    "res = S.movingCount(5, 10, 10)\n",
    "print(res)"
   ]
  },
  {
   "cell_type": "code",
   "execution_count": null,
   "metadata": {},
   "outputs": [],
   "source": []
  }
 ],
 "metadata": {
  "kernelspec": {
   "display_name": "Python 3",
   "language": "python",
   "name": "python3"
  },
  "language_info": {
   "codemirror_mode": {
    "name": "ipython",
    "version": 3
   },
   "file_extension": ".py",
   "mimetype": "text/x-python",
   "name": "python",
   "nbconvert_exporter": "python",
   "pygments_lexer": "ipython3",
   "version": "3.7.4"
  }
 },
 "nbformat": 4,
 "nbformat_minor": 2
}
