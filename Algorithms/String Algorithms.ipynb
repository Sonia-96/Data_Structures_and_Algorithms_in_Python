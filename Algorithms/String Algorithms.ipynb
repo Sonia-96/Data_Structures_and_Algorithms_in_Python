{
 "cells": [
  {
   "cell_type": "markdown",
   "metadata": {},
   "source": [
    "# String Algorithms"
   ]
  },
  {
   "cell_type": "markdown",
   "metadata": {},
   "source": [
    "## 1 - 单模式串匹配"
   ]
  },
  {
   "cell_type": "markdown",
   "metadata": {},
   "source": [
    "### 1.1 -  暴力解法"
   ]
  },
  {
   "cell_type": "code",
   "execution_count": 1,
   "metadata": {},
   "outputs": [],
   "source": [
    "def BruteForce(text, pattern):\n",
    "    res = []\n",
    "    for i in range(len(text) - len(pattern) + 1):\n",
    "        j = 0\n",
    "        while j < len(pattern):\n",
    "            if text[i + j] != pattern[j]:\n",
    "                break\n",
    "            j += 1\n",
    "        if j == len(pattern):\n",
    "            res.append(i)\n",
    "    return res"
   ]
  },
  {
   "cell_type": "code",
   "execution_count": 2,
   "metadata": {},
   "outputs": [],
   "source": [
    "text = 'abcabcababac'\n",
    "pattern = 'ab'\n",
    "print(BruteForce(text, pattern))"
   ]
  },
  {
   "cell_type": "markdown",
   "metadata": {},
   "source": [
    "### 2 - RabinKarp算法"
   ]
  },
  {
   "cell_type": "code",
   "execution_count": 3,
   "metadata": {},
   "outputs": [],
   "source": [
    "class RabinKarp:\n",
    "    def __init__(self, text, pattern):\n",
    "        self.text = text\n",
    "        self.pattern = pattern\n",
    "        self.p = 1000000007 # p是一个很大的质数\n",
    "        self.x = 236 # x是区间[1, p-1]任意一个数即可\n",
    "        \n",
    "    def PolyHash(self, s):\n",
    "        hash = 0\n",
    "        for i in range(len(s) - 1, -1, -1):\n",
    "            hash = (hash * self.x + ord(s[i])) % self.p\n",
    "        return hash\n",
    "    \n",
    "    # 预先计算主串中每一个长度为m的子串的哈希值\n",
    "    def PreComputeHashes(self):\n",
    "        n = len(self.text)\n",
    "        m = len(self.pattern)\n",
    "        H = [0] * (n - m + 1)\n",
    "        H[-1] = self.PolyHash(self.text[n - m:])\n",
    "        y = pow(self.x, m, self.p)\n",
    "        for i in range(n - m - 1, -1, -1):\n",
    "            H[i] = (self.x * H[i + 1] + ord(self.text[i]) - ord(self.text[i + m]) * y ) % self.p\n",
    "        return H\n",
    "    \n",
    "    def Match(self):\n",
    "        p_hash = self.PolyHash(self.pattern)\n",
    "        H = self.PreComputeHashes()\n",
    "        res = []\n",
    "        for i in range(len(H)):\n",
    "            if H[i] == p_hash:\n",
    "                res.append(i)\n",
    "        return res"
   ]
  },
  {
   "cell_type": "code",
   "execution_count": 4,
   "metadata": {
    "scrolled": true
   },
   "outputs": [
    {
     "name": "stdout",
     "output_type": "stream",
     "text": [
      "[0, 3, 6, 8]\n"
     ]
    }
   ],
   "source": [
    "# test case\n",
    "text = 'abcabcababac'\n",
    "pattern = 'ab'\n",
    "S = RabinKarp(text, pattern)\n",
    "print(S.Match())"
   ]
  },
  {
   "cell_type": "markdown",
   "metadata": {},
   "source": [
    "### 3 - KMP算法"
   ]
  },
  {
   "cell_type": "code",
   "execution_count": 5,
   "metadata": {},
   "outputs": [],
   "source": [
    "class KMP:\n",
    "    def PrefixFunction(self, string):\n",
    "        prefix = [0] * len(string)\n",
    "        border = 0\n",
    "        for i in range(1, len(string)):\n",
    "            while border > 0 and string[i] != string[border]:\n",
    "                border = prefix[border - 1]\n",
    "            if string[i] == string[border]:\n",
    "                border += 1\n",
    "            else:\n",
    "                border = 0\n",
    "            prefix[i] = border\n",
    "        return prefix\n",
    "    \n",
    "    def Match(self, text, pattern):\n",
    "        s = pattern + '#' + text\n",
    "        prefix = self.PrefixFunction(s)\n",
    "        res = []\n",
    "        for i in range(len(pattern) + 1, len(s)):\n",
    "            if prefix[i] == len(pattern):\n",
    "                res.append(i - 2 * len(pattern))\n",
    "        return res"
   ]
  },
  {
   "cell_type": "code",
   "execution_count": 6,
   "metadata": {
    "scrolled": true
   },
   "outputs": [
    {
     "name": "stdout",
     "output_type": "stream",
     "text": [
      "[0, 3, 6, 8]\n"
     ]
    }
   ],
   "source": [
    "# test case\n",
    "text = 'abcabcababac'\n",
    "pattern = 'ab'\n",
    "S = KMP()\n",
    "print(S.Match(text, pattern))"
   ]
  },
  {
   "cell_type": "markdown",
   "metadata": {},
   "source": [
    "### 4 - BM算法"
   ]
  },
  {
   "cell_type": "code",
   "execution_count": 7,
   "metadata": {},
   "outputs": [],
   "source": [
    "class BM:\n",
    "    def __init__(self, text, pattern):\n",
    "        self.text = text\n",
    "        self.pattern = pattern\n",
    "        self.suffix = [-1] * len(pattern)\n",
    "        self.prefix = [False] * len(pattern)\n",
    "        \n",
    "    def GenerateBadChar(self):\n",
    "        bad_char = [-1] * 256\n",
    "        for i in range(len(self.pattern)):\n",
    "            bad_char[ord(self.pattern[i])] = i\n",
    "        return bad_char\n",
    "    \n",
    "    def GenerateGS(self):\n",
    "        m = len(self.pattern)\n",
    "        for i in range(m - 1): # pattern[0:i + 1]\n",
    "            j = i\n",
    "            k = 0# 后缀长度\n",
    "            # 从模式串尾部与pattern[0:i + 1]从后往前逐个进行字符的比较\n",
    "            # 最后k为公共后缀的长度，j+1为其起始位置\n",
    "            while j >=0 and self.pattern[j] == self.pattern[m - 1 -k]:\n",
    "                j -= 1\n",
    "                k += 1\n",
    "                self.suffix[k] = j + 1\n",
    "            # 如果起始位置为0，则该后缀同时也是模式串的前缀\n",
    "            if j == -1:\n",
    "                self.prefix[k] = True\n",
    "    \n",
    "    def MoveByGS(self, bc_pos):\n",
    "        # 传入的是坏字符对应的模式串中的字符下标\n",
    "        m = len(self.pattern)\n",
    "        k = m - bc_pos - 1 # 好后缀长度\n",
    "        if k < m and self.suffix[k] != -1:\n",
    "            return bc_pos + 1 - self.suffix[k]\n",
    "        for i in range(k - 1, 0, -1):\n",
    "            if self.prefix[i]:\n",
    "                return m - i\n",
    "        return m\n",
    "    \n",
    "    def Match(self):\n",
    "        bad_char = self.GenerateBadChar()\n",
    "        self.GenerateGS()\n",
    "        n = len(self.text)\n",
    "        m = len(self.pattern)\n",
    "         \n",
    "        res = []\n",
    "        i = 0\n",
    "        while i <= n - m:\n",
    "            j = m - 1\n",
    "            while j >=0 and text[i + j] == pattern[j]:\n",
    "                j -= 1\n",
    "            if j == -1:\n",
    "                res.append(i)\n",
    "                # 如果模式串匹配成功，则移动至使其最长公共前后缀对齐\n",
    "                i += self.MoveByGS(j)\n",
    "            else:\n",
    "                move_len1 = j - bad_char[ord(self.text[i + j])]\n",
    "                move_len2 = 0\n",
    "                if j < m - 1:\n",
    "                    move_len2 = self.MoveByGS(j)\n",
    "                i += max(move_len1, move_len2)\n",
    "        \n",
    "        del bad_char\n",
    "        del self.suffix\n",
    "        del self.prefix\n",
    "        return res"
   ]
  },
  {
   "cell_type": "code",
   "execution_count": 8,
   "metadata": {},
   "outputs": [
    {
     "name": "stdout",
     "output_type": "stream",
     "text": [
      "[0, 2]\n"
     ]
    }
   ],
   "source": [
    "text = 'ATATA'\n",
    "pattern = 'ATA'\n",
    "S = BM(text, pattern)\n",
    "print(S.Match())"
   ]
  },
  {
   "cell_type": "code",
   "execution_count": 9,
   "metadata": {},
   "outputs": [
    {
     "name": "stdout",
     "output_type": "stream",
     "text": [
      "[9]\n"
     ]
    }
   ],
   "source": [
    "text = \"abcacabcbcbacabc\"\n",
    "pattern = \"cbacabc\"\n",
    "S = BM(text, pattern)\n",
    "print(S.Match())"
   ]
  },
  {
   "cell_type": "markdown",
   "metadata": {},
   "source": [
    "## 2 - 多模式串匹配"
   ]
  },
  {
   "cell_type": "markdown",
   "metadata": {},
   "source": [
    "### 1 - Trie树"
   ]
  },
  {
   "cell_type": "code",
   "execution_count": 10,
   "metadata": {},
   "outputs": [],
   "source": [
    "class Trie:\n",
    "    class TrieNode:\n",
    "        def __init__(self, label):\n",
    "            self.label = label\n",
    "            self.children = {}\n",
    "            self.isWord = False # 该结点是否为一个模式串的结尾字符\n",
    "            self.length = -1 # 若为一个模式串的结尾字符，则记录该模式串长度\n",
    "    \n",
    "    # 定义根节点\n",
    "    def __init__(self):\n",
    "        self.root = self.TrieNode('')\n",
    "    \n",
    "    # 插入一个模式串\n",
    "    def Insert(self, pattern):\n",
    "        curr = self.root\n",
    "        for i in range(len(pattern)):\n",
    "            symbol = pattern[i]\n",
    "            if not curr.children.__contains__(symbol):\n",
    "                curr.children[symbol] = self.TrieNode(symbol)\n",
    "            curr = curr.children[symbol]\n",
    "        curr.isWord = True\n",
    "        curr.length = len(pattern)\n",
    "    \n",
    "    # 主串匹配\n",
    "    def Match(self, text):\n",
    "        res = []\n",
    "        for i in range(len(text)):\n",
    "            curr = self.root\n",
    "            for j in range(i, len(text)):\n",
    "                symbol = text[j]\n",
    "                if not curr.children.__contains__(symbol):\n",
    "                    break\n",
    "                curr = curr.children[symbol]\n",
    "                if curr.isWord:\n",
    "                    pos = j - curr.length + 1\n",
    "                    res.append((i, text[pos:j+1]))\n",
    "        return res"
   ]
  },
  {
   "cell_type": "code",
   "execution_count": 11,
   "metadata": {
    "scrolled": true
   },
   "outputs": [
    {
     "name": "stdout",
     "output_type": "stream",
     "text": [
      "[(0, 'abcd'), (1, 'bcd'), (2, 'c'), (4, 'c')]\n"
     ]
    }
   ],
   "source": [
    "#test case\n",
    "text = 'abcdc'\n",
    "patterns = ['abcd', 'bcd', 'c']\n",
    "trie = Trie()\n",
    "for pattern in patterns:\n",
    "    trie.Insert(pattern)\n",
    "print(trie.Match(text))"
   ]
  },
  {
   "cell_type": "markdown",
   "metadata": {},
   "source": [
    "### 2 - AC自动机\n",
    "\n",
    "1. 构造Trie树\n",
    "2. 添加fail指针"
   ]
  },
  {
   "cell_type": "code",
   "execution_count": 12,
   "metadata": {},
   "outputs": [],
   "source": [
    "from queue import Queue\n",
    "class ACAutomation:\n",
    "    class ACNode:\n",
    "        def __init__(self, label):\n",
    "            self.label = label\n",
    "            self.children = {}\n",
    "            self.isWord = False # 该结点是否为一个模式串的结尾字符\n",
    "            self.length = -1 # 若为一个模式串的结尾字符，则记录该模式串长度\n",
    "            self.fail = None\n",
    "    \n",
    "    def __init__(self):\n",
    "        self.root = self.ACNode('')\n",
    "    \n",
    "    def Insert(self, pattern):\n",
    "        curr = self.root\n",
    "        for i in range(len(pattern)):\n",
    "            symbol = pattern[i]\n",
    "            if not curr.children.__contains__(symbol):\n",
    "                curr.children[symbol] = self.ACNode(symbol)\n",
    "            curr = curr.children[symbol]\n",
    "        curr.isWord = True\n",
    "        curr.length = len(pattern)\n",
    "    \n",
    "    # 构建fail指针\n",
    "    def BuildFailPointer(self):\n",
    "        queue = Queue()\n",
    "        queue.put(self.root)\n",
    "        while not queue.empty():# 广度优先算法（BFS）\n",
    "            p = queue.get()\n",
    "            for pc_label, pc in p.children.items():\n",
    "                # 第一层结点的fail指针指向根节点\n",
    "                if p == self.root:\n",
    "                    pc.fail = self.root\n",
    "                else:\n",
    "                    q = p.fail #q为p的失配指针\n",
    "                    while q != self.root and not q.children.__contains__(pc_label):\n",
    "                        q = q.fail\n",
    "                    if q.children.__contains__(pc_label):\n",
    "                        pc.fail = q.children[pc_label]\n",
    "                    else: # 一直到根结点都没有找到与pc相同的子结点\n",
    "                        pc.fail = self.root # pc的失配指针指向根节点 \n",
    "                queue.put(pc)\n",
    "    \n",
    "    # 利用fail指针进行主串的匹配\n",
    "    def Match(self, text):\n",
    "        res = []\n",
    "        p = self.root\n",
    "        for i in range(len(text)):\n",
    "            symbol = text[i]\n",
    "            # 当p不为root，且其子结点中没有symbol时，往上搜索失配指针\n",
    "            while p != self.root and not p.children.__contains__(symbol):\n",
    "                p = p.fail\n",
    "            if p.children.__contains__(symbol):\n",
    "                p = p.children[symbol]\n",
    "            else: # 匹配失败，则从root重新搜索\n",
    "                p = self.root\n",
    "            # 找到所有可匹配的模式串\n",
    "            tmp = p\n",
    "            while tmp != self.root:\n",
    "                if tmp.isWord:\n",
    "                    pos = i - tmp.length + 1\n",
    "                    res.append((pos, text[pos: i + 1]))\n",
    "                tmp = tmp.fail\n",
    "        return res"
   ]
  },
  {
   "cell_type": "code",
   "execution_count": 13,
   "metadata": {
    "scrolled": true
   },
   "outputs": [
    {
     "name": "stdout",
     "output_type": "stream",
     "text": [
      "[(2, 'c'), (0, 'abcd'), (1, 'bcd'), (4, 'c')]\n"
     ]
    }
   ],
   "source": [
    "# test case\n",
    "text = 'abcdc'\n",
    "patterns = ['abcd', 'bcd', 'c']\n",
    "ac_auto = ACAutomation()\n",
    "for pattern in patterns:\n",
    "    ac_auto.Insert(pattern)\n",
    "ac_auto.BuildFailPointer()\n",
    "print(ac_auto.Match(text))"
   ]
  },
  {
   "cell_type": "markdown",
   "metadata": {},
   "source": [
    "### 3 - Burrows Wheeler Transform"
   ]
  },
  {
   "cell_type": "code",
   "execution_count": 14,
   "metadata": {},
   "outputs": [],
   "source": [
    "class BWT:\n",
    "    def __init__(self, s):\n",
    "        self.s = s + '#'\n",
    "        self.first = ''\n",
    "        self.last = ''\n",
    "        self.first_occur = [0] * 256\n",
    "        self.last_to_first = [0] * len(self.s)\n",
    "        self.count = [[0] * 256]\n",
    "    \n",
    "    # 编码\n",
    "    def Encode(self):\n",
    "        rotate_list = [self.s]\n",
    "        for i in range(len(self.s) - 1):\n",
    "            self.s = self.s[-1] + self.s[:-1]\n",
    "            rotate_list.append(self.s)\n",
    "        rotate_list.sort()\n",
    "        for string in rotate_list:\n",
    "            self.first += string[0]\n",
    "            self.last += string[-1]\n",
    "        return self.last\n",
    "    \n",
    "    def PreProcess(self):\n",
    "        # first_occr[ord(char)]: 每个字符在first中第一次出现的下标\n",
    "        for e in self.s: # 计数排序\n",
    "            self.first_occur[ord(e)] += 1\n",
    "        self.first_occur[255] = len(self.s) - self.first_occur[255]\n",
    "        for i in range(254, -1, -1): # 每个字符在first中第一次出现的下标\n",
    "            self.first_occur[i] = self.first_occur[i + 1] - self.first_occur[i]\n",
    "        \n",
    "        # last_to_first[i]: last中第i个字符在first中对应的位置\n",
    "        tmp = [e for e in self.first_occur]\n",
    "        for i in range(len(self.s)):\n",
    "            self.last_to_first[i] = tmp[ord(self.last[i])]\n",
    "            tmp[ord(self.last[i])] += 1\n",
    "        \n",
    "        # count[i][ord(c)]: 在last的第i行前，字符c已经出现过的次数  \n",
    "        for i in range(len(self.s)):\n",
    "            self.count.append([e for e in self.count[i]])\n",
    "            self.count[i + 1][ord(self.last[i])] += 1\n",
    "    \n",
    "    # 解码\n",
    "    def Decode(self):\n",
    "        self.PreProcess()\n",
    "        res = ''\n",
    "        pos = 0\n",
    "        for _ in range(len(self.s) - 1):\n",
    "            res += self.last[pos]\n",
    "            pos = self.last_to_first[pos]\n",
    "        return res[::-1]\n",
    "    \n",
    "    # 模式串匹配：返回模式串在主串中出现的次数\n",
    "    def Match(self, pattern):\n",
    "        top = 0\n",
    "        bottom = len(self.s) - 1\n",
    "        for i in range(len(pattern)):\n",
    "            symbol = pattern[i]\n",
    "            top = self.first_occur[ord(symbol)] + self.count[top][ord(symbol)]\n",
    "            bottom = self.first_occur[ord(symbol)] + self.count[bottom + 1][ord(symbol)] - 1\n",
    "            if top > bottom:\n",
    "                return 0\n",
    "        return bottom - top + 1"
   ]
  },
  {
   "cell_type": "code",
   "execution_count": 15,
   "metadata": {
    "scrolled": true
   },
   "outputs": [
    {
     "name": "stdout",
     "output_type": "stream",
     "text": [
      "Text:  panamabananas\n",
      "Encoding:  smnpbnnaaaaa#a\n",
      "Decoding:  panamabananas\n",
      "3\n",
      "0\n"
     ]
    }
   ],
   "source": [
    "text = 'panamabananas'\n",
    "print('Text: ', text)\n",
    "S = BWT(text)\n",
    "print('Encoding: ', S.Encode())\n",
    "print('Decoding: ', S.Decode())\n",
    "print(S.Match('ana'))\n",
    "print(S.Match('anb'))"
   ]
  },
  {
   "cell_type": "markdown",
   "metadata": {},
   "source": [
    "### 4 - 后缀数组"
   ]
  },
  {
   "cell_type": "code",
   "execution_count": 16,
   "metadata": {},
   "outputs": [],
   "source": [
    "class SuffixArray:\n",
    "    def __init__(self, s):\n",
    "        order = self.SortCharacters(s)\n",
    "        class_ = self.ComputeCharClasses(s, order)\n",
    "        L = 1\n",
    "        # 倍增法创建后缀数组\n",
    "        while L < len(s):\n",
    "            order = self.SortDoubled(s, order, class_, L)\n",
    "            class_ = self.UpdateClasses(order, class_, L)\n",
    "            L *= 2\n",
    "        self.order = order\n",
    "    \n",
    "    # 对s中的每个字符按字典序排序\n",
    "    def SortCharacters(self, s):\n",
    "        order = [0] * len(s)\n",
    "        count = [0] * 256\n",
    "        # 计数\n",
    "        for i in range(len(s)):\n",
    "            count[ord(s[i])] += 1\n",
    "        # 最后一次出现的下标\n",
    "        for i in range(1, 256):\n",
    "            count[i] += count[i - 1]\n",
    "        # 排序\n",
    "        for i in range(len(s) - 1, -1, -1):\n",
    "            count[ord(s[i])] -= 1\n",
    "            order[count[ord(s[i])]] = i\n",
    "        return order\n",
    "    \n",
    "    # 按从小到大的顺序划分每个字符的类别，相同字符的类别号相同\n",
    "    def ComputeCharClasses(self, s, order):\n",
    "        class_ = [0] * len(s)\n",
    "        for i in range(len(s)):\n",
    "            if s[order[i]] == s[order[i - 1]]:\n",
    "                class_[order[i]] = class_[order[i - 1]]\n",
    "            else:\n",
    "                class_[order[i]] = class_[order[i - 1]] + 1\n",
    "        return class_\n",
    "    \n",
    "    # 对长度为2L的子串排序\n",
    "    def SortDoubled(self, s, order, class_, L):\n",
    "        new_order = [0] * len(s)\n",
    "        count = [0] * len(s)\n",
    "        # 计数：有多少个classes\n",
    "        for i in range(len(s)):\n",
    "            count[class_[i]] += 1\n",
    "        # 最后一次出现的下标\n",
    "        for i in range(1, len(s)):\n",
    "            count[i] += count[i - 1]\n",
    "        # 在已排序的长度为L的子串的基础上，对长度为2L的子串排序\n",
    "        for i in range(len(s) - 1, -1, -1):\n",
    "            start = (order[i] - L + len(s)) % len(s)\n",
    "            count[class_[start]] -= 1\n",
    "            new_order[count[class_[start]]] = start\n",
    "        return new_order\n",
    "    \n",
    "    # 更新长度为2L的子串的类别\n",
    "    def UpdateClasses(self, new_order, class_, L):\n",
    "        new_class = [0] * len(new_order)\n",
    "        for i in range(1, len(new_order)):\n",
    "            cur = new_order[i]\n",
    "            cur_mid = (cur + L) % len(new_order)\n",
    "            prev = new_order[i - 1]\n",
    "            prev_mid = (prev + L) % len(new_order)\n",
    "            if class_[cur] == class_[prev] and class_[cur_mid] == class_[prev_mid]:\n",
    "                new_class[cur] = new_class[prev]\n",
    "            else:\n",
    "                new_class[cur] = new_class[prev] + 1\n",
    "        return new_class"
   ]
  },
  {
   "cell_type": "code",
   "execution_count": 17,
   "metadata": {},
   "outputs": [
    {
     "name": "stdout",
     "output_type": "stream",
     "text": [
      "[8, 7, 5, 3, 1, 6, 4, 2, 0]\n"
     ]
    }
   ],
   "source": [
    "s = 'GAGAGAGA$'\n",
    "S = SuffixArray(s)\n",
    "print(S.order)"
   ]
  },
  {
   "cell_type": "code",
   "execution_count": 18,
   "metadata": {
    "scrolled": true
   },
   "outputs": [
    {
     "name": "stdout",
     "output_type": "stream",
     "text": [
      "[0, 5, 2, 1, 6, 3, 7, 4]\n"
     ]
    }
   ],
   "source": [
    "s = 'ababdabc'\n",
    "S = SuffixArray(s)\n",
    "print(S.order)"
   ]
  },
  {
   "cell_type": "markdown",
   "metadata": {},
   "source": [
    "### 应用：字符串匹配\n",
    "\n",
    "找出模式串在主串中所有的出现位置。\n",
    "\n",
    "时间复杂度：O(mlogn + ooc)"
   ]
  },
  {
   "cell_type": "code",
   "execution_count": 19,
   "metadata": {},
   "outputs": [],
   "source": [
    "# 找到模式串在主串中所有的出现位置，这些位置在后缀数组中一定是连续的\n",
    "def PatternMatchingWithSA(s, order, p):\n",
    "    low = 0\n",
    "    high = len(s)\n",
    "    # 第一次二分查找：确定起始位置\n",
    "    while low < high:\n",
    "        mid = (low + high) // 2\n",
    "        suffix = order[mid]\n",
    "        i = 0\n",
    "        while i < len(p) and suffix + i < len(s) and p[i] == s[suffix + i]:\n",
    "            i += 1\n",
    "        if i == len(p): # pattern是suffix的前缀\n",
    "            high = mid\n",
    "        elif suffix + i == len(s): # suffix是pattern的前缀\n",
    "            low = mid + 1\n",
    "        else:\n",
    "            if p[i] > s[suffix + i]:\n",
    "                low = mid + 1\n",
    "            else:\n",
    "                high = mid\n",
    "    start = low\n",
    "    # 第一次二分查找：确定终止位置\n",
    "    high = len(s)\n",
    "    while low < high:\n",
    "        mid = (low + high) // 2\n",
    "        suffix = order[mid]\n",
    "        i = 0\n",
    "        while i < len(p) and suffix + i < len(s) and p[i] == s[suffix + i]:\n",
    "            i += 1\n",
    "        if i == len(p): # pattern是suffix的前缀\n",
    "            low = mid + 1\n",
    "        else:\n",
    "            high = mid\n",
    "    end = high - 1\n",
    "    if start <= end:\n",
    "        return (start, end)\n",
    "    else:\n",
    "        return -1 "
   ]
  },
  {
   "cell_type": "code",
   "execution_count": 20,
   "metadata": {},
   "outputs": [
    {
     "name": "stdout",
     "output_type": "stream",
     "text": [
      "(4, 7)\n"
     ]
    }
   ],
   "source": [
    "s = 'GAGAGAGA'\n",
    "S = SuffixArray(s)\n",
    "order = S.order\n",
    "p = 'GA'\n",
    "print(PatternMatchingWithSA(s, order, p))"
   ]
  },
  {
   "cell_type": "markdown",
   "metadata": {},
   "source": [
    "### 5 - 最长公共前缀"
   ]
  },
  {
   "cell_type": "code",
   "execution_count": 21,
   "metadata": {},
   "outputs": [],
   "source": [
    "class LCP:\n",
    "    def InvertSuffixArray(self, order):\n",
    "        pos = [0] * len(order)\n",
    "        for i in range(len(order)):\n",
    "            pos[order[i]] = i\n",
    "        return pos\n",
    "    \n",
    "    def LCPOfSuffixes(self, s, i, j, equal):\n",
    "        lcp = max(0, equal)\n",
    "        while i + lcp < len(s) and j + lcp < len(s) and s[i + lcp] == s[j + lcp]:\n",
    "            lcp += 1\n",
    "        return lcp\n",
    "    \n",
    "    def ComputeLCPArray(self, s, order):\n",
    "        lcp_arr = [0] * (len(s) - 1)\n",
    "        pos = self.InvertSuffixArray(order)\n",
    "        lcp = 0\n",
    "        suffix = order[0] # 后缀在s中的起始位置\n",
    "        for _ in range(len(s)):\n",
    "            order_index = pos[suffix] # 后缀在后缀数组中的下标\n",
    "            # 不用计算后缀数组中最后一个后缀的LCP\n",
    "            if order_index == len(s) - 1: \n",
    "                lcp = 0\n",
    "                suffix = (suffix + 1) % len(s)\n",
    "                continue\n",
    "            next_suffix = order[order_index + 1]\n",
    "            lcp = self.LCPOfSuffixes(s, suffix, next_suffix, lcp - 1)\n",
    "            lcp_arr[order_index] = lcp\n",
    "            suffix = (suffix + 1) % len(s)\n",
    "        return lcp_arr"
   ]
  },
  {
   "cell_type": "code",
   "execution_count": 22,
   "metadata": {},
   "outputs": [
    {
     "name": "stdout",
     "output_type": "stream",
     "text": [
      "[0, 1, 1, 3, 0, 2]\n"
     ]
    }
   ],
   "source": [
    "s = 'ababaa$'\n",
    "order = SuffixArray(s).order\n",
    "lcp = LCP().ComputeLCPArray(s, order)\n",
    "print(lcp)"
   ]
  },
  {
   "cell_type": "markdown",
   "metadata": {},
   "source": [
    "### 6 - 后缀树"
   ]
  },
  {
   "cell_type": "code",
   "execution_count": 23,
   "metadata": {},
   "outputs": [],
   "source": [
    "from queue import Queue\n",
    "class SuffixTree:\n",
    "    class TreeNode:\n",
    "        def __init__(self, parent, depth, start, end):\n",
    "            self.parent = parent\n",
    "            self.children = {}\n",
    "            self.depth = depth # 从根节点到这条边的结尾一共有多少个字符\n",
    "            self.edgeStart = start # 这条边表示的子串的首字符在原字符串中的下标\n",
    "            self.edgeEnd = end # 这条边表示的子串的尾字符在原字符串中的下标\n",
    "    \n",
    "    # 创建后缀树\n",
    "    def __init__(self, s, order, lcp):\n",
    "        self.s = s\n",
    "        self.root = self.TreeNode(None, 0, -1, -1)\n",
    "        curr = self.root\n",
    "        lcp_prev = 0\n",
    "        for i in range(len(order)):\n",
    "            suffix = order[i]\n",
    "            while curr.depth > lcp_prev:\n",
    "                curr = curr.parent\n",
    "            if curr.depth == lcp_prev:\n",
    "                curr = self.CreateNewLeaf(s, curr, suffix)\n",
    "            else:\n",
    "                start = order[i - 1] + curr.depth\n",
    "                offset = lcp_prev - curr.depth\n",
    "                mid_node = self.BreakEdge(s, curr, start, offset)\n",
    "                curr = self.CreateNewLeaf(s, mid_node, suffix)\n",
    "            if i < len(order) - 1:\n",
    "                lcp_prev = lcp[i]\n",
    "    \n",
    "    def CreateNewLeaf(self, s, node, suffix):\n",
    "        leaf = self.TreeNode(node, len(s) - suffix, node.depth + suffix, len(s) - 1)\n",
    "        node.children[s[leaf.edgeStart]] = leaf\n",
    "        return leaf\n",
    "    \n",
    "    def BreakEdge(self, s, node, start, offset):\n",
    "        start_char = s[start]\n",
    "        mid_char = s[start + offset]\n",
    "        mid_node = self.TreeNode(node, node.depth + offset, start, start + offset - 1)\n",
    "        mid_node.children[mid_char] = node.children[start_char]\n",
    "        node.children[start_char].parent = mid_node\n",
    "        node.children[start_char].edgeStart += offset\n",
    "        node.children[start_char] = mid_node\n",
    "        return mid_node\n",
    "    \n",
    "    # 打印后缀树\n",
    "    def PrintEdges(self):\n",
    "        q = Queue()\n",
    "        q.put(self.root)\n",
    "        while not q.empty():\n",
    "            node = q.get()\n",
    "            print(self.s[node.edgeStart: node.edgeEnd + 1])\n",
    "            for label, child in node.children.items():\n",
    "                q.put(child)\n",
    "    \n",
    "    def FollowPath(self, pattern):\n",
    "        curr = self.root\n",
    "        i = 0\n",
    "        while i < len(pattern):\n",
    "            char = pattern[i]\n",
    "            if not curr.children.__contains__(char):\n",
    "                return (None, None)\n",
    "            child = curr.children[char]\n",
    "            j = i + 1\n",
    "            while j - i <= child.edgeEnd - child.edgeStart and j < len(pattern) and pattern[j] == self.s[child.edgeStart + j - i]:\n",
    "                j += 1\n",
    "            # 这条边匹配完毕，则继续往下匹配\n",
    "            if j - i == child.edgeEnd - child.edgeStart + 1:\n",
    "                curr = child\n",
    "                i = j\n",
    "            # 在这条边的中间，模式串匹配完毕，匹配成功\n",
    "            elif j == len(pattern):\n",
    "                return (child, j - i)\n",
    "            # 在这条边的中间，模式串遇到不匹配的字符，匹配失败\n",
    "            else:\n",
    "                return (None, None)\n",
    "        # 模式串在非叶结点处匹配完毕\n",
    "        return(curr, None)\n",
    "    \n",
    "    # 后缀树应用1：模式串匹配\n",
    "    def PatternMatching(self, pattern):\n",
    "        node, offset = self.FollowPath(pattern)\n",
    "        if node is None:\n",
    "            return False\n",
    "        else:\n",
    "            return node.edgeEnd - node.depth + 1\n",
    "    \n",
    "    # 后缀树应用2：判断字符串是否有后缀suffix\n",
    "    def HasSuffix(self, suffix):\n",
    "        node, offset = self.FollowPath(suffix)\n",
    "        if node is None:\n",
    "            return False\n",
    "        if offset is None:\n",
    "            return node.children.__contains__('$')\n",
    "        return self.s[node.edgeStart + offset] == '$'"
   ]
  },
  {
   "attachments": {
    "image.png": {
     "image/png": "[encoded data removed]"
    }
   },
   "cell_type": "markdown",
   "metadata": {},
   "source": [
    "![image.png](attachment:image.png)"
   ]
  },
  {
   "cell_type": "code",
   "execution_count": 24,
   "metadata": {},
   "outputs": [
    {
     "name": "stdout",
     "output_type": "stream",
     "text": [
      "\n",
      "$\n",
      "AGT$\n",
      "GT\n",
      "T\n",
      "$\n",
      "AGT$\n",
      "$\n",
      "AGT$\n",
      "\n",
      "2\n",
      "False\n"
     ]
    }
   ],
   "source": [
    "# test case\n",
    "s = 'GTAGT$'\n",
    "order = SuffixArray(s).order\n",
    "lcp = LCP().ComputeLCPArray(s, order)\n",
    "S = SuffixTree(s, order, lcp)\n",
    "S.PrintEdges()\n",
    "print('')\n",
    "print(S.PatternMatching('AG'))\n",
    "print(S.HasSuffix('AG'))"
   ]
  },
  {
   "cell_type": "code",
   "execution_count": null,
   "metadata": {},
   "outputs": [],
   "source": []
  }
 ],
 "metadata": {
  "kernelspec": {
   "display_name": "Python 3",
   "language": "python",
   "name": "python3"
  },
  "language_info": {
   "codemirror_mode": {
    "name": "ipython",
    "version": 3
   },
   "file_extension": ".py",
   "mimetype": "text/x-python",
   "name": "python",
   "nbconvert_exporter": "python",
   "pygments_lexer": "ipython3",
   "version": "3.7.4"
  }
 },
 "nbformat": 4,
 "nbformat_minor": 2
}
