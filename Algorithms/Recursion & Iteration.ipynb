{
 "cells": [
  {
   "cell_type": "markdown",
   "metadata": {},
   "source": [
    "# 递归和循环"
   ]
  },
  {
   "cell_type": "markdown",
   "metadata": {},
   "source": [
    "- 递归(recursion)：在一个函数的内部调用这个函数自身。\n",
    "- 循环(iteration)：通过设置计算的初始值及终止条件，在一个范围内重复运算。"
   ]
  },
  {
   "cell_type": "markdown",
   "metadata": {},
   "source": [
    "### 常见递归示例"
   ]
  },
  {
   "cell_type": "markdown",
   "metadata": {},
   "source": [
    "#### 1 - 阶乘"
   ]
  },
  {
   "cell_type": "code",
   "execution_count": 7,
   "metadata": {},
   "outputs": [],
   "source": [
    "# recursion\n",
    "def factorial_recur(n):\n",
    "    if n <= 1:\n",
    "        return n\n",
    "    return n * factorial_recur(n-1)"
   ]
  },
  {
   "cell_type": "code",
   "execution_count": 8,
   "metadata": {},
   "outputs": [],
   "source": [
    "# iteration\n",
    "def factorial_iter(n):\n",
    "    res = 1\n",
    "    for i in range(2, n + 1):\n",
    "        res *= i\n",
    "    return res"
   ]
  },
  {
   "cell_type": "code",
   "execution_count": 9,
   "metadata": {},
   "outputs": [
    {
     "name": "stdout",
     "output_type": "stream",
     "text": [
      "120\n",
      "120\n"
     ]
    }
   ],
   "source": [
    "# test case\n",
    "n = 5\n",
    "print(factorial_recur(n))\n",
    "print(factorial_iter(n))"
   ]
  },
  {
   "cell_type": "markdown",
   "metadata": {},
   "source": [
    "#### 2 - 斐波那契数列\n",
    "\n",
    "斐波那契数列定义如下：\n",
    "- F(0) = 0\n",
    "- F(1) = 1\n",
    "- F(n) = F(n-1) + F(n-2)， n > 1\n",
    "\n",
    "写一个函数，输入n，求斐波那契数列的第n项。"
   ]
  },
  {
   "cell_type": "markdown",
   "metadata": {},
   "source": [
    "**递归版**：时间复杂度：O(2<sup>n</sup>)"
   ]
  },
  {
   "cell_type": "code",
   "execution_count": 22,
   "metadata": {},
   "outputs": [],
   "source": [
    "# recursion\n",
    "def Fibonacci_recur(n):\n",
    "    if n == 0:\n",
    "        return 0\n",
    "    if n == 1:\n",
    "        return 1\n",
    "    return Fibonacci_recur(n-1) + Fibonacci_recur(n-2)"
   ]
  },
  {
   "cell_type": "markdown",
   "metadata": {},
   "source": [
    "**循环版**：时间复杂度：O(n)"
   ]
  },
  {
   "cell_type": "code",
   "execution_count": 20,
   "metadata": {},
   "outputs": [],
   "source": [
    "# iteration：时间复杂度O(n)，空间复杂度O(1)\n",
    "def Fibonacci_iter(n):\n",
    "    a, b = 0, 1\n",
    "    for i in range(n):\n",
    "        a, b = b, a + b\n",
    "    return a"
   ]
  },
  {
   "cell_type": "code",
   "execution_count": 21,
   "metadata": {
    "scrolled": true
   },
   "outputs": [
    {
     "name": "stdout",
     "output_type": "stream",
     "text": [
      "55\n",
      "55\n"
     ]
    }
   ],
   "source": [
    "# test case\n",
    "n = 10\n",
    "print(Fibonacci_recur(n))\n",
    "print(Fibonacci_iter(n))"
   ]
  },
  {
   "cell_type": "markdown",
   "metadata": {},
   "source": [
    "#### 3 - 树的遍历\n",
    "\n",
    "参考Binary Tree一节笔记。"
   ]
  },
  {
   "cell_type": "markdown",
   "metadata": {},
   "source": [
    "### 总结\n",
    "\n",
    "递归的优点：\n",
    "\n",
    "- 代码简洁\n",
    "- 逻辑清晰：便于分析问题\n",
    "\n",
    "递归的缺点：\n",
    "\n",
    "- 时间效率和空间效率比循环低\n",
    "- 如果子问题有重叠，使用递归会导致大量的重复计算\n",
    "- 有堆栈溢出的风险\n",
    "\n",
    "在实际解决问题时，我们常用递归分析问题，用循环解决问题。"
   ]
  },
  {
   "cell_type": "code",
   "execution_count": null,
   "metadata": {},
   "outputs": [],
   "source": []
  }
 ],
 "metadata": {
  "kernelspec": {
   "display_name": "Python 3",
   "language": "python",
   "name": "python3"
  },
  "language_info": {
   "codemirror_mode": {
    "name": "ipython",
    "version": 3
   },
   "file_extension": ".py",
   "mimetype": "text/x-python",
   "name": "python",
   "nbconvert_exporter": "python",
   "pygments_lexer": "ipython3",
   "version": "3.7.4"
  }
 },
 "nbformat": 4,
 "nbformat_minor": 2
}
