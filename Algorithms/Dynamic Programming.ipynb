{
 "cells": [
  {
   "cell_type": "markdown",
   "metadata": {},
   "source": [
    "# Dynamic Programming"
   ]
  },
  {
   "cell_type": "markdown",
   "metadata": {},
   "source": [
    "## 1 - 零钱问题\n",
    "\n",
    "给定金钱数额m，有n种面值不同的硬币，求能找零的硬币的最小数量。"
   ]
  },
  {
   "cell_type": "code",
   "execution_count": 1,
   "metadata": {},
   "outputs": [],
   "source": [
    "def Change(money, coins):\n",
    "    min_num = [0] + [float('inf')] * money\n",
    "    for m in range(1, money + 1):\n",
    "        for coin in coins:\n",
    "            if m >= coin and (min_num[m - coin] + 1) < min_num[m]:\n",
    "                    min_num[m] = min_num[m - coin] + 1\n",
    "    return min_num[-1]"
   ]
  },
  {
   "cell_type": "code",
   "execution_count": 2,
   "metadata": {
    "scrolled": true
   },
   "outputs": [
    {
     "data": {
      "text/plain": [
       "2"
      ]
     },
     "execution_count": 2,
     "metadata": {},
     "output_type": "execute_result"
    }
   ],
   "source": [
    "# test case 1\n",
    "money = 6\n",
    "change = [1, 3, 4]\n",
    "Change(money, change)"
   ]
  },
  {
   "cell_type": "markdown",
   "metadata": {},
   "source": [
    "- 时间复杂度：O(nm)\n",
    "- 空间复杂度：O(m)"
   ]
  },
  {
   "cell_type": "markdown",
   "metadata": {},
   "source": [
    "补充：如果要**展示找零结果**，就要单独用一个表格储存每个面值在进行操作前的数额。"
   ]
  },
  {
   "cell_type": "code",
   "execution_count": 3,
   "metadata": {},
   "outputs": [],
   "source": [
    "def Change2(money, coins):\n",
    "    min_num = [0] + [float('inf')] * money\n",
    "    prev = [0] * (money + 1)\n",
    "    for m in range(1, money + 1):\n",
    "        for coin in coins:\n",
    "            if m >= coin:\n",
    "                num_coins = min_num[m - coin] + 1\n",
    "                if num_coins < min_num[m]:\n",
    "                    min_num[m] = num_coins\n",
    "                    prev[m] = m - coin\n",
    "    \n",
    "    # 展示找零结果\n",
    "    sequence = []\n",
    "    while m > 0:\n",
    "        sequence.append(m - prev[m])\n",
    "        m = prev[m]\n",
    "    return min_num[-1], sequence"
   ]
  },
  {
   "cell_type": "code",
   "execution_count": 4,
   "metadata": {},
   "outputs": [
    {
     "data": {
      "text/plain": [
       "(2, [3, 3])"
      ]
     },
     "execution_count": 4,
     "metadata": {},
     "output_type": "execute_result"
    }
   ],
   "source": [
    "# test case\n",
    "Change2(6, [1, 3, 4])"
   ]
  },
  {
   "cell_type": "markdown",
   "metadata": {},
   "source": [
    "类似的问题：**计算器问题**\n",
    "\n",
    "一个计算器只能做×2，×3，+1三种操作。给定一个整数n，要用该计算器将1经操作变换到n，求所需的最少操作数，并展示所有的中间数字。例如，得到5最少需要3个操作，中间经历的数字可以为[1, 2, 4, 5], 也可以为[1, 3, 4, 5]。"
   ]
  },
  {
   "cell_type": "code",
   "execution_count": 5,
   "metadata": {},
   "outputs": [],
   "source": [
    "def MinOperations(n):\n",
    "    min_num = [0] * (n + 1)\n",
    "    prev = [1] * (n + 1)\n",
    "    for i in range(2, n + 1):\n",
    "        tmp = min_num[i - 1]\n",
    "        prev[i] = i - 1\n",
    "        if i % 2 == 0 and min_num[i // 2] < tmp:\n",
    "            tmp = min_num[i // 2]\n",
    "            prev[i] = i // 2\n",
    "        if i % 3 == 0 and min_num[i // 3] < tmp:\n",
    "            tmp = min_num[i // 3]\n",
    "            prev[i] = i // 3\n",
    "        min_num[i] = tmp + 1\n",
    "    \n",
    "    # uncover the solution\n",
    "    sequence = [i]\n",
    "    while i > 1:\n",
    "        i = prev[i]\n",
    "        sequence.append(i)\n",
    "        \n",
    "    return min_num[-1], sequence[::-1]"
   ]
  },
  {
   "cell_type": "code",
   "execution_count": 6,
   "metadata": {},
   "outputs": [
    {
     "data": {
      "text/plain": [
       "(3, [1, 3, 4, 5])"
      ]
     },
     "execution_count": 6,
     "metadata": {},
     "output_type": "execute_result"
    }
   ],
   "source": [
    "# test case\n",
    "MinOperations(5)"
   ]
  },
  {
   "cell_type": "markdown",
   "metadata": {},
   "source": [
    "## 2 - 编辑距离 (Edit Distance)\n",
    "\n",
    "- 编辑距离：把一个字符串A转换为字符串B所需要的最少的**单字符编辑操作**次数。\n",
    "- 编辑距离越大，两个字符串的相似程度就越小。"
   ]
  },
  {
   "cell_type": "markdown",
   "metadata": {},
   "source": [
    "**单字符编辑操作有三种**：\n",
    "\n",
    "- 插入（Insertion）：往A中插入一个字符\n",
    "- 删除（Deletion）：在B中插入一个占位符（相当于删除A中的一个字符）\n",
    "- 替换（Substitution）：替换A中的字符。\n",
    "\n",
    "$D(i, j)$：A的前$i$个字符和B的前$j$个字符之间的编辑距离。要求A和B的编辑距离，就是要求D(|A|, |B|)。\n",
    "\n",
    "递推公式：\n",
    "\n",
    "$$D(i, j)=min\n",
    "\\begin{cases}\n",
    "D(i - 1, j) + 1& \\\\\n",
    "D(i, j - 1) + 1& \\\\\n",
    "D(i - 1, j - 1) + 1& \\text{A[i] != B[j]}\\\\\n",
    "D(i - 1, j - 1)& \\text{A[i] == B[j]}\\\\\n",
    "\\end{cases}$$\n",
    "\n",
    "其中：\n",
    "\n",
    "- D(i - 1, j)表示删除字符A[i]（插入占位符B[j]）\n",
    "- D(i, j - 1)表示插入字符A[i]\n",
    "- D(i - 1, j - 1)表示替换A[i]"
   ]
  },
  {
   "cell_type": "code",
   "execution_count": 7,
   "metadata": {},
   "outputs": [],
   "source": [
    "def EditDistance(A, B):\n",
    "    D = [[0] * (len(B) + 1) for _ in range(len(A) + 1)]\n",
    "    for i in range(len(A) + 1):\n",
    "        D[i][0] = i\n",
    "    for j in range(len(B) + 1):\n",
    "        D[0][j] = j\n",
    "    for j in range(1, len(B) + 1):\n",
    "        for i in range(1, len(A) + 1):\n",
    "            insertion = D[i][j - 1] + 1\n",
    "            deletion = D[i - 1][j] + 1\n",
    "            if A[i - 1] == B[j - 1]:\n",
    "                substitution = D[i - 1][j - 1]\n",
    "            else:\n",
    "                substitution = D[i - 1][j - 1] + 1\n",
    "            D[i][j] = min(insertion, deletion, substitution)\n",
    "    return D[-1][-1]"
   ]
  },
  {
   "cell_type": "code",
   "execution_count": 8,
   "metadata": {},
   "outputs": [
    {
     "data": {
      "text/plain": [
       "3"
      ]
     },
     "execution_count": 8,
     "metadata": {},
     "output_type": "execute_result"
    }
   ],
   "source": [
    "A = 'kitten'\n",
    "B = 'sitting'\n",
    "EditDistance(A, B)"
   ]
  },
  {
   "cell_type": "markdown",
   "metadata": {},
   "source": [
    "- 时间复杂度：O(nm)\n",
    "- 空间复杂度：O(nm)"
   ]
  },
  {
   "cell_type": "markdown",
   "metadata": {},
   "source": [
    "## 3 - 最长公共子序列 (Longest common subsequence)\n",
    "\n",
    "首先区分一下子序列和子串：\n",
    "\n",
    "- 子序列 (subsequence)：序列的部分项按原有的顺序而组成的序列，这些项可以不连续。比如，acf是abcdf的子序列。\n",
    "- 子串 (substring)：序列中一段连续的项组成的序列。比如，abcdf的子串可以是abc，cdf，但不能是acf。\n",
    "\n",
    "递推公式：\n",
    "\n",
    "$$LCS(i, j)=\n",
    "\\begin{cases}\n",
    "0& \\text{if i = 0 or j = 0} \\\\\n",
    "LCS(i - 1, j - 1) + 1& \\text{if i, j > 0 and A[i] == B[j]}\\\\\n",
    "max(LCS(i, j - 1), LCS(i - 1, j))& \\text{if i, j > 0 and A[i] != B[j]}\\\\\n",
    "\\end{cases}$$"
   ]
  },
  {
   "cell_type": "code",
   "execution_count": 9,
   "metadata": {},
   "outputs": [],
   "source": [
    "def LCS(a, b):\n",
    "    lcs = [[0] * (len(b) + 1) for _ in range(len(a) + 1)]\n",
    "    for i in range(1, len(a) + 1):\n",
    "        for j in range(1, len(b) + 1):\n",
    "            if a[i - 1] == b[j - 1]:\n",
    "                lcs[i][j] = lcs[i - 1][j - 1] + 1\n",
    "            else:\n",
    "                lcs[i][j] = max(lcs[i - 1][j], lcs[i][j - 1])\n",
    "    return lcs[-1][-1]"
   ]
  },
  {
   "cell_type": "code",
   "execution_count": 10,
   "metadata": {},
   "outputs": [
    {
     "name": "stdout",
     "output_type": "stream",
     "text": [
      "Longest common substring: 1\n",
      "Edit distance: 4\n"
     ]
    }
   ],
   "source": [
    "# test case\n",
    "a = '433'\n",
    "b = '1524'\n",
    "print('Longest common substring:', LCS(a, b))\n",
    "print('Edit distance:',EditDistance(a, b))"
   ]
  },
  {
   "attachments": {},
   "cell_type": "markdown",
   "metadata": {},
   "source": [
    "## 4 - 背包问题\n",
    "\n",
    "背包问题分类：\n",
    "\n",
    "<img src=\"images/knapsack.png\" style=\"height:100px;\">"
   ]
  },
  {
   "attachments": {},
   "cell_type": "markdown",
   "metadata": {},
   "source": [
    "### 4.1 - 完全背包问题\n",
    "\n",
    "物品重量为[w1, w2, ..., wn], 价值为[v1, v2, ..., vn]，背包最大承重量为W。物品可无限取用，求背包能容纳物品的最大价值。\n",
    "\n",
    "递推公式：\n",
    "\n",
    "<img src=\"images/knapsack2.png\" style=\"height:70px;\">"
   ]
  },
  {
   "cell_type": "code",
   "execution_count": 11,
   "metadata": {},
   "outputs": [],
   "source": [
    "def KnapsackWithRepetitions(capacity, weights, values):\n",
    "    max_val = [0] * (capacity + 1)\n",
    "    for w in range(1, capacity + 1):\n",
    "        for i in range(len(weights)):\n",
    "            if weights[i] <= w:\n",
    "                max_val[w] = max(max_val[w - weights[i]] + values[i], max_val[w])\n",
    "    \n",
    "    return max_val[-1]"
   ]
  },
  {
   "cell_type": "code",
   "execution_count": 12,
   "metadata": {},
   "outputs": [
    {
     "data": {
      "text/plain": [
       "48"
      ]
     },
     "execution_count": 12,
     "metadata": {},
     "output_type": "execute_result"
    }
   ],
   "source": [
    "# test case\n",
    "weights = [6, 3, 4, 2]\n",
    "values = [30, 14, 16, 9]\n",
    "KnapsackWithRepetitions(10, weights, values)"
   ]
  },
  {
   "cell_type": "markdown",
   "metadata": {},
   "source": [
    "- 时间复杂度：O(nW)\n",
    "- 空间复杂度：O(W)"
   ]
  },
  {
   "attachments": {
    "image.png": {
     "image/png": "[encoded data removed]"
    }
   },
   "cell_type": "markdown",
   "metadata": {},
   "source": [
    "### 3.2 - 0/1背包问题\n",
    "\n",
    "物品重量为[w1, w2, ..., wn], 价值为[v1, v2, ..., vn]，背包最大承重量为W。物品数量均只有一个，求背包能容纳物品的最大价值。\n",
    "\n",
    "递推公式：\n",
    "\t\t\t\n",
    "![image.png](attachment:image.png)"
   ]
  },
  {
   "cell_type": "code",
   "execution_count": 13,
   "metadata": {},
   "outputs": [],
   "source": [
    "def KnapsackWithoutRepetitions(capacity, weights, values):\n",
    "    res = [[0] * (len(weights) + 1) for _ in range(capacity + 1)]\n",
    "    for i in range(1, len(weights) + 1):\n",
    "        for w in range(1, capacity + 1):\n",
    "            res[w][i] = res[w][i - 1]\n",
    "            if weights[i - 1] <= w:\n",
    "                tmp = res[w - weights[i - 1]][i - 1] + values[i - 1]\n",
    "                if tmp > res[w][i]:\n",
    "                    res[w][i] = tmp\n",
    "    return res[-1][-1]"
   ]
  },
  {
   "cell_type": "code",
   "execution_count": 14,
   "metadata": {},
   "outputs": [
    {
     "data": {
      "text/plain": [
       "46"
      ]
     },
     "execution_count": 14,
     "metadata": {},
     "output_type": "execute_result"
    }
   ],
   "source": [
    "# test case\n",
    "weights = [6, 3, 4, 2]\n",
    "values = [30, 14, 16, 9]\n",
    "KnapsackWithoutRepetitions(10, weights, values)"
   ]
  },
  {
   "cell_type": "markdown",
   "metadata": {},
   "source": [
    "- 时间复杂度： O(nW)\n",
    "- 空间复杂度： O(nW)"
   ]
  },
  {
   "cell_type": "markdown",
   "metadata": {},
   "source": [
    "追溯获得最大价值时背包里装的东西："
   ]
  },
  {
   "cell_type": "code",
   "execution_count": 15,
   "metadata": {},
   "outputs": [],
   "source": [
    "def KnapsackWithoutRepetitions2(capacity, weights, values):\n",
    "    max_val = [[0] * (len(weights) + 1) for _ in range(capacity + 1)]\n",
    "    for i in range(1, len(weights) + 1):\n",
    "        for w in range(1, capacity + 1):\n",
    "            max_val[w][i] = max_val[w][i - 1]\n",
    "            if weights[i - 1] <= w:\n",
    "                tmp = max_val[w - weights[i - 1]][i - 1] + values[i - 1]\n",
    "                if tmp > max_val[w][i]:\n",
    "                    max_val[w][i] = tmp\n",
    "\n",
    "    optimal_solution = [0] * (len(weights) + 1)\n",
    "    while w > 0 and i > 0:\n",
    "        if max_val[w][i] == max_val[w - weights[i - 1]][i - 1] + values[i - 1]:\n",
    "            optimal_solution[i] = 1\n",
    "            w = w - weights[i - 1]\n",
    "        i -= 1\n",
    "            \n",
    "    return max_val[-1][-1], optimal_solution"
   ]
  },
  {
   "cell_type": "code",
   "execution_count": 16,
   "metadata": {},
   "outputs": [
    {
     "data": {
      "text/plain": [
       "(46, [0, 1, 0, 1, 0])"
      ]
     },
     "execution_count": 16,
     "metadata": {},
     "output_type": "execute_result"
    }
   ],
   "source": [
    "# test case 2\n",
    "weights = [6, 3, 4, 2]\n",
    "values = [30, 14, 16, 9]\n",
    "KnapsackWithoutRepetitions2(10, weights, values)"
   ]
  },
  {
   "cell_type": "markdown",
   "metadata": {},
   "source": [
    "如果不需要追溯背包问题的最优解，则可以**将二维背包简化为一维背包**。\n",
    "\n",
    "原因：每次计算value[w][i]都只用得上两个值：value[w - wi][i - 1], value[w][i - 1]。这两个值都位于表格的第(i - 1)列，因此我们可以把res压缩为一维的、有(W + 1)个格子的列表，每次迭代直接在该列表上更新，最后输出的结果即为列表最后一个格子里的值。"
   ]
  },
  {
   "cell_type": "code",
   "execution_count": 23,
   "metadata": {},
   "outputs": [],
   "source": [
    "def OneDKnacpsack(capacity, weights, values):\n",
    "    res = [0] * (capacity + 1)\n",
    "    for i in range(len(weights)):\n",
    "        for w in range(capacity, weights[i] - 1, -1):\n",
    "            res[w] = max(res[w - weights[i]] + values[i], res[w])\n",
    "    return res[-1]"
   ]
  },
  {
   "cell_type": "code",
   "execution_count": 24,
   "metadata": {},
   "outputs": [
    {
     "data": {
      "text/plain": [
       "46"
      ]
     },
     "execution_count": 24,
     "metadata": {},
     "output_type": "execute_result"
    }
   ],
   "source": [
    "# test case \n",
    "weights = [6, 3, 4, 2]\n",
    "values = [30, 14, 16, 9]\n",
    "OneDKnacpsack(10, weights, values)"
   ]
  },
  {
   "cell_type": "code",
   "execution_count": null,
   "metadata": {},
   "outputs": [],
   "source": []
  }
 ],
 "metadata": {
  "kernelspec": {
   "display_name": "Python 3",
   "language": "python",
   "name": "python3"
  },
  "language_info": {
   "codemirror_mode": {
    "name": "ipython",
    "version": 3
   },
   "file_extension": ".py",
   "mimetype": "text/x-python",
   "name": "python",
   "nbconvert_exporter": "python",
   "pygments_lexer": "ipython3",
   "version": "3.7.4"
  }
 },
 "nbformat": 4,
 "nbformat_minor": 2
}
